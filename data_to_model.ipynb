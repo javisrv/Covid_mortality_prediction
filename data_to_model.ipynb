{
 "cells": [
  {
   "cell_type": "markdown",
   "id": "f6ff4f87",
   "metadata": {},
   "source": [
    "I recommend to view the file at https://nbviewer.org/github/javisrv/Covid_mortality_prediction/blob/main/data_to_model.ipynb"
   ]
  },
  {
   "cell_type": "markdown",
   "id": "69fccd58",
   "metadata": {},
   "source": [
    "# PREDICTING COVID-19 MORTALITY: Model Building"
   ]
  },
  {
   "cell_type": "markdown",
   "id": "3b706828",
   "metadata": {},
   "source": [
    "# [1- Loading basic libraries](#1)\n",
    "\n",
    "# [2- Data frame loading and transforming](#2)\n",
    " \n",
    " - ## [A- Data loading and selection of columns](#2.A)\n",
    " - ## [B- OneHotEncoder()](#2.B)\n",
    " - ## [C- train_test_split()](#2.C)\n",
    " - ## [D- StandardScaler()](#2.D)\n",
    " - ## [E- Feature selection](#2.E)\n",
    "     - ### [E.1- Statsmodel](#2.E.1)\n",
    "     - ### [E.2- Correlation with heatmap](#2.E.2)\n",
    "     - ### [E.3- VIF()](#2.E.3)\n",
    "     - ### [E.4- RFE()](#2.E.4)\n",
    "     \n",
    "# [3- Justification of metrics](#3)\n",
    "\n",
    "- ## [A- Data loading and selection of columns](#3.A)\n",
    "- ## [B- Choosing metrics](#3.B) \n",
    "\n",
    "# [4- Linear Regression](#4)\n",
    "\n",
    "# [5- Conclusion](#5)\n"
   ]
  },
  {
   "cell_type": "markdown",
   "id": "d97a9f40",
   "metadata": {},
   "source": [
    "<a id='1'></a>\n",
    "\n",
    "---"
   ]
  },
  {
   "cell_type": "markdown",
   "id": "89ba1460",
   "metadata": {},
   "source": [
    "# 1. Loading basic libraries"
   ]
  },
  {
   "cell_type": "code",
   "execution_count": 2,
   "id": "9c9202f1",
   "metadata": {},
   "outputs": [],
   "source": [
    "import time\n",
    "import pandas as pd\n",
    "import numpy as np\n",
    "import random\n",
    "import matplotlib.pyplot as plt\n",
    "from matplotlib.colors import ListedColormap\n",
    "import seaborn as sns\n",
    "from sklearn.model_selection import train_test_split\n",
    "from sklearn.preprocessing import OneHotEncoder, StandardScaler\n",
    "from statsmodels.stats.outliers_influence import variance_inflation_factor\n",
    "from statsmodels.tools.tools import add_constant\n",
    "import statsmodels.api as sm\n",
    "from sklearn.feature_selection import RFE\n",
    "from sklearn.ensemble import RandomForestClassifier\n",
    "from sklearn.linear_model import LogisticRegression\n",
    "from sklearn.model_selection import GridSearchCV, StratifiedKFold\n",
    "from sklearn.metrics import accuracy_score, f1_score, precision_score, recall_score, confusion_matrix, roc_curve, auc, roc_auc_score, classification_report"
   ]
  },
  {
   "cell_type": "markdown",
   "id": "30786436",
   "metadata": {},
   "source": [
    "---"
   ]
  },
  {
   "cell_type": "markdown",
   "id": "0c9796fc",
   "metadata": {},
   "source": [
    "# FUNCTIONS"
   ]
  },
  {
   "cell_type": "code",
   "execution_count": 3,
   "id": "5f23546f",
   "metadata": {},
   "outputs": [],
   "source": [
    "def conf_matrix(Y_train, Y_train_pred, Y_test, Y_test_pred):\n",
    "    # Train Confusion Matrix \n",
    "    cf_matrix_train = confusion_matrix(Y_train, Y_train_pred)\n",
    "    group_names_train = [\"True Neg\", \"False Pos\", \"False Neg\", \"True Pos\"]\n",
    "    group_counts_train = [\"{0:0.0f}\".format(value) for value in cf_matrix_train.flatten()]\n",
    "    labels_train = [f\"{v1}\\n{v2}\" for v1, v2 in zip(group_names_train, group_counts_train)]\n",
    "    labels_train = np.asarray(labels_train).reshape(2,2)\n",
    "    \n",
    "    # Test Confusion Matrix     \n",
    "    cf_matrix_test = confusion_matrix(Y_test, Y_test_pred)\n",
    "    group_names_test = [\"True Neg\", \"False Pos\", \"False Neg\", \"True Pos\"]\n",
    "    group_counts_test = [\"{0:0.0f}\".format(value) for value in cf_matrix_test.flatten()]\n",
    "    labels_test = [f\"{v1}\\n{v2}\" for v1, v2 in zip(group_names_test, group_counts_test)]\n",
    "    labels_test = np.asarray(labels_test).reshape(2,2)\n",
    "    \n",
    "    # Graphics\n",
    "    fig, ax = plt.subplots(nrows = 1, ncols = 2, figsize = (12, 4))\n",
    "    sns.heatmap(cf_matrix_train, annot = labels_train, annot_kws = {'size': 14}, fmt = \"\", cmap = ListedColormap([\"white\"]), cbar = False, linewidths = 4, linecolor = 'black', ax = ax[0])\n",
    "    sns.heatmap(cf_matrix_test, annot = labels_test, annot_kws = {'size': 14}, fmt = \"\", cmap = ListedColormap([\"white\"]), cbar = False, linewidths = 4, linecolor = 'black', ax = ax[1])\n",
    "    \n",
    "    # Titles, labels, ticks, etc\n",
    "    ax[0].set_title(\"Train Confusion Matrix\", fontsize = 20)\n",
    "    ax[1].set_title(\"Test Confusion Matrix\", fontsize = 20)\n",
    "    ax[0].set_xticks([])\n",
    "    ax[0].set_yticks([])\n",
    "    ax[1].set_xticks([])\n",
    "    ax[1].set_yticks([])\n",
    "    plt.show()\n",
    "    \n",
    "    print(\"---\" * 34)"
   ]
  },
  {
   "cell_type": "code",
   "execution_count": 4,
   "id": "ceb3da88",
   "metadata": {},
   "outputs": [],
   "source": [
    "def roc_curve_graph(Y_test, Y_test_pred_proba):\n",
    "    fpr, tpr, thr = roc_curve(Y_test, Y_test_pred_proba) \n",
    "\n",
    "    plt.figure(figsize = (8,8))\n",
    "\n",
    "    plt.plot(fpr, tpr, color = \"black\")\n",
    "    plt.plot(np.arange(0,1, step =0.01), np.arange(0,1, step =0.01), color = \"darkgreen\", linestyle = \"--\")\n",
    "\n",
    "    plt.title(\"Test ROC Curve\", fontsize = 18) \n",
    "    plt.xlabel(\"1 - Specificty\", fontsize = 16)\n",
    "    plt.ylabel(\"Sensitivity\", fontsize = 16)\n",
    "\n",
    "    plt.ylim(0,1)\n",
    "    plt.xlim(0,1)\n",
    "    plt.yticks(ticks = [0,0.2,0.4,0.6,0.8,1], labels = [\"\",0.2,0.4,0.6,0.8,1], fontsize = 14)\n",
    "    plt.xticks(fontsize = 14)\n",
    "\n",
    "    style = dict(size = 14, color = \"black\", fontstyle = \"oblique\")\n",
    "    props = dict(boxstyle = \"round\", facecolor = \"grey\", alpha=0.5)\n",
    "\n",
    "    auc_score = round(auc(fpr, tpr), 2)\n",
    "\n",
    "    plt.text(0.85, 0.1, f\"AUC = {auc_score}\", ha = \"center\", va = \"bottom\", **style, bbox = props)\n",
    "\n",
    "    plt.show()\n",
    "    \n",
    "    print(\"---\" * 34)"
   ]
  },
  {
   "cell_type": "code",
   "execution_count": 5,
   "id": "47955095",
   "metadata": {},
   "outputs": [],
   "source": [
    "def metrics(Y_train, Y_test, Y_train_pred, Y_test_pred, Y_train_pred_proba, Y_test_pred_proba):\n",
    "    print(f\"\\tTrain Precision Score:{precision_score(Y_train, Y_train_pred):.3f}\")\n",
    "    print(f\"\\tTest Precision Score:{precision_score(Y_test, Y_test_pred):.3f}\")\n",
    "    print(\"\\t---\" * 4)\n",
    "    print(f\"\\tTrain Recall Score:{recall_score(Y_train, Y_train_pred):.3f}\")\n",
    "    print(f\"\\tTest Recall Score:{recall_score(Y_test, Y_test_pred):.3f}\")\n",
    "    print(\"\\t---\" * 4)\n",
    "    print(f\"\\tTrain ROC AUC Score:{roc_auc_score(Y_train, Y_train_pred_proba):.3f}\")\n",
    "    print(f\"\\tTest ROC AUC Score:{roc_auc_score(Y_test, Y_test_pred_proba):.3f}\")\n",
    "    print(\"---\" * 34)"
   ]
  },
  {
   "cell_type": "code",
   "execution_count": 80,
   "id": "e35975f9",
   "metadata": {},
   "outputs": [],
   "source": [
    "def fit_train(model):\n",
    "    print(\"For\", str(model).split(\"(\")[0],\":\")\n",
    "    global fit\n",
    "    fit = model.fit(X_train_std, y_train.values.reshape(-1,))\n",
    "    \n",
    "    y_train_pred = model.predict(X_train_std)\n",
    "    y_test_pred = model.predict(X_test_std)\n",
    "    \n",
    "    y_train_pred_proba = model.predict_proba(X_train_std)[:, 1]\n",
    "    y_test_pred_proba = model.predict_proba(X_test_std)[:, 1]\n",
    "\n",
    "    metrics(y_train, y_test, y_train_pred, y_test_pred, y_train_pred_proba, y_test_pred_proba)\n",
    "    \n",
    "    conf_matrix(y_train, y_train_pred, y_test, y_test_pred)\n",
    "    roc_curve_graph(y_test, y_test_pred_proba)\n",
    "    print(classification_report(y_test, y_test_pred))"
   ]
  },
  {
   "cell_type": "markdown",
   "id": "2966c2ba",
   "metadata": {},
   "source": [
    "<a id='2'></a>\n",
    "\n",
    "---"
   ]
  },
  {
   "cell_type": "markdown",
   "id": "ee86c337",
   "metadata": {},
   "source": [
    "# 2. Data frame loading and transforming"
   ]
  },
  {
   "cell_type": "markdown",
   "id": "dd1d7dd3",
   "metadata": {},
   "source": [
    "<a id='2.A'></a>\n",
    "\n",
    "---"
   ]
  },
  {
   "cell_type": "markdown",
   "id": "7d32e07a",
   "metadata": {},
   "source": [
    "## A. Data loading and selection of columns"
   ]
  },
  {
   "cell_type": "markdown",
   "id": "44c598c9",
   "metadata": {},
   "source": [
    "First the .csv file is uploaded"
   ]
  },
  {
   "cell_type": "code",
   "execution_count": 7,
   "id": "3623d453",
   "metadata": {},
   "outputs": [
    {
     "data": {
      "text/html": [
       "<div>\n",
       "<style scoped>\n",
       "    .dataframe tbody tr th:only-of-type {\n",
       "        vertical-align: middle;\n",
       "    }\n",
       "\n",
       "    .dataframe tbody tr th {\n",
       "        vertical-align: top;\n",
       "    }\n",
       "\n",
       "    .dataframe thead th {\n",
       "        text-align: right;\n",
       "    }\n",
       "</style>\n",
       "<table border=\"1\" class=\"dataframe\">\n",
       "  <thead>\n",
       "    <tr style=\"text-align: right;\">\n",
       "      <th></th>\n",
       "      <th>Register_date</th>\n",
       "      <th>Diagnosis_date</th>\n",
       "      <th>Death_date</th>\n",
       "      <th>Result_PCR</th>\n",
       "      <th>Result_RapidTest</th>\n",
       "      <th>Classification</th>\n",
       "      <th>Hospitalized</th>\n",
       "      <th>Evolution</th>\n",
       "      <th>Gender</th>\n",
       "      <th>Race</th>\n",
       "      <th>...</th>\n",
       "      <th>Comorbidity_cardiac</th>\n",
       "      <th>Comorbidity_renal</th>\n",
       "      <th>Comorbidity_diabetes</th>\n",
       "      <th>Comorbidity_smoking</th>\n",
       "      <th>Comorbidity_obesity</th>\n",
       "      <th>Delta_RegDiag</th>\n",
       "      <th>Delta_DeathReg</th>\n",
       "      <th>Age</th>\n",
       "      <th>n_comor</th>\n",
       "      <th>n_symp</th>\n",
       "    </tr>\n",
       "  </thead>\n",
       "  <tbody>\n",
       "    <tr>\n",
       "      <th>0</th>\n",
       "      <td>2021-11-11</td>\n",
       "      <td>2021-11-10</td>\n",
       "      <td>NaT</td>\n",
       "      <td>Positive</td>\n",
       "      <td>NaN</td>\n",
       "      <td>Confirmed</td>\n",
       "      <td>NaN</td>\n",
       "      <td>Cured</td>\n",
       "      <td>Femenine</td>\n",
       "      <td>Brown</td>\n",
       "      <td>...</td>\n",
       "      <td>No</td>\n",
       "      <td>No</td>\n",
       "      <td>No</td>\n",
       "      <td>No</td>\n",
       "      <td>No</td>\n",
       "      <td>1</td>\n",
       "      <td>NaN</td>\n",
       "      <td>39.0</td>\n",
       "      <td>0</td>\n",
       "      <td>6</td>\n",
       "    </tr>\n",
       "    <tr>\n",
       "      <th>1</th>\n",
       "      <td>2021-11-10</td>\n",
       "      <td>2021-11-08</td>\n",
       "      <td>NaT</td>\n",
       "      <td>Positive</td>\n",
       "      <td>NaN</td>\n",
       "      <td>Confirmed</td>\n",
       "      <td>No</td>\n",
       "      <td>Cured</td>\n",
       "      <td>Masculine</td>\n",
       "      <td>White</td>\n",
       "      <td>...</td>\n",
       "      <td>No</td>\n",
       "      <td>No</td>\n",
       "      <td>No</td>\n",
       "      <td>No</td>\n",
       "      <td>No</td>\n",
       "      <td>2</td>\n",
       "      <td>NaN</td>\n",
       "      <td>24.0</td>\n",
       "      <td>0</td>\n",
       "      <td>4</td>\n",
       "    </tr>\n",
       "    <tr>\n",
       "      <th>2</th>\n",
       "      <td>2021-11-02</td>\n",
       "      <td>2021-10-29</td>\n",
       "      <td>NaT</td>\n",
       "      <td>Positive</td>\n",
       "      <td>Positive</td>\n",
       "      <td>Confirmed</td>\n",
       "      <td>No</td>\n",
       "      <td>Cured</td>\n",
       "      <td>Masculine</td>\n",
       "      <td>NaN</td>\n",
       "      <td>...</td>\n",
       "      <td>No</td>\n",
       "      <td>No</td>\n",
       "      <td>No</td>\n",
       "      <td>No</td>\n",
       "      <td>No</td>\n",
       "      <td>4</td>\n",
       "      <td>NaN</td>\n",
       "      <td>77.0</td>\n",
       "      <td>0</td>\n",
       "      <td>3</td>\n",
       "    </tr>\n",
       "    <tr>\n",
       "      <th>3</th>\n",
       "      <td>2021-11-09</td>\n",
       "      <td>2021-11-02</td>\n",
       "      <td>NaT</td>\n",
       "      <td>Positive</td>\n",
       "      <td>NaN</td>\n",
       "      <td>Confirmed</td>\n",
       "      <td>NaN</td>\n",
       "      <td>Cured</td>\n",
       "      <td>Femenine</td>\n",
       "      <td>Brown</td>\n",
       "      <td>...</td>\n",
       "      <td>No</td>\n",
       "      <td>No</td>\n",
       "      <td>No</td>\n",
       "      <td>No</td>\n",
       "      <td>No</td>\n",
       "      <td>7</td>\n",
       "      <td>NaN</td>\n",
       "      <td>33.0</td>\n",
       "      <td>0</td>\n",
       "      <td>5</td>\n",
       "    </tr>\n",
       "    <tr>\n",
       "      <th>4</th>\n",
       "      <td>2021-11-09</td>\n",
       "      <td>2021-11-09</td>\n",
       "      <td>NaT</td>\n",
       "      <td>Positive</td>\n",
       "      <td>NaN</td>\n",
       "      <td>Confirmed</td>\n",
       "      <td>NaN</td>\n",
       "      <td>Cured</td>\n",
       "      <td>Femenine</td>\n",
       "      <td>Brown</td>\n",
       "      <td>...</td>\n",
       "      <td>No</td>\n",
       "      <td>No</td>\n",
       "      <td>No</td>\n",
       "      <td>No</td>\n",
       "      <td>No</td>\n",
       "      <td>0</td>\n",
       "      <td>NaN</td>\n",
       "      <td>59.0</td>\n",
       "      <td>0</td>\n",
       "      <td>1</td>\n",
       "    </tr>\n",
       "  </tbody>\n",
       "</table>\n",
       "<p>5 rows × 30 columns</p>\n",
       "</div>"
      ],
      "text/plain": [
       "  Register_date Diagnosis_date Death_date Result_PCR Result_RapidTest  \\\n",
       "0    2021-11-11     2021-11-10        NaT   Positive              NaN   \n",
       "1    2021-11-10     2021-11-08        NaT   Positive              NaN   \n",
       "2    2021-11-02     2021-10-29        NaT   Positive         Positive   \n",
       "3    2021-11-09     2021-11-02        NaT   Positive              NaN   \n",
       "4    2021-11-09     2021-11-09        NaT   Positive              NaN   \n",
       "\n",
       "  Classification Hospitalized Evolution     Gender   Race  ...  \\\n",
       "0      Confirmed          NaN     Cured   Femenine  Brown  ...   \n",
       "1      Confirmed           No     Cured  Masculine  White  ...   \n",
       "2      Confirmed           No     Cured  Masculine    NaN  ...   \n",
       "3      Confirmed          NaN     Cured   Femenine  Brown  ...   \n",
       "4      Confirmed          NaN     Cured   Femenine  Brown  ...   \n",
       "\n",
       "  Comorbidity_cardiac Comorbidity_renal Comorbidity_diabetes  \\\n",
       "0                  No                No                   No   \n",
       "1                  No                No                   No   \n",
       "2                  No                No                   No   \n",
       "3                  No                No                   No   \n",
       "4                  No                No                   No   \n",
       "\n",
       "  Comorbidity_smoking Comorbidity_obesity Delta_RegDiag Delta_DeathReg   Age  \\\n",
       "0                  No                  No             1            NaN  39.0   \n",
       "1                  No                  No             2            NaN  24.0   \n",
       "2                  No                  No             4            NaN  77.0   \n",
       "3                  No                  No             7            NaN  33.0   \n",
       "4                  No                  No             0            NaN  59.0   \n",
       "\n",
       "  n_comor n_symp  \n",
       "0       0      6  \n",
       "1       0      4  \n",
       "2       0      3  \n",
       "3       0      5  \n",
       "4       0      1  \n",
       "\n",
       "[5 rows x 30 columns]"
      ]
     },
     "execution_count": 7,
     "metadata": {},
     "output_type": "execute_result"
    }
   ],
   "source": [
    "df = pd.read_csv(\"df_to_analize.csv\", index_col = 0, encoding = \"latin-1\", parse_dates = [\"Register_date\", \"Diagnosis_date\", \"Death_date\"])\n",
    "df.head()"
   ]
  },
  {
   "cell_type": "markdown",
   "id": "0f12af45",
   "metadata": {},
   "source": [
    "The file contains 384,429 rows and 30 columns."
   ]
  },
  {
   "cell_type": "code",
   "execution_count": 8,
   "id": "ca23b015",
   "metadata": {},
   "outputs": [
    {
     "data": {
      "text/plain": [
       "(384429, 30)"
      ]
     },
     "execution_count": 8,
     "metadata": {},
     "output_type": "execute_result"
    }
   ],
   "source": [
    "df.shape"
   ]
  },
  {
   "cell_type": "markdown",
   "id": "c8f9902a",
   "metadata": {},
   "source": [
    "Names of the columns."
   ]
  },
  {
   "cell_type": "code",
   "execution_count": 9,
   "id": "a3921b17",
   "metadata": {},
   "outputs": [
    {
     "data": {
      "text/plain": [
       "Index(['Register_date', 'Diagnosis_date', 'Death_date', 'Result_PCR',\n",
       "       'Result_RapidTest', 'Classification', 'Hospitalized', 'Evolution',\n",
       "       'Gender', 'Race', 'Pregnant', 'Disabled', 'Fever', 'Breath_difficulty',\n",
       "       'Cough', 'Rhinitis', 'Throat_pain', 'Diarrhea', 'Headache',\n",
       "       'Comorbidity_pulmonary', 'Comorbidity_cardiac', 'Comorbidity_renal',\n",
       "       'Comorbidity_diabetes', 'Comorbidity_smoking', 'Comorbidity_obesity',\n",
       "       'Delta_RegDiag', 'Delta_DeathReg', 'Age', 'n_comor', 'n_symp'],\n",
       "      dtype='object')"
      ]
     },
     "execution_count": 9,
     "metadata": {},
     "output_type": "execute_result"
    }
   ],
   "source": [
    "df.columns"
   ]
  },
  {
   "cell_type": "markdown",
   "id": "685141f6",
   "metadata": {},
   "source": [
    "A problem of unbalanced classes is observed."
   ]
  },
  {
   "cell_type": "code",
   "execution_count": 10,
   "id": "7b6308c0",
   "metadata": {},
   "outputs": [
    {
     "data": {
      "text/plain": [
       "Cured    376739\n",
       "Death      7690\n",
       "Name: Evolution, dtype: int64"
      ]
     },
     "execution_count": 10,
     "metadata": {},
     "output_type": "execute_result"
    }
   ],
   "source": [
    "df[\"Evolution\"].value_counts()"
   ]
  },
  {
   "cell_type": "markdown",
   "id": "43467bfc",
   "metadata": {},
   "source": [
    "Columns that will not be part of the predictive models are eliminated."
   ]
  },
  {
   "cell_type": "code",
   "execution_count": 11,
   "id": "d925f172",
   "metadata": {},
   "outputs": [],
   "source": [
    "df = df.drop([\"Result_PCR\", \"Result_RapidTest\", \"Classification\", \"Death_date\", \"Register_date\", \"Diagnosis_date\", \"Delta_DeathReg\"], axis = 1)"
   ]
  },
  {
   "cell_type": "markdown",
   "id": "fc58c259",
   "metadata": {},
   "source": [
    "- Null values are searched.\n",
    "\n",
    "- The nan will be replaced by `No`."
   ]
  },
  {
   "cell_type": "code",
   "execution_count": 12,
   "id": "b6a365f0",
   "metadata": {},
   "outputs": [
    {
     "data": {
      "text/plain": [
       "Hospitalized             206123\n",
       "Pregnant                 178427\n",
       "Race                      82187\n",
       "Disabled                   4480\n",
       "Comorbidity_obesity         191\n",
       "Fever                        30\n",
       "Comorbidity_cardiac          29\n",
       "Comorbidity_pulmonary        20\n",
       "Headache                     18\n",
       "Breath_difficulty            16\n",
       "Comorbidity_diabetes         16\n",
       "Throat_pain                  15\n",
       "Rhinitis                     13\n",
       "Cough                        12\n",
       "Diarrhea                     11\n",
       "Comorbidity_smoking          10\n",
       "Comorbidity_renal             7\n",
       "Evolution                     0\n",
       "Gender                        0\n",
       "Delta_RegDiag                 0\n",
       "Age                           0\n",
       "n_comor                       0\n",
       "n_symp                        0\n",
       "dtype: int64"
      ]
     },
     "execution_count": 12,
     "metadata": {},
     "output_type": "execute_result"
    }
   ],
   "source": [
    "df.isna().sum().sort_values(ascending = False)"
   ]
  },
  {
   "cell_type": "code",
   "execution_count": 13,
   "id": "5c077b8d",
   "metadata": {},
   "outputs": [],
   "source": [
    "symptoms_cols = [\"Fever\", \"Breath_difficulty\", \"Cough\", \"Rhinitis\", \"Throat_pain\", \"Diarrhea\", \"Headache\"]\n",
    "comorbidity_cols = [\"Comorbidity_pulmonary\", \"Comorbidity_cardiac\", \"Comorbidity_renal\", \"Comorbidity_diabetes\", \"Comorbidity_smoking\", \"Comorbidity_obesity\"]"
   ]
  },
  {
   "cell_type": "code",
   "execution_count": 14,
   "id": "7a2ceac2",
   "metadata": {},
   "outputs": [],
   "source": [
    "df[symptoms_cols] = df[symptoms_cols].replace(np.nan, \"No\") \n",
    "df[comorbidity_cols] = df[comorbidity_cols].replace(np.nan, \"No\") \n",
    "df[[\"Hospitalized\", \"Pregnant\", \"Disabled\"]] = df[[\"Hospitalized\", \"Pregnant\", \"Disabled\"]].replace(np.nan, \"No\") \n",
    "df[\"Race\"] = df[\"Race\"].replace(np.nan, random.choice([\"Brown\", \"White\"]))"
   ]
  },
  {
   "cell_type": "markdown",
   "id": "835e15df",
   "metadata": {},
   "source": [
    "It is now observed that there are no `nan` values."
   ]
  },
  {
   "cell_type": "code",
   "execution_count": 139,
   "id": "84b298e4",
   "metadata": {},
   "outputs": [
    {
     "data": {
      "text/plain": [
       "Hospitalized             0\n",
       "Headache                 0\n",
       "n_comor                  0\n",
       "Age                      0\n",
       "Delta_RegDiag            0\n",
       "Comorbidity_obesity      0\n",
       "Comorbidity_smoking      0\n",
       "Comorbidity_diabetes     0\n",
       "Comorbidity_renal        0\n",
       "Comorbidity_cardiac      0\n",
       "Comorbidity_pulmonary    0\n",
       "Diarrhea                 0\n",
       "Evolution                0\n",
       "Throat_pain              0\n",
       "Rhinitis                 0\n",
       "Cough                    0\n",
       "Breath_difficulty        0\n",
       "Fever                    0\n",
       "Disabled                 0\n",
       "Pregnant                 0\n",
       "Race                     0\n",
       "Gender                   0\n",
       "n_symp                   0\n",
       "dtype: int64"
      ]
     },
     "execution_count": 139,
     "metadata": {},
     "output_type": "execute_result"
    }
   ],
   "source": [
    "df.isna().sum().sort_values(ascending = False)"
   ]
  },
  {
   "cell_type": "markdown",
   "id": "2f6410d8",
   "metadata": {},
   "source": [
    "Finally 384,429 rows and 23 columns remain."
   ]
  },
  {
   "cell_type": "code",
   "execution_count": 15,
   "id": "29725bb2",
   "metadata": {},
   "outputs": [
    {
     "data": {
      "text/plain": [
       "(384429, 23)"
      ]
     },
     "execution_count": 15,
     "metadata": {},
     "output_type": "execute_result"
    }
   ],
   "source": [
    "df.shape"
   ]
  },
  {
   "cell_type": "markdown",
   "id": "0d8988ca",
   "metadata": {},
   "source": [
    "The Age variable is transformed into a categorical variable."
   ]
  },
  {
   "cell_type": "code",
   "execution_count": 16,
   "id": "b057cc3a",
   "metadata": {},
   "outputs": [],
   "source": [
    "df[\"Age_cat\"] = pd.cut(x = df[\"Age\"],\n",
    "       bins = [17, 24, 34, 44, 54, 64, np.inf],\n",
    "       labels=['18-24', '25-34', '35-44','45-54', '55-64', '+65']).astype(\"str\")"
   ]
  },
  {
   "cell_type": "code",
   "execution_count": 19,
   "id": "33f9d702",
   "metadata": {},
   "outputs": [
    {
     "data": {
      "text/plain": [
       "35-44    96355\n",
       "25-34    90916\n",
       "45-54    68711\n",
       "18-24    46387\n",
       "55-64    46310\n",
       "+65      35750\n",
       "Name: Age_cat, dtype: int64"
      ]
     },
     "execution_count": 19,
     "metadata": {},
     "output_type": "execute_result"
    }
   ],
   "source": [
    "df[\"Age_cat\"].value_counts()"
   ]
  },
  {
   "cell_type": "markdown",
   "id": "2e22355a",
   "metadata": {},
   "source": [
    "<a id='2.B'></a>\n",
    "\n",
    "---"
   ]
  },
  {
   "cell_type": "markdown",
   "id": "175635f0",
   "metadata": {},
   "source": [
    "## B. OneHotEncoder()"
   ]
  },
  {
   "cell_type": "markdown",
   "id": "d924eedd",
   "metadata": {},
   "source": [
    "Categorical variables are transformed into dummy variables."
   ]
  },
  {
   "cell_type": "code",
   "execution_count": 23,
   "id": "28fc4115",
   "metadata": {},
   "outputs": [],
   "source": [
    "categoricals = [\"Hospitalized\", \"Evolution\", \"Gender\", \"Race\", \"Pregnant\", \"Disabled\", \n",
    "                \"Fever\", \"Breath_difficulty\", \"Cough\", \"Rhinitis\", \"Throat_pain\", \"Diarrhea\", \"Headache\", \n",
    "                \"Comorbidity_pulmonary\", \"Comorbidity_cardiac\", \"Comorbidity_renal\", \"Comorbidity_diabetes\", \"Comorbidity_smoking\", \"Comorbidity_obesity\", \"Age_cat\"]"
   ]
  },
  {
   "cell_type": "code",
   "execution_count": 24,
   "id": "70d17b00",
   "metadata": {
    "scrolled": true
   },
   "outputs": [
    {
     "data": {
      "text/plain": [
       "[array(['No', 'Yes'], dtype=object),\n",
       " array(['Cured', 'Death'], dtype=object),\n",
       " array(['Femenine', 'Masculine'], dtype=object),\n",
       " array(['Black', 'Brown', 'Indigenous', 'White', 'Yellow'], dtype=object),\n",
       " array(['No', 'Yes'], dtype=object),\n",
       " array(['No', 'Yes'], dtype=object),\n",
       " array(['No', 'Yes'], dtype=object),\n",
       " array(['No', 'Yes'], dtype=object),\n",
       " array(['No', 'Yes'], dtype=object),\n",
       " array(['No', 'Yes'], dtype=object),\n",
       " array(['No', 'Yes'], dtype=object),\n",
       " array(['No', 'Yes'], dtype=object),\n",
       " array(['No', 'Yes'], dtype=object),\n",
       " array(['No', 'Yes'], dtype=object),\n",
       " array(['No', 'Yes'], dtype=object),\n",
       " array(['No', 'Yes'], dtype=object),\n",
       " array(['No', 'Yes'], dtype=object),\n",
       " array(['No', 'Yes'], dtype=object),\n",
       " array(['No', 'Yes'], dtype=object),\n",
       " array(['+65', '18-24', '25-34', '35-44', '45-54', '55-64'], dtype=object)]"
      ]
     },
     "execution_count": 24,
     "metadata": {},
     "output_type": "execute_result"
    }
   ],
   "source": [
    "enc = OneHotEncoder(drop = \"first\")\n",
    "X = df[categoricals]\n",
    "enc.fit(X)\n",
    "enc.categories_"
   ]
  },
  {
   "cell_type": "code",
   "execution_count": 25,
   "id": "a34b46cd",
   "metadata": {},
   "outputs": [],
   "source": [
    "dummies = enc.transform(X).toarray()"
   ]
  },
  {
   "cell_type": "code",
   "execution_count": 26,
   "id": "68979686",
   "metadata": {},
   "outputs": [
    {
     "data": {
      "text/plain": [
       "array([[0., 0., 0., 1., 0., 0., 0., 0., 0., 1., 1., 0., 1., 1., 1., 1.,\n",
       "        0., 0., 0., 0., 0., 0., 0., 0., 1., 0., 0.],\n",
       "       [0., 0., 1., 0., 0., 1., 0., 0., 0., 0., 0., 1., 1., 0., 1., 1.,\n",
       "        0., 0., 0., 0., 0., 0., 1., 0., 0., 0., 0.],\n",
       "       [0., 0., 1., 1., 0., 0., 0., 0., 0., 1., 0., 1., 0., 0., 1., 0.,\n",
       "        0., 0., 0., 0., 0., 0., 0., 0., 0., 0., 0.],\n",
       "       [0., 0., 0., 1., 0., 0., 0., 0., 0., 1., 0., 1., 1., 1., 0., 1.,\n",
       "        0., 0., 0., 0., 0., 0., 0., 1., 0., 0., 0.],\n",
       "       [0., 0., 0., 1., 0., 0., 0., 0., 0., 0., 0., 0., 1., 0., 0., 0.,\n",
       "        0., 0., 0., 0., 0., 0., 0., 0., 0., 0., 1.]])"
      ]
     },
     "execution_count": 26,
     "metadata": {},
     "output_type": "execute_result"
    }
   ],
   "source": [
    "dummies[:5]"
   ]
  },
  {
   "cell_type": "code",
   "execution_count": 27,
   "id": "7134d04a",
   "metadata": {},
   "outputs": [
    {
     "data": {
      "text/html": [
       "<div>\n",
       "<style scoped>\n",
       "    .dataframe tbody tr th:only-of-type {\n",
       "        vertical-align: middle;\n",
       "    }\n",
       "\n",
       "    .dataframe tbody tr th {\n",
       "        vertical-align: top;\n",
       "    }\n",
       "\n",
       "    .dataframe thead th {\n",
       "        text-align: right;\n",
       "    }\n",
       "</style>\n",
       "<table border=\"1\" class=\"dataframe\">\n",
       "  <thead>\n",
       "    <tr style=\"text-align: right;\">\n",
       "      <th></th>\n",
       "      <th>0</th>\n",
       "      <th>1</th>\n",
       "      <th>2</th>\n",
       "      <th>3</th>\n",
       "      <th>4</th>\n",
       "      <th>5</th>\n",
       "      <th>6</th>\n",
       "      <th>7</th>\n",
       "      <th>8</th>\n",
       "      <th>9</th>\n",
       "      <th>...</th>\n",
       "      <th>17</th>\n",
       "      <th>18</th>\n",
       "      <th>19</th>\n",
       "      <th>20</th>\n",
       "      <th>21</th>\n",
       "      <th>22</th>\n",
       "      <th>23</th>\n",
       "      <th>24</th>\n",
       "      <th>25</th>\n",
       "      <th>26</th>\n",
       "    </tr>\n",
       "  </thead>\n",
       "  <tbody>\n",
       "    <tr>\n",
       "      <th>0</th>\n",
       "      <td>0.0</td>\n",
       "      <td>0.0</td>\n",
       "      <td>0.0</td>\n",
       "      <td>1.0</td>\n",
       "      <td>0.0</td>\n",
       "      <td>0.0</td>\n",
       "      <td>0.0</td>\n",
       "      <td>0.0</td>\n",
       "      <td>0.0</td>\n",
       "      <td>1.0</td>\n",
       "      <td>...</td>\n",
       "      <td>0.0</td>\n",
       "      <td>0.0</td>\n",
       "      <td>0.0</td>\n",
       "      <td>0.0</td>\n",
       "      <td>0.0</td>\n",
       "      <td>0.0</td>\n",
       "      <td>0.0</td>\n",
       "      <td>1.0</td>\n",
       "      <td>0.0</td>\n",
       "      <td>0.0</td>\n",
       "    </tr>\n",
       "    <tr>\n",
       "      <th>1</th>\n",
       "      <td>0.0</td>\n",
       "      <td>0.0</td>\n",
       "      <td>1.0</td>\n",
       "      <td>0.0</td>\n",
       "      <td>0.0</td>\n",
       "      <td>1.0</td>\n",
       "      <td>0.0</td>\n",
       "      <td>0.0</td>\n",
       "      <td>0.0</td>\n",
       "      <td>0.0</td>\n",
       "      <td>...</td>\n",
       "      <td>0.0</td>\n",
       "      <td>0.0</td>\n",
       "      <td>0.0</td>\n",
       "      <td>0.0</td>\n",
       "      <td>0.0</td>\n",
       "      <td>1.0</td>\n",
       "      <td>0.0</td>\n",
       "      <td>0.0</td>\n",
       "      <td>0.0</td>\n",
       "      <td>0.0</td>\n",
       "    </tr>\n",
       "    <tr>\n",
       "      <th>2</th>\n",
       "      <td>0.0</td>\n",
       "      <td>0.0</td>\n",
       "      <td>1.0</td>\n",
       "      <td>1.0</td>\n",
       "      <td>0.0</td>\n",
       "      <td>0.0</td>\n",
       "      <td>0.0</td>\n",
       "      <td>0.0</td>\n",
       "      <td>0.0</td>\n",
       "      <td>1.0</td>\n",
       "      <td>...</td>\n",
       "      <td>0.0</td>\n",
       "      <td>0.0</td>\n",
       "      <td>0.0</td>\n",
       "      <td>0.0</td>\n",
       "      <td>0.0</td>\n",
       "      <td>0.0</td>\n",
       "      <td>0.0</td>\n",
       "      <td>0.0</td>\n",
       "      <td>0.0</td>\n",
       "      <td>0.0</td>\n",
       "    </tr>\n",
       "    <tr>\n",
       "      <th>3</th>\n",
       "      <td>0.0</td>\n",
       "      <td>0.0</td>\n",
       "      <td>0.0</td>\n",
       "      <td>1.0</td>\n",
       "      <td>0.0</td>\n",
       "      <td>0.0</td>\n",
       "      <td>0.0</td>\n",
       "      <td>0.0</td>\n",
       "      <td>0.0</td>\n",
       "      <td>1.0</td>\n",
       "      <td>...</td>\n",
       "      <td>0.0</td>\n",
       "      <td>0.0</td>\n",
       "      <td>0.0</td>\n",
       "      <td>0.0</td>\n",
       "      <td>0.0</td>\n",
       "      <td>0.0</td>\n",
       "      <td>1.0</td>\n",
       "      <td>0.0</td>\n",
       "      <td>0.0</td>\n",
       "      <td>0.0</td>\n",
       "    </tr>\n",
       "    <tr>\n",
       "      <th>4</th>\n",
       "      <td>0.0</td>\n",
       "      <td>0.0</td>\n",
       "      <td>0.0</td>\n",
       "      <td>1.0</td>\n",
       "      <td>0.0</td>\n",
       "      <td>0.0</td>\n",
       "      <td>0.0</td>\n",
       "      <td>0.0</td>\n",
       "      <td>0.0</td>\n",
       "      <td>0.0</td>\n",
       "      <td>...</td>\n",
       "      <td>0.0</td>\n",
       "      <td>0.0</td>\n",
       "      <td>0.0</td>\n",
       "      <td>0.0</td>\n",
       "      <td>0.0</td>\n",
       "      <td>0.0</td>\n",
       "      <td>0.0</td>\n",
       "      <td>0.0</td>\n",
       "      <td>0.0</td>\n",
       "      <td>1.0</td>\n",
       "    </tr>\n",
       "  </tbody>\n",
       "</table>\n",
       "<p>5 rows × 27 columns</p>\n",
       "</div>"
      ],
      "text/plain": [
       "    0    1    2    3    4    5    6    7    8    9   ...   17   18   19   20  \\\n",
       "0  0.0  0.0  0.0  1.0  0.0  0.0  0.0  0.0  0.0  1.0  ...  0.0  0.0  0.0  0.0   \n",
       "1  0.0  0.0  1.0  0.0  0.0  1.0  0.0  0.0  0.0  0.0  ...  0.0  0.0  0.0  0.0   \n",
       "2  0.0  0.0  1.0  1.0  0.0  0.0  0.0  0.0  0.0  1.0  ...  0.0  0.0  0.0  0.0   \n",
       "3  0.0  0.0  0.0  1.0  0.0  0.0  0.0  0.0  0.0  1.0  ...  0.0  0.0  0.0  0.0   \n",
       "4  0.0  0.0  0.0  1.0  0.0  0.0  0.0  0.0  0.0  0.0  ...  0.0  0.0  0.0  0.0   \n",
       "\n",
       "    21   22   23   24   25   26  \n",
       "0  0.0  0.0  0.0  1.0  0.0  0.0  \n",
       "1  0.0  1.0  0.0  0.0  0.0  0.0  \n",
       "2  0.0  0.0  0.0  0.0  0.0  0.0  \n",
       "3  0.0  0.0  1.0  0.0  0.0  0.0  \n",
       "4  0.0  0.0  0.0  0.0  0.0  1.0  \n",
       "\n",
       "[5 rows x 27 columns]"
      ]
     },
     "execution_count": 27,
     "metadata": {},
     "output_type": "execute_result"
    }
   ],
   "source": [
    "dummies_df = pd.DataFrame(dummies)\n",
    "dummies_df.head()"
   ]
  },
  {
   "cell_type": "code",
   "execution_count": 28,
   "id": "aac72e39",
   "metadata": {},
   "outputs": [
    {
     "data": {
      "text/plain": [
       "[array(['Hospitalized_No', 'Hospitalized_Yes'], dtype=object),\n",
       " array(['Evolution_Cured', 'Evolution_Death'], dtype=object),\n",
       " array(['Gender_Femenine', 'Gender_Masculine'], dtype=object),\n",
       " array(['Race_Black', 'Race_Brown', 'Race_Indigenous', 'Race_White',\n",
       "        'Race_Yellow'], dtype=object),\n",
       " array(['Pregnant_No', 'Pregnant_Yes'], dtype=object),\n",
       " array(['Disabled_No', 'Disabled_Yes'], dtype=object),\n",
       " array(['Fever_No', 'Fever_Yes'], dtype=object),\n",
       " array(['Breath_difficulty_No', 'Breath_difficulty_Yes'], dtype=object),\n",
       " array(['Cough_No', 'Cough_Yes'], dtype=object),\n",
       " array(['Rhinitis_No', 'Rhinitis_Yes'], dtype=object),\n",
       " array(['Throat_pain_No', 'Throat_pain_Yes'], dtype=object),\n",
       " array(['Diarrhea_No', 'Diarrhea_Yes'], dtype=object),\n",
       " array(['Headache_No', 'Headache_Yes'], dtype=object),\n",
       " array(['Comorbidity_pulmonary_No', 'Comorbidity_pulmonary_Yes'],\n",
       "       dtype=object),\n",
       " array(['Comorbidity_cardiac_No', 'Comorbidity_cardiac_Yes'], dtype=object),\n",
       " array(['Comorbidity_renal_No', 'Comorbidity_renal_Yes'], dtype=object),\n",
       " array(['Comorbidity_diabetes_No', 'Comorbidity_diabetes_Yes'],\n",
       "       dtype=object),\n",
       " array(['Comorbidity_smoking_No', 'Comorbidity_smoking_Yes'], dtype=object),\n",
       " array(['Comorbidity_obesity_No', 'Comorbidity_obesity_Yes'], dtype=object),\n",
       " array(['Age_cat_+65', 'Age_cat_18-24', 'Age_cat_25-34', 'Age_cat_35-44',\n",
       "        'Age_cat_45-54', 'Age_cat_55-64'], dtype=object)]"
      ]
     },
     "execution_count": 28,
     "metadata": {},
     "output_type": "execute_result"
    }
   ],
   "source": [
    "col_names = [categoricals[i] + '_' + enc.categories_[i] for i in range(len(categoricals))] \n",
    "col_names"
   ]
  },
  {
   "cell_type": "code",
   "execution_count": 29,
   "id": "c03a3927",
   "metadata": {},
   "outputs": [
    {
     "data": {
      "text/plain": [
       "['Hospitalized_Yes',\n",
       " 'Evolution_Death',\n",
       " 'Gender_Masculine',\n",
       " 'Race_Brown',\n",
       " 'Race_Indigenous',\n",
       " 'Race_White',\n",
       " 'Race_Yellow',\n",
       " 'Pregnant_Yes',\n",
       " 'Disabled_Yes',\n",
       " 'Fever_Yes',\n",
       " 'Breath_difficulty_Yes',\n",
       " 'Cough_Yes',\n",
       " 'Rhinitis_Yes',\n",
       " 'Throat_pain_Yes',\n",
       " 'Diarrhea_Yes',\n",
       " 'Headache_Yes',\n",
       " 'Comorbidity_pulmonary_Yes',\n",
       " 'Comorbidity_cardiac_Yes',\n",
       " 'Comorbidity_renal_Yes',\n",
       " 'Comorbidity_diabetes_Yes',\n",
       " 'Comorbidity_smoking_Yes',\n",
       " 'Comorbidity_obesity_Yes',\n",
       " 'Age_cat_18-24',\n",
       " 'Age_cat_25-34',\n",
       " 'Age_cat_35-44',\n",
       " 'Age_cat_45-54',\n",
       " 'Age_cat_55-64']"
      ]
     },
     "execution_count": 29,
     "metadata": {},
     "output_type": "execute_result"
    }
   ],
   "source": [
    "col_names_drop_first = [sublist[i] for sublist in col_names for i in range(len(sublist)) if i != 0]\n",
    "col_names_drop_first"
   ]
  },
  {
   "cell_type": "code",
   "execution_count": 30,
   "id": "34cf1c69",
   "metadata": {
    "scrolled": true
   },
   "outputs": [
    {
     "data": {
      "text/html": [
       "<div>\n",
       "<style scoped>\n",
       "    .dataframe tbody tr th:only-of-type {\n",
       "        vertical-align: middle;\n",
       "    }\n",
       "\n",
       "    .dataframe tbody tr th {\n",
       "        vertical-align: top;\n",
       "    }\n",
       "\n",
       "    .dataframe thead th {\n",
       "        text-align: right;\n",
       "    }\n",
       "</style>\n",
       "<table border=\"1\" class=\"dataframe\">\n",
       "  <thead>\n",
       "    <tr style=\"text-align: right;\">\n",
       "      <th></th>\n",
       "      <th>Hospitalized_Yes</th>\n",
       "      <th>Evolution_Death</th>\n",
       "      <th>Gender_Masculine</th>\n",
       "      <th>Race_Brown</th>\n",
       "      <th>Race_Indigenous</th>\n",
       "      <th>Race_White</th>\n",
       "      <th>Race_Yellow</th>\n",
       "      <th>Pregnant_Yes</th>\n",
       "      <th>Disabled_Yes</th>\n",
       "      <th>Fever_Yes</th>\n",
       "      <th>...</th>\n",
       "      <th>Comorbidity_cardiac_Yes</th>\n",
       "      <th>Comorbidity_renal_Yes</th>\n",
       "      <th>Comorbidity_diabetes_Yes</th>\n",
       "      <th>Comorbidity_smoking_Yes</th>\n",
       "      <th>Comorbidity_obesity_Yes</th>\n",
       "      <th>Age_cat_18-24</th>\n",
       "      <th>Age_cat_25-34</th>\n",
       "      <th>Age_cat_35-44</th>\n",
       "      <th>Age_cat_45-54</th>\n",
       "      <th>Age_cat_55-64</th>\n",
       "    </tr>\n",
       "  </thead>\n",
       "  <tbody>\n",
       "    <tr>\n",
       "      <th>0</th>\n",
       "      <td>0.0</td>\n",
       "      <td>0.0</td>\n",
       "      <td>0.0</td>\n",
       "      <td>1.0</td>\n",
       "      <td>0.0</td>\n",
       "      <td>0.0</td>\n",
       "      <td>0.0</td>\n",
       "      <td>0.0</td>\n",
       "      <td>0.0</td>\n",
       "      <td>1.0</td>\n",
       "      <td>...</td>\n",
       "      <td>0.0</td>\n",
       "      <td>0.0</td>\n",
       "      <td>0.0</td>\n",
       "      <td>0.0</td>\n",
       "      <td>0.0</td>\n",
       "      <td>0.0</td>\n",
       "      <td>0.0</td>\n",
       "      <td>1.0</td>\n",
       "      <td>0.0</td>\n",
       "      <td>0.0</td>\n",
       "    </tr>\n",
       "    <tr>\n",
       "      <th>1</th>\n",
       "      <td>0.0</td>\n",
       "      <td>0.0</td>\n",
       "      <td>1.0</td>\n",
       "      <td>0.0</td>\n",
       "      <td>0.0</td>\n",
       "      <td>1.0</td>\n",
       "      <td>0.0</td>\n",
       "      <td>0.0</td>\n",
       "      <td>0.0</td>\n",
       "      <td>0.0</td>\n",
       "      <td>...</td>\n",
       "      <td>0.0</td>\n",
       "      <td>0.0</td>\n",
       "      <td>0.0</td>\n",
       "      <td>0.0</td>\n",
       "      <td>0.0</td>\n",
       "      <td>1.0</td>\n",
       "      <td>0.0</td>\n",
       "      <td>0.0</td>\n",
       "      <td>0.0</td>\n",
       "      <td>0.0</td>\n",
       "    </tr>\n",
       "    <tr>\n",
       "      <th>2</th>\n",
       "      <td>0.0</td>\n",
       "      <td>0.0</td>\n",
       "      <td>1.0</td>\n",
       "      <td>1.0</td>\n",
       "      <td>0.0</td>\n",
       "      <td>0.0</td>\n",
       "      <td>0.0</td>\n",
       "      <td>0.0</td>\n",
       "      <td>0.0</td>\n",
       "      <td>1.0</td>\n",
       "      <td>...</td>\n",
       "      <td>0.0</td>\n",
       "      <td>0.0</td>\n",
       "      <td>0.0</td>\n",
       "      <td>0.0</td>\n",
       "      <td>0.0</td>\n",
       "      <td>0.0</td>\n",
       "      <td>0.0</td>\n",
       "      <td>0.0</td>\n",
       "      <td>0.0</td>\n",
       "      <td>0.0</td>\n",
       "    </tr>\n",
       "    <tr>\n",
       "      <th>3</th>\n",
       "      <td>0.0</td>\n",
       "      <td>0.0</td>\n",
       "      <td>0.0</td>\n",
       "      <td>1.0</td>\n",
       "      <td>0.0</td>\n",
       "      <td>0.0</td>\n",
       "      <td>0.0</td>\n",
       "      <td>0.0</td>\n",
       "      <td>0.0</td>\n",
       "      <td>1.0</td>\n",
       "      <td>...</td>\n",
       "      <td>0.0</td>\n",
       "      <td>0.0</td>\n",
       "      <td>0.0</td>\n",
       "      <td>0.0</td>\n",
       "      <td>0.0</td>\n",
       "      <td>0.0</td>\n",
       "      <td>1.0</td>\n",
       "      <td>0.0</td>\n",
       "      <td>0.0</td>\n",
       "      <td>0.0</td>\n",
       "    </tr>\n",
       "    <tr>\n",
       "      <th>4</th>\n",
       "      <td>0.0</td>\n",
       "      <td>0.0</td>\n",
       "      <td>0.0</td>\n",
       "      <td>1.0</td>\n",
       "      <td>0.0</td>\n",
       "      <td>0.0</td>\n",
       "      <td>0.0</td>\n",
       "      <td>0.0</td>\n",
       "      <td>0.0</td>\n",
       "      <td>0.0</td>\n",
       "      <td>...</td>\n",
       "      <td>0.0</td>\n",
       "      <td>0.0</td>\n",
       "      <td>0.0</td>\n",
       "      <td>0.0</td>\n",
       "      <td>0.0</td>\n",
       "      <td>0.0</td>\n",
       "      <td>0.0</td>\n",
       "      <td>0.0</td>\n",
       "      <td>0.0</td>\n",
       "      <td>1.0</td>\n",
       "    </tr>\n",
       "  </tbody>\n",
       "</table>\n",
       "<p>5 rows × 27 columns</p>\n",
       "</div>"
      ],
      "text/plain": [
       "   Hospitalized_Yes  Evolution_Death  Gender_Masculine  Race_Brown  \\\n",
       "0               0.0              0.0               0.0         1.0   \n",
       "1               0.0              0.0               1.0         0.0   \n",
       "2               0.0              0.0               1.0         1.0   \n",
       "3               0.0              0.0               0.0         1.0   \n",
       "4               0.0              0.0               0.0         1.0   \n",
       "\n",
       "   Race_Indigenous  Race_White  Race_Yellow  Pregnant_Yes  Disabled_Yes  \\\n",
       "0              0.0         0.0          0.0           0.0           0.0   \n",
       "1              0.0         1.0          0.0           0.0           0.0   \n",
       "2              0.0         0.0          0.0           0.0           0.0   \n",
       "3              0.0         0.0          0.0           0.0           0.0   \n",
       "4              0.0         0.0          0.0           0.0           0.0   \n",
       "\n",
       "   Fever_Yes  ...  Comorbidity_cardiac_Yes  Comorbidity_renal_Yes  \\\n",
       "0        1.0  ...                      0.0                    0.0   \n",
       "1        0.0  ...                      0.0                    0.0   \n",
       "2        1.0  ...                      0.0                    0.0   \n",
       "3        1.0  ...                      0.0                    0.0   \n",
       "4        0.0  ...                      0.0                    0.0   \n",
       "\n",
       "   Comorbidity_diabetes_Yes  Comorbidity_smoking_Yes  Comorbidity_obesity_Yes  \\\n",
       "0                       0.0                      0.0                      0.0   \n",
       "1                       0.0                      0.0                      0.0   \n",
       "2                       0.0                      0.0                      0.0   \n",
       "3                       0.0                      0.0                      0.0   \n",
       "4                       0.0                      0.0                      0.0   \n",
       "\n",
       "   Age_cat_18-24  Age_cat_25-34  Age_cat_35-44  Age_cat_45-54  Age_cat_55-64  \n",
       "0            0.0            0.0            1.0            0.0            0.0  \n",
       "1            1.0            0.0            0.0            0.0            0.0  \n",
       "2            0.0            0.0            0.0            0.0            0.0  \n",
       "3            0.0            1.0            0.0            0.0            0.0  \n",
       "4            0.0            0.0            0.0            0.0            1.0  \n",
       "\n",
       "[5 rows x 27 columns]"
      ]
     },
     "execution_count": 30,
     "metadata": {},
     "output_type": "execute_result"
    }
   ],
   "source": [
    "dummies_df.columns = col_names_drop_first\n",
    "dummies_df.head()"
   ]
  },
  {
   "cell_type": "code",
   "execution_count": 31,
   "id": "d42cd89c",
   "metadata": {},
   "outputs": [],
   "source": [
    "numericals = [\"Delta_RegDiag\", \"Age\", \"n_comor\", \"n_symp\"]\n",
    "df_numerical = df[numericals]"
   ]
  },
  {
   "cell_type": "code",
   "execution_count": 32,
   "id": "1158abf1",
   "metadata": {
    "scrolled": true
   },
   "outputs": [
    {
     "data": {
      "text/html": [
       "<div>\n",
       "<style scoped>\n",
       "    .dataframe tbody tr th:only-of-type {\n",
       "        vertical-align: middle;\n",
       "    }\n",
       "\n",
       "    .dataframe tbody tr th {\n",
       "        vertical-align: top;\n",
       "    }\n",
       "\n",
       "    .dataframe thead th {\n",
       "        text-align: right;\n",
       "    }\n",
       "</style>\n",
       "<table border=\"1\" class=\"dataframe\">\n",
       "  <thead>\n",
       "    <tr style=\"text-align: right;\">\n",
       "      <th></th>\n",
       "      <th>Hospitalized_Yes</th>\n",
       "      <th>Evolution_Death</th>\n",
       "      <th>Gender_Masculine</th>\n",
       "      <th>Race_Brown</th>\n",
       "      <th>Race_Indigenous</th>\n",
       "      <th>Race_White</th>\n",
       "      <th>Race_Yellow</th>\n",
       "      <th>Pregnant_Yes</th>\n",
       "      <th>Disabled_Yes</th>\n",
       "      <th>Fever_Yes</th>\n",
       "      <th>...</th>\n",
       "      <th>Comorbidity_obesity_Yes</th>\n",
       "      <th>Age_cat_18-24</th>\n",
       "      <th>Age_cat_25-34</th>\n",
       "      <th>Age_cat_35-44</th>\n",
       "      <th>Age_cat_45-54</th>\n",
       "      <th>Age_cat_55-64</th>\n",
       "      <th>Delta_RegDiag</th>\n",
       "      <th>Age</th>\n",
       "      <th>n_comor</th>\n",
       "      <th>n_symp</th>\n",
       "    </tr>\n",
       "  </thead>\n",
       "  <tbody>\n",
       "    <tr>\n",
       "      <th>0</th>\n",
       "      <td>0.0</td>\n",
       "      <td>0.0</td>\n",
       "      <td>0.0</td>\n",
       "      <td>1.0</td>\n",
       "      <td>0.0</td>\n",
       "      <td>0.0</td>\n",
       "      <td>0.0</td>\n",
       "      <td>0.0</td>\n",
       "      <td>0.0</td>\n",
       "      <td>1.0</td>\n",
       "      <td>...</td>\n",
       "      <td>0.0</td>\n",
       "      <td>0.0</td>\n",
       "      <td>0.0</td>\n",
       "      <td>1.0</td>\n",
       "      <td>0.0</td>\n",
       "      <td>0.0</td>\n",
       "      <td>1</td>\n",
       "      <td>39.0</td>\n",
       "      <td>0</td>\n",
       "      <td>6</td>\n",
       "    </tr>\n",
       "    <tr>\n",
       "      <th>1</th>\n",
       "      <td>0.0</td>\n",
       "      <td>0.0</td>\n",
       "      <td>1.0</td>\n",
       "      <td>0.0</td>\n",
       "      <td>0.0</td>\n",
       "      <td>1.0</td>\n",
       "      <td>0.0</td>\n",
       "      <td>0.0</td>\n",
       "      <td>0.0</td>\n",
       "      <td>0.0</td>\n",
       "      <td>...</td>\n",
       "      <td>0.0</td>\n",
       "      <td>1.0</td>\n",
       "      <td>0.0</td>\n",
       "      <td>0.0</td>\n",
       "      <td>0.0</td>\n",
       "      <td>0.0</td>\n",
       "      <td>2</td>\n",
       "      <td>24.0</td>\n",
       "      <td>0</td>\n",
       "      <td>4</td>\n",
       "    </tr>\n",
       "  </tbody>\n",
       "</table>\n",
       "<p>2 rows × 31 columns</p>\n",
       "</div>"
      ],
      "text/plain": [
       "   Hospitalized_Yes  Evolution_Death  Gender_Masculine  Race_Brown  \\\n",
       "0               0.0              0.0               0.0         1.0   \n",
       "1               0.0              0.0               1.0         0.0   \n",
       "\n",
       "   Race_Indigenous  Race_White  Race_Yellow  Pregnant_Yes  Disabled_Yes  \\\n",
       "0              0.0         0.0          0.0           0.0           0.0   \n",
       "1              0.0         1.0          0.0           0.0           0.0   \n",
       "\n",
       "   Fever_Yes  ...  Comorbidity_obesity_Yes  Age_cat_18-24  Age_cat_25-34  \\\n",
       "0        1.0  ...                      0.0            0.0            0.0   \n",
       "1        0.0  ...                      0.0            1.0            0.0   \n",
       "\n",
       "   Age_cat_35-44  Age_cat_45-54  Age_cat_55-64  Delta_RegDiag   Age  n_comor  \\\n",
       "0            1.0            0.0            0.0              1  39.0        0   \n",
       "1            0.0            0.0            0.0              2  24.0        0   \n",
       "\n",
       "   n_symp  \n",
       "0       6  \n",
       "1       4  \n",
       "\n",
       "[2 rows x 31 columns]"
      ]
     },
     "execution_count": 32,
     "metadata": {},
     "output_type": "execute_result"
    }
   ],
   "source": [
    "df_final = pd.concat([dummies_df, df_numerical], axis = 1)\n",
    "df_final.head(2)"
   ]
  },
  {
   "cell_type": "code",
   "execution_count": 33,
   "id": "7e31124a",
   "metadata": {},
   "outputs": [
    {
     "data": {
      "text/plain": [
       "Hospitalized_Yes             0\n",
       "Evolution_Death              0\n",
       "Gender_Masculine             0\n",
       "Race_Brown                   0\n",
       "Race_Indigenous              0\n",
       "Race_White                   0\n",
       "Race_Yellow                  0\n",
       "Pregnant_Yes                 0\n",
       "Disabled_Yes                 0\n",
       "Fever_Yes                    0\n",
       "Breath_difficulty_Yes        0\n",
       "Cough_Yes                    0\n",
       "Rhinitis_Yes                 0\n",
       "Throat_pain_Yes              0\n",
       "Diarrhea_Yes                 0\n",
       "Headache_Yes                 0\n",
       "Comorbidity_pulmonary_Yes    0\n",
       "Comorbidity_cardiac_Yes      0\n",
       "Comorbidity_renal_Yes        0\n",
       "Comorbidity_diabetes_Yes     0\n",
       "Comorbidity_smoking_Yes      0\n",
       "Comorbidity_obesity_Yes      0\n",
       "Age_cat_18-24                0\n",
       "Age_cat_25-34                0\n",
       "Age_cat_35-44                0\n",
       "Age_cat_45-54                0\n",
       "Age_cat_55-64                0\n",
       "Delta_RegDiag                0\n",
       "Age                          0\n",
       "n_comor                      0\n",
       "n_symp                       0\n",
       "dtype: int64"
      ]
     },
     "execution_count": 33,
     "metadata": {},
     "output_type": "execute_result"
    }
   ],
   "source": [
    "df_final.isna().sum()"
   ]
  },
  {
   "cell_type": "code",
   "execution_count": 34,
   "id": "0366b552",
   "metadata": {},
   "outputs": [
    {
     "data": {
      "text/plain": [
       "Index(['Hospitalized_Yes', 'Evolution_Death', 'Gender_Masculine', 'Race_Brown',\n",
       "       'Race_Indigenous', 'Race_White', 'Race_Yellow', 'Pregnant_Yes',\n",
       "       'Disabled_Yes', 'Fever_Yes', 'Breath_difficulty_Yes', 'Cough_Yes',\n",
       "       'Rhinitis_Yes', 'Throat_pain_Yes', 'Diarrhea_Yes', 'Headache_Yes',\n",
       "       'Comorbidity_pulmonary_Yes', 'Comorbidity_cardiac_Yes',\n",
       "       'Comorbidity_renal_Yes', 'Comorbidity_diabetes_Yes',\n",
       "       'Comorbidity_smoking_Yes', 'Comorbidity_obesity_Yes', 'Age_cat_18-24',\n",
       "       'Age_cat_25-34', 'Age_cat_35-44', 'Age_cat_45-54', 'Age_cat_55-64',\n",
       "       'Delta_RegDiag', 'Age', 'n_comor', 'n_symp'],\n",
       "      dtype='object')"
      ]
     },
     "execution_count": 34,
     "metadata": {},
     "output_type": "execute_result"
    }
   ],
   "source": [
    "df_final.columns"
   ]
  },
  {
   "cell_type": "markdown",
   "id": "5c2ca473",
   "metadata": {},
   "source": [
    "Rename columns."
   ]
  },
  {
   "cell_type": "code",
   "execution_count": 35,
   "id": "8c09a8a8",
   "metadata": {},
   "outputs": [],
   "source": [
    "df_final.columns = [\"Hospitalized\", \"Death\", \"Masculine\", \n",
    "                    \"Race_Brown\", \"Race_Indigenous\", \"Race_White\", \"Race_Yellow\", \"Pregnant\", \"Disabled\",\n",
    "                    \"Fever\", \"Breath_difficulty\", \"Cough\", \"Rhinitis\", \"Throat_pain\", \"Diarrhea\", \"Headache\",\n",
    "                    \"Comorbidity_pulmonary\", \"Comorbidity_cardiac\", \"Comorbidity_renal\", \"Comorbidity_diabetes\", \"Comorbidity_smoking\", \"Comorbidity_obesity\",\n",
    "                    \"18-24\", \"25-34\", \"35-44\", \"45-54\", \"55-64\",\n",
    "                    \"Delta_RegDiag\", \"Age\", \"n_comor\", \"n_symp\"]"
   ]
  },
  {
   "cell_type": "code",
   "execution_count": 36,
   "id": "bce54bac",
   "metadata": {},
   "outputs": [
    {
     "data": {
      "text/html": [
       "<div>\n",
       "<style scoped>\n",
       "    .dataframe tbody tr th:only-of-type {\n",
       "        vertical-align: middle;\n",
       "    }\n",
       "\n",
       "    .dataframe tbody tr th {\n",
       "        vertical-align: top;\n",
       "    }\n",
       "\n",
       "    .dataframe thead th {\n",
       "        text-align: right;\n",
       "    }\n",
       "</style>\n",
       "<table border=\"1\" class=\"dataframe\">\n",
       "  <thead>\n",
       "    <tr style=\"text-align: right;\">\n",
       "      <th></th>\n",
       "      <th>Hospitalized</th>\n",
       "      <th>Death</th>\n",
       "      <th>Masculine</th>\n",
       "      <th>Race_Brown</th>\n",
       "      <th>Race_Indigenous</th>\n",
       "      <th>Race_White</th>\n",
       "      <th>Race_Yellow</th>\n",
       "      <th>Pregnant</th>\n",
       "      <th>Disabled</th>\n",
       "      <th>Fever</th>\n",
       "      <th>...</th>\n",
       "      <th>Comorbidity_obesity</th>\n",
       "      <th>18-24</th>\n",
       "      <th>25-34</th>\n",
       "      <th>35-44</th>\n",
       "      <th>45-54</th>\n",
       "      <th>55-64</th>\n",
       "      <th>Delta_RegDiag</th>\n",
       "      <th>Age</th>\n",
       "      <th>n_comor</th>\n",
       "      <th>n_symp</th>\n",
       "    </tr>\n",
       "  </thead>\n",
       "  <tbody>\n",
       "    <tr>\n",
       "      <th>0</th>\n",
       "      <td>0.0</td>\n",
       "      <td>0.0</td>\n",
       "      <td>0.0</td>\n",
       "      <td>1.0</td>\n",
       "      <td>0.0</td>\n",
       "      <td>0.0</td>\n",
       "      <td>0.0</td>\n",
       "      <td>0.0</td>\n",
       "      <td>0.0</td>\n",
       "      <td>1.0</td>\n",
       "      <td>...</td>\n",
       "      <td>0.0</td>\n",
       "      <td>0.0</td>\n",
       "      <td>0.0</td>\n",
       "      <td>1.0</td>\n",
       "      <td>0.0</td>\n",
       "      <td>0.0</td>\n",
       "      <td>1</td>\n",
       "      <td>39.0</td>\n",
       "      <td>0</td>\n",
       "      <td>6</td>\n",
       "    </tr>\n",
       "    <tr>\n",
       "      <th>1</th>\n",
       "      <td>0.0</td>\n",
       "      <td>0.0</td>\n",
       "      <td>1.0</td>\n",
       "      <td>0.0</td>\n",
       "      <td>0.0</td>\n",
       "      <td>1.0</td>\n",
       "      <td>0.0</td>\n",
       "      <td>0.0</td>\n",
       "      <td>0.0</td>\n",
       "      <td>0.0</td>\n",
       "      <td>...</td>\n",
       "      <td>0.0</td>\n",
       "      <td>1.0</td>\n",
       "      <td>0.0</td>\n",
       "      <td>0.0</td>\n",
       "      <td>0.0</td>\n",
       "      <td>0.0</td>\n",
       "      <td>2</td>\n",
       "      <td>24.0</td>\n",
       "      <td>0</td>\n",
       "      <td>4</td>\n",
       "    </tr>\n",
       "  </tbody>\n",
       "</table>\n",
       "<p>2 rows × 31 columns</p>\n",
       "</div>"
      ],
      "text/plain": [
       "   Hospitalized  Death  Masculine  Race_Brown  Race_Indigenous  Race_White  \\\n",
       "0           0.0    0.0        0.0         1.0              0.0         0.0   \n",
       "1           0.0    0.0        1.0         0.0              0.0         1.0   \n",
       "\n",
       "   Race_Yellow  Pregnant  Disabled  Fever  ...  Comorbidity_obesity  18-24  \\\n",
       "0          0.0       0.0       0.0    1.0  ...                  0.0    0.0   \n",
       "1          0.0       0.0       0.0    0.0  ...                  0.0    1.0   \n",
       "\n",
       "   25-34  35-44  45-54  55-64  Delta_RegDiag   Age  n_comor  n_symp  \n",
       "0    0.0    1.0    0.0    0.0              1  39.0        0       6  \n",
       "1    0.0    0.0    0.0    0.0              2  24.0        0       4  \n",
       "\n",
       "[2 rows x 31 columns]"
      ]
     },
     "execution_count": 36,
     "metadata": {},
     "output_type": "execute_result"
    }
   ],
   "source": [
    "df_final.head(2)"
   ]
  },
  {
   "cell_type": "markdown",
   "id": "d0488bf3",
   "metadata": {},
   "source": [
    "Column reordering."
   ]
  },
  {
   "cell_type": "code",
   "execution_count": 37,
   "id": "3336c6fe",
   "metadata": {},
   "outputs": [],
   "source": [
    "df_final = df_final[[\"Masculine\", \"Age\", \"18-24\", \"25-34\", \"35-44\", \"45-54\", \"55-64\",\n",
    "                     \"Race_White\", \"Race_Brown\", \"Race_Yellow\", \"Race_Indigenous\", \"Pregnant\", \"Disabled\", \n",
    "                     \"Cough\", \"Throat_pain\", \"Rhinitis\", \"Headache\", \"Fever\", \"Diarrhea\", \"Breath_difficulty\", \n",
    "                     \"Comorbidity_smoking\", \"Comorbidity_cardiac\", \"Comorbidity_pulmonary\", \"Comorbidity_diabetes\", \"Comorbidity_renal\", \"Comorbidity_obesity\", \n",
    "                     \"Delta_RegDiag\", \"n_comor\", \"n_symp\", \"Hospitalized\", \"Death\"]]"
   ]
  },
  {
   "cell_type": "markdown",
   "id": "0e20d48a",
   "metadata": {},
   "source": [
    "The final dataset has 384,429 rows and 31 columns."
   ]
  },
  {
   "cell_type": "code",
   "execution_count": 38,
   "id": "3a72e692",
   "metadata": {},
   "outputs": [
    {
     "data": {
      "text/plain": [
       "(384429, 31)"
      ]
     },
     "execution_count": 38,
     "metadata": {},
     "output_type": "execute_result"
    }
   ],
   "source": [
    "df_final.shape"
   ]
  },
  {
   "cell_type": "markdown",
   "id": "bc70f3fc",
   "metadata": {},
   "source": [
    "<a id='2.C'></a>\n",
    "\n",
    "---"
   ]
  },
  {
   "cell_type": "markdown",
   "id": "9f6a8d85",
   "metadata": {},
   "source": [
    "## C. train_test_split"
   ]
  },
  {
   "cell_type": "markdown",
   "id": "223bb489",
   "metadata": {},
   "source": [
    "Training and test data are separated."
   ]
  },
  {
   "cell_type": "code",
   "execution_count": 39,
   "id": "46637ddf",
   "metadata": {},
   "outputs": [],
   "source": [
    "X = df_final.drop(\"Death\", axis = 1)\n",
    "y = df_final[\"Death\"]"
   ]
  },
  {
   "cell_type": "code",
   "execution_count": 40,
   "id": "8e8c62ee",
   "metadata": {},
   "outputs": [],
   "source": [
    "X_train, X_test, y_train, y_test = train_test_split(X, y, stratify = y, test_size = 0.2, random_state = 0)"
   ]
  },
  {
   "cell_type": "code",
   "execution_count": 41,
   "id": "74855afc",
   "metadata": {},
   "outputs": [
    {
     "data": {
      "text/plain": [
       "(307543, 30)"
      ]
     },
     "execution_count": 41,
     "metadata": {},
     "output_type": "execute_result"
    }
   ],
   "source": [
    "X_train.shape"
   ]
  },
  {
   "cell_type": "code",
   "execution_count": 42,
   "id": "e64df819",
   "metadata": {},
   "outputs": [
    {
     "data": {
      "text/plain": [
       "(76886, 30)"
      ]
     },
     "execution_count": 42,
     "metadata": {},
     "output_type": "execute_result"
    }
   ],
   "source": [
    "X_test.shape"
   ]
  },
  {
   "cell_type": "code",
   "execution_count": 43,
   "id": "30c4d305",
   "metadata": {},
   "outputs": [
    {
     "data": {
      "text/plain": [
       "0.0    301391\n",
       "1.0      6152\n",
       "Name: Death, dtype: int64"
      ]
     },
     "execution_count": 43,
     "metadata": {},
     "output_type": "execute_result"
    }
   ],
   "source": [
    "y_train.value_counts()"
   ]
  },
  {
   "cell_type": "markdown",
   "id": "1c10405c",
   "metadata": {},
   "source": [
    "- 98% of the data belong to the class of patients who survived.\n",
    "\n",
    "- 2% of the data belong to the class of patients who died."
   ]
  },
  {
   "cell_type": "code",
   "execution_count": 45,
   "id": "93922291",
   "metadata": {},
   "outputs": [
    {
     "data": {
      "text/plain": [
       "0.0    97.999629\n",
       "1.0     2.000371\n",
       "Name: Death, dtype: float64"
      ]
     },
     "execution_count": 45,
     "metadata": {},
     "output_type": "execute_result"
    }
   ],
   "source": [
    "y_train.value_counts(normalize = True) * 100"
   ]
  },
  {
   "cell_type": "markdown",
   "id": "92b806f9",
   "metadata": {},
   "source": [
    "- As can be seen, we are facing a problem of unbalanced classes. \n",
    "\n",
    "\n",
    "- At the moment, no undersampling or oversampling techniques will be applied. \n",
    "\n",
    "\n",
    "- What will be done is to give weight to the classes when instantiating the models (ie: for Logistic Regression use the `class_weight` parameter)."
   ]
  },
  {
   "cell_type": "markdown",
   "id": "1658b727",
   "metadata": {},
   "source": [
    "<a id='2.D'></a>\n",
    "\n",
    "---"
   ]
  },
  {
   "cell_type": "markdown",
   "id": "812ffc36",
   "metadata": {},
   "source": [
    "## D. StandardScaler()"
   ]
  },
  {
   "cell_type": "markdown",
   "id": "e7b9b9f0",
   "metadata": {},
   "source": [
    "Data scaling is performed."
   ]
  },
  {
   "cell_type": "code",
   "execution_count": 46,
   "id": "fcd87828",
   "metadata": {},
   "outputs": [],
   "source": [
    "scaler = StandardScaler()\n",
    "X_train_std = scaler.fit_transform(X_train)\n",
    "X_test_std = scaler.transform(X_test)"
   ]
  },
  {
   "cell_type": "code",
   "execution_count": 47,
   "id": "352780dd",
   "metadata": {},
   "outputs": [
    {
     "data": {
      "text/html": [
       "<div>\n",
       "<style scoped>\n",
       "    .dataframe tbody tr th:only-of-type {\n",
       "        vertical-align: middle;\n",
       "    }\n",
       "\n",
       "    .dataframe tbody tr th {\n",
       "        vertical-align: top;\n",
       "    }\n",
       "\n",
       "    .dataframe thead th {\n",
       "        text-align: right;\n",
       "    }\n",
       "</style>\n",
       "<table border=\"1\" class=\"dataframe\">\n",
       "  <thead>\n",
       "    <tr style=\"text-align: right;\">\n",
       "      <th></th>\n",
       "      <th>Masculine</th>\n",
       "      <th>Age</th>\n",
       "      <th>18-24</th>\n",
       "      <th>25-34</th>\n",
       "      <th>35-44</th>\n",
       "      <th>45-54</th>\n",
       "      <th>55-64</th>\n",
       "      <th>Race_White</th>\n",
       "      <th>Race_Brown</th>\n",
       "      <th>Race_Yellow</th>\n",
       "      <th>...</th>\n",
       "      <th>Comorbidity_smoking</th>\n",
       "      <th>Comorbidity_cardiac</th>\n",
       "      <th>Comorbidity_pulmonary</th>\n",
       "      <th>Comorbidity_diabetes</th>\n",
       "      <th>Comorbidity_renal</th>\n",
       "      <th>Comorbidity_obesity</th>\n",
       "      <th>Delta_RegDiag</th>\n",
       "      <th>n_comor</th>\n",
       "      <th>n_symp</th>\n",
       "      <th>Hospitalized</th>\n",
       "    </tr>\n",
       "  </thead>\n",
       "  <tbody>\n",
       "    <tr>\n",
       "      <th>0</th>\n",
       "      <td>-0.931809</td>\n",
       "      <td>-0.536064</td>\n",
       "      <td>-0.370523</td>\n",
       "      <td>1.797628</td>\n",
       "      <td>-0.577517</td>\n",
       "      <td>-0.466958</td>\n",
       "      <td>-0.370591</td>\n",
       "      <td>-0.684295</td>\n",
       "      <td>0.898789</td>\n",
       "      <td>-0.269268</td>\n",
       "      <td>...</td>\n",
       "      <td>-0.120934</td>\n",
       "      <td>-0.404328</td>\n",
       "      <td>-0.142717</td>\n",
       "      <td>-0.231106</td>\n",
       "      <td>-0.063031</td>\n",
       "      <td>-0.150764</td>\n",
       "      <td>-0.353782</td>\n",
       "      <td>-0.438408</td>\n",
       "      <td>0.988785</td>\n",
       "      <td>-0.125048</td>\n",
       "    </tr>\n",
       "  </tbody>\n",
       "</table>\n",
       "<p>1 rows × 30 columns</p>\n",
       "</div>"
      ],
      "text/plain": [
       "   Masculine       Age     18-24     25-34     35-44     45-54     55-64  \\\n",
       "0  -0.931809 -0.536064 -0.370523  1.797628 -0.577517 -0.466958 -0.370591   \n",
       "\n",
       "   Race_White  Race_Brown  Race_Yellow  ...  Comorbidity_smoking  \\\n",
       "0   -0.684295    0.898789    -0.269268  ...            -0.120934   \n",
       "\n",
       "   Comorbidity_cardiac  Comorbidity_pulmonary  Comorbidity_diabetes  \\\n",
       "0            -0.404328              -0.142717             -0.231106   \n",
       "\n",
       "   Comorbidity_renal  Comorbidity_obesity  Delta_RegDiag   n_comor    n_symp  \\\n",
       "0          -0.063031            -0.150764      -0.353782 -0.438408  0.988785   \n",
       "\n",
       "   Hospitalized  \n",
       "0     -0.125048  \n",
       "\n",
       "[1 rows x 30 columns]"
      ]
     },
     "execution_count": 47,
     "metadata": {},
     "output_type": "execute_result"
    }
   ],
   "source": [
    "X_train_std = pd.DataFrame(X_train_std, columns = X_train.columns)\n",
    "X_train_std.head(1)"
   ]
  },
  {
   "cell_type": "code",
   "execution_count": 48,
   "id": "a8f4b498",
   "metadata": {},
   "outputs": [
    {
     "data": {
      "text/html": [
       "<div>\n",
       "<style scoped>\n",
       "    .dataframe tbody tr th:only-of-type {\n",
       "        vertical-align: middle;\n",
       "    }\n",
       "\n",
       "    .dataframe tbody tr th {\n",
       "        vertical-align: top;\n",
       "    }\n",
       "\n",
       "    .dataframe thead th {\n",
       "        text-align: right;\n",
       "    }\n",
       "</style>\n",
       "<table border=\"1\" class=\"dataframe\">\n",
       "  <thead>\n",
       "    <tr style=\"text-align: right;\">\n",
       "      <th></th>\n",
       "      <th>Masculine</th>\n",
       "      <th>Age</th>\n",
       "      <th>18-24</th>\n",
       "      <th>25-34</th>\n",
       "      <th>35-44</th>\n",
       "      <th>45-54</th>\n",
       "      <th>55-64</th>\n",
       "      <th>Race_White</th>\n",
       "      <th>Race_Brown</th>\n",
       "      <th>Race_Yellow</th>\n",
       "      <th>...</th>\n",
       "      <th>Comorbidity_smoking</th>\n",
       "      <th>Comorbidity_cardiac</th>\n",
       "      <th>Comorbidity_pulmonary</th>\n",
       "      <th>Comorbidity_diabetes</th>\n",
       "      <th>Comorbidity_renal</th>\n",
       "      <th>Comorbidity_obesity</th>\n",
       "      <th>Delta_RegDiag</th>\n",
       "      <th>n_comor</th>\n",
       "      <th>n_symp</th>\n",
       "      <th>Hospitalized</th>\n",
       "    </tr>\n",
       "  </thead>\n",
       "  <tbody>\n",
       "    <tr>\n",
       "      <th>0</th>\n",
       "      <td>1.073182</td>\n",
       "      <td>-0.337782</td>\n",
       "      <td>-0.370523</td>\n",
       "      <td>-0.556289</td>\n",
       "      <td>1.731552</td>\n",
       "      <td>-0.466958</td>\n",
       "      <td>-0.370591</td>\n",
       "      <td>-0.684295</td>\n",
       "      <td>0.898789</td>\n",
       "      <td>-0.269268</td>\n",
       "      <td>...</td>\n",
       "      <td>-0.120934</td>\n",
       "      <td>-0.404328</td>\n",
       "      <td>-0.142717</td>\n",
       "      <td>-0.231106</td>\n",
       "      <td>-0.063031</td>\n",
       "      <td>-0.150764</td>\n",
       "      <td>1.195679</td>\n",
       "      <td>-0.438408</td>\n",
       "      <td>-0.281003</td>\n",
       "      <td>-0.125048</td>\n",
       "    </tr>\n",
       "  </tbody>\n",
       "</table>\n",
       "<p>1 rows × 30 columns</p>\n",
       "</div>"
      ],
      "text/plain": [
       "   Masculine       Age     18-24     25-34     35-44     45-54     55-64  \\\n",
       "0   1.073182 -0.337782 -0.370523 -0.556289  1.731552 -0.466958 -0.370591   \n",
       "\n",
       "   Race_White  Race_Brown  Race_Yellow  ...  Comorbidity_smoking  \\\n",
       "0   -0.684295    0.898789    -0.269268  ...            -0.120934   \n",
       "\n",
       "   Comorbidity_cardiac  Comorbidity_pulmonary  Comorbidity_diabetes  \\\n",
       "0            -0.404328              -0.142717             -0.231106   \n",
       "\n",
       "   Comorbidity_renal  Comorbidity_obesity  Delta_RegDiag   n_comor    n_symp  \\\n",
       "0          -0.063031            -0.150764       1.195679 -0.438408 -0.281003   \n",
       "\n",
       "   Hospitalized  \n",
       "0     -0.125048  \n",
       "\n",
       "[1 rows x 30 columns]"
      ]
     },
     "execution_count": 48,
     "metadata": {},
     "output_type": "execute_result"
    }
   ],
   "source": [
    "X_test_std = pd.DataFrame(X_test_std, columns = X_test.columns)\n",
    "X_test_std.head(1)"
   ]
  },
  {
   "cell_type": "markdown",
   "id": "5e9cd6cb",
   "metadata": {},
   "source": [
    "<a id='2.E'></a>\n",
    "\n",
    "---"
   ]
  },
  {
   "cell_type": "markdown",
   "id": "ae8b9266",
   "metadata": {},
   "source": [
    "## E. Feature selection"
   ]
  },
  {
   "cell_type": "markdown",
   "id": "bca66b54",
   "metadata": {},
   "source": [
    "<a id='2.E.1'></a>"
   ]
  },
  {
   "cell_type": "markdown",
   "id": "fd8f2baf",
   "metadata": {},
   "source": [
    "### E.1 Statsmodel"
   ]
  },
  {
   "cell_type": "markdown",
   "id": "788047e6",
   "metadata": {},
   "source": [
    "Statistical estimators of `p` will be used to select the first features, as a first approach."
   ]
  },
  {
   "cell_type": "code",
   "execution_count": 49,
   "id": "ae153408",
   "metadata": {},
   "outputs": [],
   "source": [
    "X_train_sm = X_train_std.copy()"
   ]
  },
  {
   "cell_type": "code",
   "execution_count": 50,
   "id": "582e15c8",
   "metadata": {},
   "outputs": [],
   "source": [
    "X_train_stats = sm.add_constant(X_train_sm)"
   ]
  },
  {
   "cell_type": "code",
   "execution_count": 51,
   "id": "ae451868",
   "metadata": {},
   "outputs": [
    {
     "name": "stdout",
     "output_type": "stream",
     "text": [
      "Warning: Maximum number of iterations has been exceeded.\n",
      "         Current function value: 0.055601\n",
      "         Iterations: 35\n"
     ]
    },
    {
     "name": "stderr",
     "output_type": "stream",
     "text": [
      "C:\\Users\\Usuario\\anaconda3\\lib\\site-packages\\statsmodels\\base\\model.py:604: ConvergenceWarning: Maximum Likelihood optimization failed to converge. Check mle_retvals\n",
      "  warnings.warn(\"Maximum Likelihood optimization failed to \"\n"
     ]
    },
    {
     "name": "stdout",
     "output_type": "stream",
     "text": [
      "                                  Results: Logit\n",
      "==================================================================================\n",
      "Model:                     Logit                 Pseudo R-squared:      0.433     \n",
      "Dependent Variable:        y                     AIC:                   34261.2259\n",
      "Date:                      2022-08-22 13:38      BIC:                   34590.9534\n",
      "No. Observations:          307543                Log-Likelihood:        -17100.   \n",
      "Df Model:                  30                    LL-Null:               -30156.   \n",
      "Df Residuals:              307512                LLR p-value:           0.0000    \n",
      "Converged:                 0.0000                Scale:                 1.0000    \n",
      "No. Iterations:            35.0000                                                \n",
      "----------------------------------------------------------------------------------\n",
      "                       Coef.   Std.Err.      z     P>|z|     [0.025       0.975]  \n",
      "----------------------------------------------------------------------------------\n",
      "const                 -5.5210     0.0368 -149.8360 0.0000      -5.5932     -5.4488\n",
      "Masculine              0.1810     0.0162   11.1682 0.0000       0.1493      0.2128\n",
      "Age                    1.1356     0.0497   22.8547 0.0000       1.0382      1.2330\n",
      "18-24                 -0.1449     0.0850   -1.7055 0.0881      -0.3114      0.0216\n",
      "25-34                 -0.0849     0.0720   -1.1798 0.2381      -0.2259      0.0561\n",
      "35-44                 -0.0450     0.0547   -0.8233 0.4104      -0.1522      0.0622\n",
      "45-54                 -0.0463     0.0356   -1.2993 0.1938      -0.1161      0.0235\n",
      "55-64                 -0.0081     0.0203   -0.3998 0.6893      -0.0480      0.0317\n",
      "Race_White            -0.0933     0.0313   -2.9791 0.0029      -0.1546     -0.0319\n",
      "Race_Brown            -0.0520     0.0324   -1.6052 0.1084      -0.1154      0.0115\n",
      "Race_Yellow           -0.0047     0.0212   -0.2214 0.8248      -0.0462      0.0368\n",
      "Race_Indigenous       -0.0173     0.0204   -0.8505 0.3950      -0.0573      0.0226\n",
      "Pregnant               0.0715     0.0271    2.6396 0.0083       0.0184      0.1245\n",
      "Disabled               0.0701     0.0105    6.6680 0.0000       0.0495      0.0907\n",
      "Cough                  0.0590        nan       nan    nan          nan         nan\n",
      "Throat_pain           -0.1305        nan       nan    nan          nan         nan\n",
      "Rhinitis              -0.1983        nan       nan    nan          nan         nan\n",
      "Headache              -0.1919        nan       nan    nan          nan         nan\n",
      "Fever                  0.1845        nan       nan    nan          nan         nan\n",
      "Diarrhea              -0.0096        nan       nan    nan          nan         nan\n",
      "Breath_difficulty      0.3703        nan       nan    nan          nan         nan\n",
      "Comorbidity_smoking   -0.0179 14746.4081   -0.0000 1.0000  -28902.4467  28902.4110\n",
      "Comorbidity_cardiac    0.0016 42994.9738    0.0000 1.0000  -84268.5985  84268.6018\n",
      "Comorbidity_pulmonary  0.0333 17304.5605    0.0000 1.0000  -33916.2821  33916.3487\n",
      "Comorbidity_diabetes   0.0730 27142.9053    0.0000 1.0000  -53199.0438  53199.1897\n",
      "Comorbidity_renal      0.0459  7767.3785    0.0000 1.0000  -15223.7363  15223.8281\n",
      "Comorbidity_obesity    0.1546 18238.0752    0.0000 1.0000  -35745.8159  35746.1252\n",
      "Delta_RegDiag         -0.0235     0.0157   -1.5029 0.1329      -0.0542      0.0072\n",
      "n_comor                0.0777 71050.6378    0.0000 1.0000 -139256.6135 139256.7688\n",
      "n_symp                -0.0075        nan       nan    nan          nan         nan\n",
      "Hospitalized           0.3890     0.0051   76.2081 0.0000       0.3790      0.3990\n",
      "==================================================================================\n",
      "\n"
     ]
    }
   ],
   "source": [
    "logit = sm.Logit(y_train.values.reshape(-1, ), X_train_stats)\n",
    "result = logit.fit()\n",
    "print(result.summary2())"
   ]
  },
  {
   "cell_type": "markdown",
   "id": "8187967f",
   "metadata": {},
   "source": [
    "- Features related to symptoms are eliminated, since, for example, whether or not a patient has a fever should not predict death.\n",
    "- `Breath_difficulty` is taken as an exception."
   ]
  },
  {
   "cell_type": "code",
   "execution_count": 52,
   "id": "dbb34aa5",
   "metadata": {},
   "outputs": [],
   "source": [
    "X_train_sm = X_train_sm.drop([\"Cough\", \"Throat_pain\", \"Rhinitis\", \"Headache\", \"Fever\", \"Diarrhea\"], axis = 1)"
   ]
  },
  {
   "cell_type": "markdown",
   "id": "61d0d4dd",
   "metadata": {},
   "source": [
    "A new test is performed."
   ]
  },
  {
   "cell_type": "code",
   "execution_count": 53,
   "id": "59f6cba9",
   "metadata": {},
   "outputs": [],
   "source": [
    "X_train_stats = sm.add_constant(X_train_sm)"
   ]
  },
  {
   "cell_type": "code",
   "execution_count": 54,
   "id": "e43d0797",
   "metadata": {},
   "outputs": [
    {
     "name": "stdout",
     "output_type": "stream",
     "text": [
      "Warning: Maximum number of iterations has been exceeded.\n",
      "         Current function value: 0.056242\n",
      "         Iterations: 35\n"
     ]
    },
    {
     "name": "stderr",
     "output_type": "stream",
     "text": [
      "C:\\Users\\Usuario\\anaconda3\\lib\\site-packages\\statsmodels\\base\\model.py:604: ConvergenceWarning: Maximum Likelihood optimization failed to converge. Check mle_retvals\n",
      "  warnings.warn(\"Maximum Likelihood optimization failed to \"\n"
     ]
    },
    {
     "name": "stdout",
     "output_type": "stream",
     "text": [
      "                                 Results: Logit\n",
      "================================================================================\n",
      "Model:                   Logit                 Pseudo R-squared:      0.426     \n",
      "Dependent Variable:      y                     AIC:                   34643.4255\n",
      "Date:                    2022-08-22 13:39      BIC:                   34909.3348\n",
      "No. Observations:        307543                Log-Likelihood:        -17297.   \n",
      "Df Model:                24                    LL-Null:               -30156.   \n",
      "Df Residuals:            307518                LLR p-value:           0.0000    \n",
      "Converged:               0.0000                Scale:                 1.0000    \n",
      "No. Iterations:          35.0000                                                \n",
      "--------------------------------------------------------------------------------\n",
      "                       Coef.   Std.Err.      z     P>|z|     [0.025     0.975]  \n",
      "--------------------------------------------------------------------------------\n",
      "const                 -5.4601     0.0363 -150.5931 0.0000     -5.5312    -5.3891\n",
      "Masculine              0.2120     0.0161   13.2046 0.0000      0.1806     0.2435\n",
      "Age                    1.1734     0.0495   23.6897 0.0000      1.0763     1.2705\n",
      "18-24                 -0.1342     0.0848   -1.5821 0.1136     -0.3004     0.0321\n",
      "25-34                 -0.0709     0.0718   -0.9870 0.3236     -0.2116     0.0699\n",
      "35-44                 -0.0344     0.0546   -0.6298 0.5288     -0.1413     0.0726\n",
      "45-54                 -0.0382     0.0355   -1.0755 0.2822     -0.1079     0.0314\n",
      "55-64                 -0.0054     0.0203   -0.2649 0.7911     -0.0451     0.0344\n",
      "Race_White            -0.1053     0.0312   -3.3773 0.0007     -0.1665    -0.0442\n",
      "Race_Brown            -0.0593     0.0323   -1.8385 0.0660     -0.1225     0.0039\n",
      "Race_Yellow           -0.0082     0.0211   -0.3890 0.6973     -0.0496     0.0332\n",
      "Race_Indigenous       -0.0167     0.0206   -0.8100 0.4179     -0.0570     0.0236\n",
      "Pregnant               0.0700     0.0271    2.5870 0.0097      0.0170     0.1230\n",
      "Disabled               0.0713     0.0105    6.7954 0.0000      0.0507     0.0918\n",
      "Breath_difficulty      0.4171     0.0124   33.6041 0.0000      0.3928     0.4415\n",
      "Comorbidity_smoking   -0.0208  9342.8495   -0.0000 1.0000 -18311.6693 18311.6277\n",
      "Comorbidity_cardiac    0.0069 27240.2313    0.0000 1.0000 -53389.8653 53389.8792\n",
      "Comorbidity_pulmonary  0.0351 10963.6125    0.0000 1.0000 -21488.2505 21488.3206\n",
      "Comorbidity_diabetes   0.0751 17196.8710    0.0000 1.0000 -33705.1727 33705.3228\n",
      "Comorbidity_renal      0.0475  4921.1610    0.0000 1.0000  -9645.2508  9645.3458\n",
      "Comorbidity_obesity    0.1546 11555.0573    0.0000 1.0000 -22647.3416 22647.6508\n",
      "Delta_RegDiag         -0.0083     0.0156   -0.5318 0.5949     -0.0388     0.0222\n",
      "n_comor                0.0823 45015.3968    0.0000 1.0000 -88228.4742 88228.6387\n",
      "n_symp                -0.1572     0.0183   -8.6021 0.0000     -0.1930    -0.1214\n",
      "Hospitalized           0.3983     0.0051   78.3604 0.0000      0.3884     0.4083\n",
      "================================================================================\n",
      "\n"
     ]
    }
   ],
   "source": [
    "logit = sm.Logit(y_train.values.reshape(-1, ), X_train_stats)\n",
    "result = logit.fit()\n",
    "print(result.summary2())"
   ]
  },
  {
   "cell_type": "markdown",
   "id": "892a61c3",
   "metadata": {},
   "source": [
    "Age categories are eliminated as they do not have statistical significance."
   ]
  },
  {
   "cell_type": "code",
   "execution_count": 55,
   "id": "3278f634",
   "metadata": {},
   "outputs": [],
   "source": [
    "X_train_sm = X_train_sm.drop([\"18-24\", \"25-34\", \"35-44\", \"45-54\", \"55-64\"], axis = 1)"
   ]
  },
  {
   "cell_type": "markdown",
   "id": "07f535b6",
   "metadata": {},
   "source": [
    "A new test is performed."
   ]
  },
  {
   "cell_type": "code",
   "execution_count": 56,
   "id": "96eafeab",
   "metadata": {},
   "outputs": [],
   "source": [
    "X_train_stats = sm.add_constant(X_train_sm)"
   ]
  },
  {
   "cell_type": "code",
   "execution_count": 57,
   "id": "1a3ea0f3",
   "metadata": {},
   "outputs": [
    {
     "name": "stdout",
     "output_type": "stream",
     "text": [
      "Optimization terminated successfully.\n",
      "         Current function value: 0.056248\n",
      "         Iterations 10\n",
      "                                 Results: Logit\n",
      "================================================================================\n",
      "Model:                   Logit                 Pseudo R-squared:      0.426     \n",
      "Dependent Variable:      y                     AIC:                   34637.5909\n",
      "Date:                    2022-08-22 13:39      BIC:                   34850.3183\n",
      "No. Observations:        307543                Log-Likelihood:        -17299.   \n",
      "Df Model:                19                    LL-Null:               -30156.   \n",
      "Df Residuals:            307523                LLR p-value:           0.0000    \n",
      "Converged:               1.0000                Scale:                 1.0000    \n",
      "No. Iterations:          10.0000                                                \n",
      "--------------------------------------------------------------------------------\n",
      "                       Coef.   Std.Err.      z     P>|z|     [0.025     0.975]  \n",
      "--------------------------------------------------------------------------------\n",
      "const                 -5.4305     0.0293 -185.5236 0.0000     -5.4879    -5.3732\n",
      "Masculine              0.2127     0.0161   13.2462 0.0000      0.1812     0.2442\n",
      "Age                    1.2207     0.0176   69.3073 0.0000      1.1862     1.2552\n",
      "Race_White            -0.1055     0.0312   -3.3818 0.0007     -0.1667    -0.0444\n",
      "Race_Brown            -0.0591     0.0323   -1.8312 0.0671     -0.1223     0.0042\n",
      "Race_Yellow           -0.0083     0.0211   -0.3930 0.6943     -0.0497     0.0331\n",
      "Race_Indigenous       -0.0168     0.0206   -0.8146 0.4153     -0.0571     0.0236\n",
      "Pregnant               0.0674     0.0269    2.5047 0.0123      0.0146     0.1201\n",
      "Disabled               0.0710     0.0105    6.7655 0.0000      0.0504     0.0916\n",
      "Breath_difficulty      0.4165     0.0124   33.5629 0.0000      0.3922     0.4408\n",
      "Comorbidity_smoking   -0.0207  6636.9567   -0.0000 1.0000 -13008.2169 13008.1754\n",
      "Comorbidity_cardiac    0.0070 19350.8668    0.0000 1.0000 -37926.9951 37927.0091\n",
      "Comorbidity_pulmonary  0.0345  7788.3114    0.0000 1.0000 -15264.7754 15264.8444\n",
      "Comorbidity_diabetes   0.0755 12216.2825    0.0000 1.0000 -23943.3982 23943.5492\n",
      "Comorbidity_renal      0.0476  3495.8856    0.0000 1.0000  -6851.7622  6851.8573\n",
      "Comorbidity_obesity    0.1548  8208.4610    0.0000 1.0000 -16088.1331 16088.4427\n",
      "Delta_RegDiag         -0.0078     0.0156   -0.5021 0.6156     -0.0383     0.0227\n",
      "n_comor                0.0828 31977.9572    0.0000 1.0000 -62675.5615 62675.7272\n",
      "n_symp                -0.1564     0.0183   -8.5597 0.0000     -0.1922    -0.1206\n",
      "Hospitalized           0.3988     0.0051   78.6070 0.0000      0.3889     0.4088\n",
      "================================================================================\n",
      "\n"
     ]
    }
   ],
   "source": [
    "logit = sm.Logit(y_train.values.reshape(-1, ), X_train_stats)\n",
    "result = logit.fit()\n",
    "print(result.summary2())"
   ]
  },
  {
   "cell_type": "markdown",
   "id": "76452ed6",
   "metadata": {},
   "source": [
    "- The category of race is eliminated because it does not have statistical significance.\n",
    "- `Race_White` has statistical significance."
   ]
  },
  {
   "cell_type": "code",
   "execution_count": 58,
   "id": "bca8c25d",
   "metadata": {},
   "outputs": [],
   "source": [
    "X_train_sm = X_train_sm.drop([\"Race_Brown\", \"Race_Yellow\", \"Race_Indigenous\"], axis = 1)"
   ]
  },
  {
   "cell_type": "code",
   "execution_count": 59,
   "id": "0277774d",
   "metadata": {},
   "outputs": [],
   "source": [
    "X_train_stats = sm.add_constant(X_train_sm)"
   ]
  },
  {
   "cell_type": "code",
   "execution_count": 60,
   "id": "641300b2",
   "metadata": {},
   "outputs": [
    {
     "name": "stdout",
     "output_type": "stream",
     "text": [
      "Warning: Maximum number of iterations has been exceeded.\n",
      "         Current function value: 0.056257\n",
      "         Iterations: 35\n"
     ]
    },
    {
     "name": "stderr",
     "output_type": "stream",
     "text": [
      "C:\\Users\\Usuario\\anaconda3\\lib\\site-packages\\statsmodels\\base\\model.py:604: ConvergenceWarning: Maximum Likelihood optimization failed to converge. Check mle_retvals\n",
      "  warnings.warn(\"Maximum Likelihood optimization failed to \"\n"
     ]
    },
    {
     "name": "stdout",
     "output_type": "stream",
     "text": [
      "                                  Results: Logit\n",
      "===================================================================================\n",
      "Model:                    Logit                  Pseudo R-squared:       0.426     \n",
      "Dependent Variable:       y                      AIC:                    34636.6927\n",
      "Date:                     2022-08-22 13:39       BIC:                    34817.5110\n",
      "No. Observations:         307543                 Log-Likelihood:         -17301.   \n",
      "Df Model:                 16                     LL-Null:                -30156.   \n",
      "Df Residuals:             307526                 LLR p-value:            0.0000    \n",
      "Converged:                0.0000                 Scale:                  1.0000    \n",
      "No. Iterations:           35.0000                                                  \n",
      "-----------------------------------------------------------------------------------\n",
      "                       Coef.    Std.Err.      z     P>|z|     [0.025       0.975]  \n",
      "-----------------------------------------------------------------------------------\n",
      "const                 -5.4300      0.0293 -185.5395 0.0000      -5.4874     -5.3727\n",
      "Masculine              0.2128      0.0161   13.2546 0.0000       0.1813      0.2443\n",
      "Age                    1.2205      0.0176   69.3037 0.0000       1.1860      1.2550\n",
      "Race_White            -0.0599      0.0158   -3.7941 0.0001      -0.0909     -0.0290\n",
      "Pregnant               0.0676      0.0269    2.5154 0.0119       0.0149      0.1202\n",
      "Disabled               0.0711      0.0105    6.7743 0.0000       0.0505      0.0917\n",
      "Breath_difficulty      0.4171      0.0124   33.6218 0.0000       0.3928      0.4414\n",
      "Comorbidity_smoking   -0.0206  21106.2564   -0.0000 1.0000  -41367.5230  41367.4819\n",
      "Comorbidity_cardiac    0.0079  61537.8968    0.0000 1.0000 -120612.0536 120612.0693\n",
      "Comorbidity_pulmonary  0.0341  24767.6918    0.0000 1.0000  -48543.7498  48543.8181\n",
      "Comorbidity_diabetes   0.0756  38849.1295    0.0000 1.0000  -76142.8190  76142.9702\n",
      "Comorbidity_renal      0.0474  11117.3027    0.0000 1.0000  -21789.4655  21789.5604\n",
      "Comorbidity_obesity    0.1550  26103.8138    0.0000 1.0000  -51162.3799  51162.6899\n",
      "Delta_RegDiag         -0.0081      0.0156   -0.5199 0.6032      -0.0386      0.0224\n",
      "n_comor                0.0832 101693.4406    0.0000 1.0000 -199315.3979 199315.5643\n",
      "n_symp                -0.1558      0.0183   -8.5301 0.0000      -0.1915     -0.1200\n",
      "Hospitalized           0.3989      0.0051   78.6323 0.0000       0.3890      0.4089\n",
      "===================================================================================\n",
      "\n"
     ]
    }
   ],
   "source": [
    "logit = sm.Logit(y_train.values.reshape(-1, ), X_train_stats)\n",
    "result = logit.fit()\n",
    "print(result.summary2())"
   ]
  },
  {
   "cell_type": "markdown",
   "id": "11ef2cc2",
   "metadata": {},
   "source": [
    "- Some features have a value of `p = nan`. Some extra analysis will be done for clarity.\n",
    "\n",
    "- `n_comor`, `Delta_RegDiag`: This variables are described in the literature as factors that could predict mortality, therefore they are not eliminated at the moment."
   ]
  },
  {
   "cell_type": "markdown",
   "id": "b2166c7b",
   "metadata": {},
   "source": [
    "<a id='2.E.2'></a>"
   ]
  },
  {
   "cell_type": "markdown",
   "id": "a04403c1",
   "metadata": {},
   "source": [
    "### E.2 Correlation with heatmap"
   ]
  },
  {
   "cell_type": "markdown",
   "id": "81eea3fe",
   "metadata": {},
   "source": [
    "Collinearity is sought between numerical variables."
   ]
  },
  {
   "cell_type": "code",
   "execution_count": 61,
   "id": "d1ff18a7",
   "metadata": {},
   "outputs": [
    {
     "data": {
      "text/plain": [
       "Index(['Masculine', 'Age', '18-24', '25-34', '35-44', '45-54', '55-64',\n",
       "       'Race_White', 'Race_Brown', 'Race_Yellow', 'Race_Indigenous',\n",
       "       'Pregnant', 'Disabled', 'Cough', 'Throat_pain', 'Rhinitis', 'Headache',\n",
       "       'Fever', 'Diarrhea', 'Breath_difficulty', 'Comorbidity_smoking',\n",
       "       'Comorbidity_cardiac', 'Comorbidity_pulmonary', 'Comorbidity_diabetes',\n",
       "       'Comorbidity_renal', 'Comorbidity_obesity', 'Delta_RegDiag', 'n_comor',\n",
       "       'n_symp', 'Hospitalized'],\n",
       "      dtype='object')"
      ]
     },
     "execution_count": 61,
     "metadata": {},
     "output_type": "execute_result"
    }
   ],
   "source": [
    "X_train_std.columns"
   ]
  },
  {
   "cell_type": "code",
   "execution_count": 62,
   "id": "4b7a4252",
   "metadata": {},
   "outputs": [],
   "source": [
    "categoricals = [\"Masculine\", \"18-24\", \"25-34\", \"35-44\", \"45-54\", \"55-64\",\n",
    "                \"Race_White\", \"Race_Brown\", \"Race_Yellow\", \"Race_Indigenous\", \n",
    "                \"Pregnant\", \"Disabled\", \n",
    "                \"Cough\", \"Throat_pain\", \"Rhinitis\", \"Headache\", \"Fever\", \"Diarrhea\", \"Breath_difficulty\", \n",
    "                \"Comorbidity_smoking\", \"Comorbidity_cardiac\", \"Comorbidity_pulmonary\", \"Comorbidity_diabetes\", \"Comorbidity_renal\", \"Comorbidity_obesity\",\n",
    "                \"Hospitalized\"]\n",
    "numericals = [\"Age\", \"Delta_RegDiag\", \"n_comor\", \"n_symp\"]"
   ]
  },
  {
   "cell_type": "code",
   "execution_count": 63,
   "id": "312d209e",
   "metadata": {},
   "outputs": [],
   "source": [
    "corr = pd.concat([X_train[numericals], y_train], axis = 1).corr(method = \"pearson\")"
   ]
  },
  {
   "cell_type": "code",
   "execution_count": 64,
   "id": "ca269576",
   "metadata": {},
   "outputs": [
    {
     "data": {
      "image/png": "[encoded data removed]",
      "text/plain": [
       "<Figure size 576x576 with 2 Axes>"
      ]
     },
     "metadata": {},
     "output_type": "display_data"
    }
   ],
   "source": [
    "plt.style.use(\"seaborn-white\")\n",
    "\n",
    "fig, ax = plt.subplots(figsize = (8, 8))\n",
    "\n",
    "cmap = sns.diverging_palette(240, 10, n = 9, center = 'light')\n",
    "\n",
    "sns.heatmap(corr, linewidths =.2, cmap = cmap, cbar_kws = {\"shrink\": .8}, square = True, xticklabels = True, yticklabels = True, annot = True, annot_kws = {'size': 14}, fmt = '.2f');\n",
    "\n",
    "plt.title(\"Correlation between features and target variable\", fontsize = 20)\n",
    "plt.yticks(fontsize =  16, rotation = 0) \n",
    "plt.xticks(fontsize = 16, rotation = 90)\n",
    "\n",
    "plt.show()"
   ]
  },
  {
   "cell_type": "markdown",
   "id": "56d8e96a",
   "metadata": {},
   "source": [
    "- A strong correlation (pearson > 0.80) between the numerical variables is not observed.\n",
    "\n",
    "- It is observed that `Age` and `n_comor` are correlated with the target variable."
   ]
  },
  {
   "cell_type": "markdown",
   "id": "e69e8d8c",
   "metadata": {},
   "source": [
    "<a id='2.E.3'></a>"
   ]
  },
  {
   "cell_type": "markdown",
   "id": "2295a60d",
   "metadata": {},
   "source": [
    "### E.3 VIF"
   ]
  },
  {
   "cell_type": "code",
   "execution_count": 65,
   "id": "33faa3c0",
   "metadata": {},
   "outputs": [],
   "source": [
    "def compute_vif(considered_features):\n",
    "    \n",
    "    X = X_train[considered_features]\n",
    "    # the calculation of variance inflation requires a constant\n",
    "    X[\"intercept\"] = 1\n",
    "    \n",
    "    # create dataframe to store vif values\n",
    "    vif = pd.DataFrame()\n",
    "    vif[\"Variable\"] = X.columns\n",
    "    vif[\"VIF\"] = [variance_inflation_factor(X.values, i) for i in range(X.shape[1])]\n",
    "    vif = vif[vif[\"Variable\"] != \"intercept\"]\n",
    "    return vif"
   ]
  },
  {
   "cell_type": "code",
   "execution_count": 66,
   "id": "66e245c9",
   "metadata": {},
   "outputs": [
    {
     "name": "stderr",
     "output_type": "stream",
     "text": [
      "C:\\Users\\Usuario\\AppData\\Local\\Temp\\ipykernel_4776\\3266933239.py:5: SettingWithCopyWarning: \n",
      "A value is trying to be set on a copy of a slice from a DataFrame.\n",
      "Try using .loc[row_indexer,col_indexer] = value instead\n",
      "\n",
      "See the caveats in the documentation: https://pandas.pydata.org/pandas-docs/stable/user_guide/indexing.html#returning-a-view-versus-a-copy\n",
      "  X[\"intercept\"] = 1\n"
     ]
    },
    {
     "data": {
      "text/html": [
       "<div>\n",
       "<style scoped>\n",
       "    .dataframe tbody tr th:only-of-type {\n",
       "        vertical-align: middle;\n",
       "    }\n",
       "\n",
       "    .dataframe tbody tr th {\n",
       "        vertical-align: top;\n",
       "    }\n",
       "\n",
       "    .dataframe thead th {\n",
       "        text-align: right;\n",
       "    }\n",
       "</style>\n",
       "<table border=\"1\" class=\"dataframe\">\n",
       "  <thead>\n",
       "    <tr style=\"text-align: right;\">\n",
       "      <th></th>\n",
       "      <th>Variable</th>\n",
       "      <th>VIF</th>\n",
       "    </tr>\n",
       "  </thead>\n",
       "  <tbody>\n",
       "    <tr>\n",
       "      <th>2</th>\n",
       "      <td>n_comor</td>\n",
       "      <td>1.163129</td>\n",
       "    </tr>\n",
       "    <tr>\n",
       "      <th>0</th>\n",
       "      <td>Age</td>\n",
       "      <td>1.155376</td>\n",
       "    </tr>\n",
       "    <tr>\n",
       "      <th>3</th>\n",
       "      <td>n_symp</td>\n",
       "      <td>1.057500</td>\n",
       "    </tr>\n",
       "    <tr>\n",
       "      <th>1</th>\n",
       "      <td>Delta_RegDiag</td>\n",
       "      <td>1.040887</td>\n",
       "    </tr>\n",
       "  </tbody>\n",
       "</table>\n",
       "</div>"
      ],
      "text/plain": [
       "        Variable       VIF\n",
       "2        n_comor  1.163129\n",
       "0            Age  1.155376\n",
       "3         n_symp  1.057500\n",
       "1  Delta_RegDiag  1.040887"
      ]
     },
     "execution_count": 66,
     "metadata": {},
     "output_type": "execute_result"
    }
   ],
   "source": [
    "compute_vif(numericals).sort_values(by = \"VIF\", ascending = False) "
   ]
  },
  {
   "cell_type": "markdown",
   "id": "eb44c3e3",
   "metadata": {},
   "source": [
    "<a id='2.E.4'></a>"
   ]
  },
  {
   "cell_type": "markdown",
   "id": "a462a816",
   "metadata": {},
   "source": [
    "### E.4 RFE()"
   ]
  },
  {
   "cell_type": "markdown",
   "id": "bc0ac7f6",
   "metadata": {},
   "source": [
    "- Recursive Feature Elmination (RFE) starts to iterate with all the features, builds a model and discards the least important feature encoding to the model. \n",
    "\n",
    "- Then a new model is built using all but the discarded feature, and so on until only a prespecificied number of features are left. "
   ]
  },
  {
   "cell_type": "markdown",
   "id": "1bfdb3d1",
   "metadata": {},
   "source": [
    "Columns that do not have statistical significance according to statsmodel are eliminated (except for `comorbidities`, `n_comor` and `Delta_RegDiag`)"
   ]
  },
  {
   "cell_type": "code",
   "execution_count": 67,
   "id": "5f4baf09",
   "metadata": {},
   "outputs": [],
   "source": [
    "X_train_std = X_train_std.drop([\"Cough\", \"Throat_pain\", \"Rhinitis\", \"Headache\", \"Fever\", \"Diarrhea\",\n",
    "                               \"18-24\", \"25-34\", \"35-44\", \"45-54\", \"55-64\",\n",
    "                               \"Race_Brown\", \"Race_Yellow\", \"Race_Indigenous\"], axis = 1)"
   ]
  },
  {
   "cell_type": "markdown",
   "id": "4eb083b7",
   "metadata": {},
   "source": [
    "Randomforest + RFE will be used to keep 10 features."
   ]
  },
  {
   "cell_type": "code",
   "execution_count": 68,
   "id": "3a7e1cc2",
   "metadata": {},
   "outputs": [
    {
     "data": {
      "text/html": [
       "<style>#sk-container-id-1 {color: black;background-color: white;}#sk-container-id-1 pre{padding: 0;}#sk-container-id-1 div.sk-toggleable {background-color: white;}#sk-container-id-1 label.sk-toggleable__label {cursor: pointer;display: block;width: 100%;margin-bottom: 0;padding: 0.3em;box-sizing: border-box;text-align: center;}#sk-container-id-1 label.sk-toggleable__label-arrow:before {content: \"▸\";float: left;margin-right: 0.25em;color: #696969;}#sk-container-id-1 label.sk-toggleable__label-arrow:hover:before {color: black;}#sk-container-id-1 div.sk-estimator:hover label.sk-toggleable__label-arrow:before {color: black;}#sk-container-id-1 div.sk-toggleable__content {max-height: 0;max-width: 0;overflow: hidden;text-align: left;background-color: #f0f8ff;}#sk-container-id-1 div.sk-toggleable__content pre {margin: 0.2em;color: black;border-radius: 0.25em;background-color: #f0f8ff;}#sk-container-id-1 input.sk-toggleable__control:checked~div.sk-toggleable__content {max-height: 200px;max-width: 100%;overflow: auto;}#sk-container-id-1 input.sk-toggleable__control:checked~label.sk-toggleable__label-arrow:before {content: \"▾\";}#sk-container-id-1 div.sk-estimator input.sk-toggleable__control:checked~label.sk-toggleable__label {background-color: #d4ebff;}#sk-container-id-1 div.sk-label input.sk-toggleable__control:checked~label.sk-toggleable__label {background-color: #d4ebff;}#sk-container-id-1 input.sk-hidden--visually {border: 0;clip: rect(1px 1px 1px 1px);clip: rect(1px, 1px, 1px, 1px);height: 1px;margin: -1px;overflow: hidden;padding: 0;position: absolute;width: 1px;}#sk-container-id-1 div.sk-estimator {font-family: monospace;background-color: #f0f8ff;border: 1px dotted black;border-radius: 0.25em;box-sizing: border-box;margin-bottom: 0.5em;}#sk-container-id-1 div.sk-estimator:hover {background-color: #d4ebff;}#sk-container-id-1 div.sk-parallel-item::after {content: \"\";width: 100%;border-bottom: 1px solid gray;flex-grow: 1;}#sk-container-id-1 div.sk-label:hover label.sk-toggleable__label {background-color: #d4ebff;}#sk-container-id-1 div.sk-serial::before {content: \"\";position: absolute;border-left: 1px solid gray;box-sizing: border-box;top: 0;bottom: 0;left: 50%;z-index: 0;}#sk-container-id-1 div.sk-serial {display: flex;flex-direction: column;align-items: center;background-color: white;padding-right: 0.2em;padding-left: 0.2em;position: relative;}#sk-container-id-1 div.sk-item {position: relative;z-index: 1;}#sk-container-id-1 div.sk-parallel {display: flex;align-items: stretch;justify-content: center;background-color: white;position: relative;}#sk-container-id-1 div.sk-item::before, #sk-container-id-1 div.sk-parallel-item::before {content: \"\";position: absolute;border-left: 1px solid gray;box-sizing: border-box;top: 0;bottom: 0;left: 50%;z-index: -1;}#sk-container-id-1 div.sk-parallel-item {display: flex;flex-direction: column;z-index: 1;position: relative;background-color: white;}#sk-container-id-1 div.sk-parallel-item:first-child::after {align-self: flex-end;width: 50%;}#sk-container-id-1 div.sk-parallel-item:last-child::after {align-self: flex-start;width: 50%;}#sk-container-id-1 div.sk-parallel-item:only-child::after {width: 0;}#sk-container-id-1 div.sk-dashed-wrapped {border: 1px dashed gray;margin: 0 0.4em 0.5em 0.4em;box-sizing: border-box;padding-bottom: 0.4em;background-color: white;}#sk-container-id-1 div.sk-label label {font-family: monospace;font-weight: bold;display: inline-block;line-height: 1.2em;}#sk-container-id-1 div.sk-label-container {text-align: center;}#sk-container-id-1 div.sk-container {/* jupyter's `normalize.less` sets `[hidden] { display: none; }` but bootstrap.min.css set `[hidden] { display: none !important; }` so we also need the `!important` here to be able to override the default hidden behavior on the sphinx rendered scikit-learn.org. See: https://github.com/scikit-learn/scikit-learn/issues/21755 */display: inline-block !important;position: relative;}#sk-container-id-1 div.sk-text-repr-fallback {display: none;}</style><div id=\"sk-container-id-1\" class=\"sk-top-container\"><div class=\"sk-text-repr-fallback\"><pre>RFE(estimator=RandomForestClassifier(random_state=123), n_features_to_select=10)</pre><b>In a Jupyter environment, please rerun this cell to show the HTML representation or trust the notebook. <br />On GitHub, the HTML representation is unable to render, please try loading this page with nbviewer.org.</b></div><div class=\"sk-container\" hidden><div class=\"sk-item sk-dashed-wrapped\"><div class=\"sk-label-container\"><div class=\"sk-label sk-toggleable\"><input class=\"sk-toggleable__control sk-hidden--visually\" id=\"sk-estimator-id-1\" type=\"checkbox\" ><label for=\"sk-estimator-id-1\" class=\"sk-toggleable__label sk-toggleable__label-arrow\">RFE</label><div class=\"sk-toggleable__content\"><pre>RFE(estimator=RandomForestClassifier(random_state=123), n_features_to_select=10)</pre></div></div></div><div class=\"sk-parallel\"><div class=\"sk-parallel-item\"><div class=\"sk-item\"><div class=\"sk-label-container\"><div class=\"sk-label sk-toggleable\"><input class=\"sk-toggleable__control sk-hidden--visually\" id=\"sk-estimator-id-2\" type=\"checkbox\" ><label for=\"sk-estimator-id-2\" class=\"sk-toggleable__label sk-toggleable__label-arrow\">estimator: RandomForestClassifier</label><div class=\"sk-toggleable__content\"><pre>RandomForestClassifier(random_state=123)</pre></div></div></div><div class=\"sk-serial\"><div class=\"sk-item\"><div class=\"sk-estimator sk-toggleable\"><input class=\"sk-toggleable__control sk-hidden--visually\" id=\"sk-estimator-id-3\" type=\"checkbox\" ><label for=\"sk-estimator-id-3\" class=\"sk-toggleable__label sk-toggleable__label-arrow\">RandomForestClassifier</label><div class=\"sk-toggleable__content\"><pre>RandomForestClassifier(random_state=123)</pre></div></div></div></div></div></div></div></div></div></div>"
      ],
      "text/plain": [
       "RFE(estimator=RandomForestClassifier(random_state=123), n_features_to_select=10)"
      ]
     },
     "execution_count": 68,
     "metadata": {},
     "output_type": "execute_result"
    }
   ],
   "source": [
    "select = RFE(RandomForestClassifier(n_estimators = 100, random_state = 123), n_features_to_select = 10)\n",
    "select.fit(X_train_std, y_train.values.reshape(-1,))"
   ]
  },
  {
   "cell_type": "markdown",
   "id": "c0939842",
   "metadata": {},
   "source": [
    "The columns that remain after applying RFE are observed."
   ]
  },
  {
   "cell_type": "code",
   "execution_count": 69,
   "id": "1ee5be82",
   "metadata": {},
   "outputs": [
    {
     "data": {
      "text/html": [
       "<div>\n",
       "<style scoped>\n",
       "    .dataframe tbody tr th:only-of-type {\n",
       "        vertical-align: middle;\n",
       "    }\n",
       "\n",
       "    .dataframe tbody tr th {\n",
       "        vertical-align: top;\n",
       "    }\n",
       "\n",
       "    .dataframe thead th {\n",
       "        text-align: right;\n",
       "    }\n",
       "</style>\n",
       "<table border=\"1\" class=\"dataframe\">\n",
       "  <thead>\n",
       "    <tr style=\"text-align: right;\">\n",
       "      <th></th>\n",
       "      <th>Masculine</th>\n",
       "      <th>Age</th>\n",
       "      <th>Race_White</th>\n",
       "      <th>Breath_difficulty</th>\n",
       "      <th>Comorbidity_cardiac</th>\n",
       "      <th>Comorbidity_diabetes</th>\n",
       "      <th>Delta_RegDiag</th>\n",
       "      <th>n_comor</th>\n",
       "      <th>n_symp</th>\n",
       "      <th>Hospitalized</th>\n",
       "    </tr>\n",
       "  </thead>\n",
       "  <tbody>\n",
       "    <tr>\n",
       "      <th>0</th>\n",
       "      <td>-0.931809</td>\n",
       "      <td>-0.536064</td>\n",
       "      <td>-0.684295</td>\n",
       "      <td>-0.379458</td>\n",
       "      <td>-0.404328</td>\n",
       "      <td>-0.231106</td>\n",
       "      <td>-0.353782</td>\n",
       "      <td>-0.438408</td>\n",
       "      <td>0.988785</td>\n",
       "      <td>-0.125048</td>\n",
       "    </tr>\n",
       "    <tr>\n",
       "      <th>1</th>\n",
       "      <td>-0.931809</td>\n",
       "      <td>-0.536064</td>\n",
       "      <td>-0.684295</td>\n",
       "      <td>-0.379458</td>\n",
       "      <td>-0.404328</td>\n",
       "      <td>-0.231106</td>\n",
       "      <td>0.679192</td>\n",
       "      <td>-0.438408</td>\n",
       "      <td>-0.281003</td>\n",
       "      <td>-0.125048</td>\n",
       "    </tr>\n",
       "  </tbody>\n",
       "</table>\n",
       "</div>"
      ],
      "text/plain": [
       "   Masculine       Age  Race_White  Breath_difficulty  Comorbidity_cardiac  \\\n",
       "0  -0.931809 -0.536064   -0.684295          -0.379458            -0.404328   \n",
       "1  -0.931809 -0.536064   -0.684295          -0.379458            -0.404328   \n",
       "\n",
       "   Comorbidity_diabetes  Delta_RegDiag   n_comor    n_symp  Hospitalized  \n",
       "0             -0.231106      -0.353782 -0.438408  0.988785     -0.125048  \n",
       "1             -0.231106       0.679192 -0.438408 -0.281003     -0.125048  "
      ]
     },
     "execution_count": 69,
     "metadata": {},
     "output_type": "execute_result"
    }
   ],
   "source": [
    "cols = select.get_support(indices = True)\n",
    "X_train_std = X_train_std.iloc[:, cols]\n",
    "X_train_std.head(2)"
   ]
  },
  {
   "cell_type": "code",
   "execution_count": 70,
   "id": "6196683f",
   "metadata": {},
   "outputs": [],
   "source": [
    "X_test_std = X_test_std[X_train_std.columns]"
   ]
  },
  {
   "cell_type": "code",
   "execution_count": 71,
   "id": "afe6e1bc",
   "metadata": {},
   "outputs": [
    {
     "name": "stdout",
     "output_type": "stream",
     "text": [
      "X_train_std.shape: (307543, 10)\n",
      "y_train.shape: (307543,)\n",
      "------------------------------------------------\n",
      "X_test_std.shape: (76886, 10)\n",
      "y_test.shape: (76886,)\n"
     ]
    }
   ],
   "source": [
    "print(\"X_train_std.shape:\", X_train_std.shape)\n",
    "print(\"y_train.shape:\", y_train.shape)\n",
    "print(\"---\" * 16)\n",
    "print(\"X_test_std.shape:\", X_test_std.shape)\n",
    "print(\"y_test.shape:\", y_test.shape)\n"
   ]
  },
  {
   "cell_type": "code",
   "execution_count": 72,
   "id": "af7ea082",
   "metadata": {},
   "outputs": [
    {
     "data": {
      "text/html": [
       "<div>\n",
       "<style scoped>\n",
       "    .dataframe tbody tr th:only-of-type {\n",
       "        vertical-align: middle;\n",
       "    }\n",
       "\n",
       "    .dataframe tbody tr th {\n",
       "        vertical-align: top;\n",
       "    }\n",
       "\n",
       "    .dataframe thead th {\n",
       "        text-align: right;\n",
       "    }\n",
       "</style>\n",
       "<table border=\"1\" class=\"dataframe\">\n",
       "  <thead>\n",
       "    <tr style=\"text-align: right;\">\n",
       "      <th></th>\n",
       "      <th>Masculine</th>\n",
       "      <th>Age</th>\n",
       "      <th>Race_White</th>\n",
       "      <th>Breath_difficulty</th>\n",
       "      <th>Comorbidity_cardiac</th>\n",
       "      <th>Comorbidity_diabetes</th>\n",
       "      <th>Delta_RegDiag</th>\n",
       "      <th>n_comor</th>\n",
       "      <th>n_symp</th>\n",
       "      <th>Hospitalized</th>\n",
       "    </tr>\n",
       "  </thead>\n",
       "  <tbody>\n",
       "    <tr>\n",
       "      <th>0</th>\n",
       "      <td>1.073182</td>\n",
       "      <td>-0.337782</td>\n",
       "      <td>-0.684295</td>\n",
       "      <td>-0.379458</td>\n",
       "      <td>-0.404328</td>\n",
       "      <td>-0.231106</td>\n",
       "      <td>1.195679</td>\n",
       "      <td>-0.438408</td>\n",
       "      <td>-0.281003</td>\n",
       "      <td>-0.125048</td>\n",
       "    </tr>\n",
       "    <tr>\n",
       "      <th>1</th>\n",
       "      <td>1.073182</td>\n",
       "      <td>-0.469970</td>\n",
       "      <td>1.461359</td>\n",
       "      <td>-0.379458</td>\n",
       "      <td>2.473239</td>\n",
       "      <td>-0.231106</td>\n",
       "      <td>0.162705</td>\n",
       "      <td>1.302898</td>\n",
       "      <td>0.353891</td>\n",
       "      <td>-0.125048</td>\n",
       "    </tr>\n",
       "    <tr>\n",
       "      <th>2</th>\n",
       "      <td>-0.931809</td>\n",
       "      <td>-0.271688</td>\n",
       "      <td>-0.684295</td>\n",
       "      <td>-0.379458</td>\n",
       "      <td>-0.404328</td>\n",
       "      <td>-0.231106</td>\n",
       "      <td>-1.903242</td>\n",
       "      <td>-0.438408</td>\n",
       "      <td>-1.550791</td>\n",
       "      <td>-0.125048</td>\n",
       "    </tr>\n",
       "    <tr>\n",
       "      <th>3</th>\n",
       "      <td>-0.931809</td>\n",
       "      <td>0.653631</td>\n",
       "      <td>-0.684295</td>\n",
       "      <td>-0.379458</td>\n",
       "      <td>-0.404328</td>\n",
       "      <td>-0.231106</td>\n",
       "      <td>1.195679</td>\n",
       "      <td>-0.438408</td>\n",
       "      <td>-0.915897</td>\n",
       "      <td>-0.125048</td>\n",
       "    </tr>\n",
       "    <tr>\n",
       "      <th>4</th>\n",
       "      <td>-0.931809</td>\n",
       "      <td>0.851913</td>\n",
       "      <td>-0.684295</td>\n",
       "      <td>-0.379458</td>\n",
       "      <td>-0.404328</td>\n",
       "      <td>-0.231106</td>\n",
       "      <td>-1.903242</td>\n",
       "      <td>-0.438408</td>\n",
       "      <td>0.988785</td>\n",
       "      <td>-0.125048</td>\n",
       "    </tr>\n",
       "  </tbody>\n",
       "</table>\n",
       "</div>"
      ],
      "text/plain": [
       "   Masculine       Age  Race_White  Breath_difficulty  Comorbidity_cardiac  \\\n",
       "0   1.073182 -0.337782   -0.684295          -0.379458            -0.404328   \n",
       "1   1.073182 -0.469970    1.461359          -0.379458             2.473239   \n",
       "2  -0.931809 -0.271688   -0.684295          -0.379458            -0.404328   \n",
       "3  -0.931809  0.653631   -0.684295          -0.379458            -0.404328   \n",
       "4  -0.931809  0.851913   -0.684295          -0.379458            -0.404328   \n",
       "\n",
       "   Comorbidity_diabetes  Delta_RegDiag   n_comor    n_symp  Hospitalized  \n",
       "0             -0.231106       1.195679 -0.438408 -0.281003     -0.125048  \n",
       "1             -0.231106       0.162705  1.302898  0.353891     -0.125048  \n",
       "2             -0.231106      -1.903242 -0.438408 -1.550791     -0.125048  \n",
       "3             -0.231106       1.195679 -0.438408 -0.915897     -0.125048  \n",
       "4             -0.231106      -1.903242 -0.438408  0.988785     -0.125048  "
      ]
     },
     "execution_count": 72,
     "metadata": {},
     "output_type": "execute_result"
    }
   ],
   "source": [
    "X_test_std.head()"
   ]
  },
  {
   "cell_type": "markdown",
   "id": "0f0bfbb8",
   "metadata": {},
   "source": [
    "The training and test sets are saved in .csv files."
   ]
  },
  {
   "cell_type": "code",
   "execution_count": 73,
   "id": "ad17b1c9",
   "metadata": {},
   "outputs": [],
   "source": [
    "X_train_std.to_csv(\"X_train_std.csv\", index = False)\n",
    "y_train.to_csv(\"y_train.csv\", index = False)\n",
    "X_test_std.to_csv(\"X_test_std.csv\", index = False)\n",
    "y_test.to_csv(\"y_test.csv\", index = False)"
   ]
  },
  {
   "cell_type": "markdown",
   "id": "ea104848",
   "metadata": {},
   "source": [
    "<a id='3'></a>\n",
    "\n",
    "---"
   ]
  },
  {
   "cell_type": "markdown",
   "id": "58c25ac7",
   "metadata": {},
   "source": [
    "# 3. Justification of metrics"
   ]
  },
  {
   "cell_type": "markdown",
   "id": "b54b9a80",
   "metadata": {},
   "source": [
    "<a id='3.A'></a>"
   ]
  },
  {
   "cell_type": "markdown",
   "id": "d9ec3489",
   "metadata": {},
   "source": [
    "## A. Understanding the context of the problem"
   ]
  },
  {
   "cell_type": "markdown",
   "id": "087d1811",
   "metadata": {},
   "source": [
    "- The models that will be constructed below will be thought in the context of a patient attended in an outpatient ward. In this situation, the physician must decide which patients should be referred to a common hospital ward and which patients should be referred to the intensive care unit (ICU).\n",
    "\n",
    "\n",
    "- If the patient is very likely to die then he will NOT be referred to the ICU, in order not to occupy a bed in this unit.\n",
    "\n",
    "\n",
    "- When choosing a metric to evaluate the performance of a predictive model, it is important to ask: What could be the consequences of making a classification error in the real world?\n",
    "\n",
    "    - In this sense, a `true positive (TP)` would be equivalent to stating: \"This patient is going to die, he should NOT be referred to the ICU.\" What happens is that the patient dies and the objective of not occupying an extra ICU bed is achieved. This in turn allows the initiation of end-of-life care for the patient, which includes the presence of the family, in order to say goodbye to the patient. \n",
    "    - A `false positive (FP)` would be equivalent to stating: \"This patient is going to die, he should NOT be referred to the ICU.\" But what happens is that the patient does NOT die and has a chance of survival by being referred to the ICU. The problem is that if the patient is not constantly monitored (a situation that occurs while hospitalized in the ICU), there is an increased risk of death.\n",
    "    - A `true negative (TN)` would be equivalent to stating, \"This patient is NOT going to die, he should be referred to the ICU.\" In this case the patient does NOT die and an extra ICU bed is occupied. \n",
    "    - A `false negative (FN)` would be equivalent to stating, \"This patient is NOT going to die, he should be referred to the ICU.\" In this case the patient dies and an extra ICU bed is occupied. \n",
    "    \n",
    "- Based on the paragraph above in the models `it will weigh more to have less PF than FN`, because it is more important to avoid an increased probability of death of a patient by not being referred in time to the ICU (less FP) than to occupy an extra bed (less FN). "
   ]
  },
  {
   "cell_type": "markdown",
   "id": "fe7c79bb",
   "metadata": {},
   "source": [
    "<a id='3.B'></a>"
   ]
  },
  {
   "cell_type": "markdown",
   "id": "64711283",
   "metadata": {},
   "source": [
    "## B. Choosing metrics"
   ]
  },
  {
   "cell_type": "markdown",
   "id": "a37abfa2",
   "metadata": {},
   "source": [
    "- Accuracy: Since there are unbalanced classes, accuracy is not a good evaluation metric. So it will not be taken into account. \n",
    "\n",
    "- Precision: \n",
    "    - Measures how many of the samples predicted as positive are actually positive. → Precision = TP / (TP + FP)\n",
    "    - Precision is used as a performance metric when the goal is to limit the number of `false positives`.\n",
    "    - Remember: \n",
    "        - A `false positive (FP)` would be equivalent to stating: \"This patient is going to die, he should NOT be referred to the ICU.\" \n",
    "        - But what happens is that the patient does NOT die and has a chance of survival by being referred to the ICU. \n",
    "        - The problem is that if the patient is not constantly monitored (a situation that occurs while hospitalized in the ICU), there is an increased risk of death.\n",
    "        \n",
    "- Recall:\n",
    "    - Measures how many of the positive samples are captured by the positive predictions. → Recall = TP / (TP + FN)\n",
    "    - Recall is used as performance metric when we need to identify all positive samples, that is, when it is important to avoid false negatives.\n",
    "    - Remember: \n",
    "        - A `false negative (FN)` would be equivalent to stating, \"This patient is NOT going to die, he should be referred to the ICU.\" \n",
    "        - But what happens is that the patient dies.\n",
    "        - In this case an extra ICU bed is occupied.\n",
    "        \n",
    "- ROC and AUC:\n",
    "    - The ROC curve considers all possible thresholds for a given classifier, it shows the False Positive Rate (FPR) against the Ture Positive Rate (TPR)\n",
    "    - FPR = FP / (FP + TN). (Remember that in the models we will look for the least amount of PF possible) \n",
    "    - TPR = Recall = TP / (TP + FN).\n",
    "    - Higher the AUC, the better the model is at predicting 0 classes as 0 and 1 classes as 1. By analogy, the Higher the AUC, the better the model is at distinguishing between patients who will die and will not die."
   ]
  },
  {
   "cell_type": "markdown",
   "id": "f8afff38",
   "metadata": {},
   "source": [
    "The training and testing files are loaded."
   ]
  },
  {
   "cell_type": "code",
   "execution_count": 74,
   "id": "1fc2d5f0",
   "metadata": {},
   "outputs": [],
   "source": [
    "X_train_std = pd.read_csv(\"X_train_std.csv\")\n",
    "y_train = pd.read_csv(\"y_train.csv\")\n",
    "X_test_std = pd.read_csv(\"X_test_std.csv\")\n",
    "y_test = pd.read_csv(\"y_test.csv\")"
   ]
  },
  {
   "cell_type": "code",
   "execution_count": 76,
   "id": "b9d7c110",
   "metadata": {},
   "outputs": [
    {
     "name": "stdout",
     "output_type": "stream",
     "text": [
      "X_train_std.shape: (307543, 10)\n",
      "y_train.shape: (307543, 1)\n",
      "------------------------------------------------\n",
      "X_test_std.shape: (76886, 10)\n",
      "y_test.shape: (76886, 1)\n"
     ]
    }
   ],
   "source": [
    "print(\"X_train_std.shape:\", X_train_std.shape)\n",
    "print(\"y_train.shape:\", y_train.shape)\n",
    "print(\"---\" * 16)\n",
    "print(\"X_test_std.shape:\", X_test_std.shape)\n",
    "print(\"y_test.shape:\", y_test.shape)"
   ]
  },
  {
   "cell_type": "markdown",
   "id": "972d10d6",
   "metadata": {},
   "source": [
    "<a id='4'></a>\n",
    "\n",
    "---"
   ]
  },
  {
   "cell_type": "markdown",
   "id": "82d8505c",
   "metadata": {},
   "source": [
    "# 4. Linear Regression"
   ]
  },
  {
   "cell_type": "markdown",
   "id": "ba5eb053",
   "metadata": {},
   "source": [
    "A logistic regression is applied without setting hyperparameters."
   ]
  },
  {
   "cell_type": "code",
   "execution_count": 77,
   "id": "00a4dab7",
   "metadata": {},
   "outputs": [],
   "source": [
    "lr = LogisticRegression(max_iter = 3000)"
   ]
  },
  {
   "cell_type": "code",
   "execution_count": null,
   "id": "ee910e05",
   "metadata": {},
   "outputs": [],
   "source": []
  },
  {
   "cell_type": "code",
   "execution_count": 81,
   "id": "5fe27d5a",
   "metadata": {
    "scrolled": false
   },
   "outputs": [
    {
     "name": "stdout",
     "output_type": "stream",
     "text": [
      "For LogisticRegression :\n",
      "\tTrain Precision Score:0.653\n",
      "\tTest Precision Score:0.635\n",
      "\t---\t---\t---\t---\n",
      "\tTrain Recall Score:0.307\n",
      "\tTest Recall Score:0.306\n",
      "\t---\t---\t---\t---\n",
      "\tTrain ROC AUC Score:0.939\n",
      "\tTest ROC AUC Score:0.936\n",
      "------------------------------------------------------------------------------------------------------\n"
     ]
    },
    {
     "data": {
      "image/png": "[encoded data removed]",
      "text/plain": [
       "<Figure size 864x288 with 2 Axes>"
      ]
     },
     "metadata": {},
     "output_type": "display_data"
    },
    {
     "name": "stdout",
     "output_type": "stream",
     "text": [
      "------------------------------------------------------------------------------------------------------\n"
     ]
    },
    {
     "data": {
      "image/png": "[encoded data removed]",
      "text/plain": [
       "<Figure size 576x576 with 1 Axes>"
      ]
     },
     "metadata": {},
     "output_type": "display_data"
    },
    {
     "name": "stdout",
     "output_type": "stream",
     "text": [
      "------------------------------------------------------------------------------------------------------\n",
      "              precision    recall  f1-score   support\n",
      "\n",
      "         0.0       0.99      1.00      0.99     75348\n",
      "         1.0       0.63      0.31      0.41      1538\n",
      "\n",
      "    accuracy                           0.98     76886\n",
      "   macro avg       0.81      0.65      0.70     76886\n",
      "weighted avg       0.98      0.98      0.98     76886\n",
      "\n"
     ]
    }
   ],
   "source": [
    "fit_train(lr)"
   ]
  },
  {
   "cell_type": "markdown",
   "id": "801c8c97",
   "metadata": {},
   "source": [
    "- Adequate values are observed for `Precision` (which is what is sought).\n",
    "\n",
    "- This is at the cost of a low `Recall` value.\n",
    "\n",
    "- On the other hand, the `AUC` is high, so it has a high discriminatory capacity.\n",
    "\n",
    "- No overfitting is observed in the three metrics.\n",
    "\n",
    "- In the `confusion matrix`, `FP` are given more importance than `FN`."
   ]
  },
  {
   "cell_type": "markdown",
   "id": "1d50142f",
   "metadata": {},
   "source": [
    "The hyperparameter `class_weight` is set to `balanced`."
   ]
  },
  {
   "cell_type": "code",
   "execution_count": 82,
   "id": "27d97029",
   "metadata": {},
   "outputs": [],
   "source": [
    "lr_weight = LogisticRegression(max_iter = 3000, class_weight = 'balanced')"
   ]
  },
  {
   "cell_type": "code",
   "execution_count": 83,
   "id": "1863877a",
   "metadata": {},
   "outputs": [
    {
     "name": "stdout",
     "output_type": "stream",
     "text": [
      "For LogisticRegression :\n",
      "\tTrain Precision Score:0.129\n",
      "\tTest Precision Score:0.129\n",
      "\t---\t---\t---\t---\n",
      "\tTrain Recall Score:0.851\n",
      "\tTest Recall Score:0.850\n",
      "\t---\t---\t---\t---\n",
      "\tTrain ROC AUC Score:0.939\n",
      "\tTest ROC AUC Score:0.936\n",
      "------------------------------------------------------------------------------------------------------\n"
     ]
    },
    {
     "data": {
      "image/png": "[encoded data removed]",
      "text/plain": [
       "<Figure size 864x288 with 2 Axes>"
      ]
     },
     "metadata": {},
     "output_type": "display_data"
    },
    {
     "name": "stdout",
     "output_type": "stream",
     "text": [
      "------------------------------------------------------------------------------------------------------\n"
     ]
    },
    {
     "data": {
      "image/png": "[encoded data removed]",
      "text/plain": [
       "<Figure size 576x576 with 1 Axes>"
      ]
     },
     "metadata": {},
     "output_type": "display_data"
    },
    {
     "name": "stdout",
     "output_type": "stream",
     "text": [
      "------------------------------------------------------------------------------------------------------\n",
      "              precision    recall  f1-score   support\n",
      "\n",
      "         0.0       1.00      0.88      0.94     75348\n",
      "         1.0       0.13      0.85      0.22      1538\n",
      "\n",
      "    accuracy                           0.88     76886\n",
      "   macro avg       0.56      0.87      0.58     76886\n",
      "weighted avg       0.98      0.88      0.92     76886\n",
      "\n"
     ]
    }
   ],
   "source": [
    "fit_train(lr_weight)"
   ]
  },
  {
   "cell_type": "markdown",
   "id": "e5037322",
   "metadata": {},
   "source": [
    "- While there is a large increase in `Recall` value, it is at the expense of a very low `Precision` value.\n",
    "\n",
    "- Therefore, it will be tried to give weight to the classes `manually`."
   ]
  },
  {
   "cell_type": "code",
   "execution_count": 84,
   "id": "24af416e",
   "metadata": {},
   "outputs": [
    {
     "name": "stdout",
     "output_type": "stream",
     "text": [
      "Fitting 5 folds for each of 100 candidates, totalling 500 fits\n"
     ]
    },
    {
     "data": {
      "text/html": [
       "<style>#sk-container-id-2 {color: black;background-color: white;}#sk-container-id-2 pre{padding: 0;}#sk-container-id-2 div.sk-toggleable {background-color: white;}#sk-container-id-2 label.sk-toggleable__label {cursor: pointer;display: block;width: 100%;margin-bottom: 0;padding: 0.3em;box-sizing: border-box;text-align: center;}#sk-container-id-2 label.sk-toggleable__label-arrow:before {content: \"▸\";float: left;margin-right: 0.25em;color: #696969;}#sk-container-id-2 label.sk-toggleable__label-arrow:hover:before {color: black;}#sk-container-id-2 div.sk-estimator:hover label.sk-toggleable__label-arrow:before {color: black;}#sk-container-id-2 div.sk-toggleable__content {max-height: 0;max-width: 0;overflow: hidden;text-align: left;background-color: #f0f8ff;}#sk-container-id-2 div.sk-toggleable__content pre {margin: 0.2em;color: black;border-radius: 0.25em;background-color: #f0f8ff;}#sk-container-id-2 input.sk-toggleable__control:checked~div.sk-toggleable__content {max-height: 200px;max-width: 100%;overflow: auto;}#sk-container-id-2 input.sk-toggleable__control:checked~label.sk-toggleable__label-arrow:before {content: \"▾\";}#sk-container-id-2 div.sk-estimator input.sk-toggleable__control:checked~label.sk-toggleable__label {background-color: #d4ebff;}#sk-container-id-2 div.sk-label input.sk-toggleable__control:checked~label.sk-toggleable__label {background-color: #d4ebff;}#sk-container-id-2 input.sk-hidden--visually {border: 0;clip: rect(1px 1px 1px 1px);clip: rect(1px, 1px, 1px, 1px);height: 1px;margin: -1px;overflow: hidden;padding: 0;position: absolute;width: 1px;}#sk-container-id-2 div.sk-estimator {font-family: monospace;background-color: #f0f8ff;border: 1px dotted black;border-radius: 0.25em;box-sizing: border-box;margin-bottom: 0.5em;}#sk-container-id-2 div.sk-estimator:hover {background-color: #d4ebff;}#sk-container-id-2 div.sk-parallel-item::after {content: \"\";width: 100%;border-bottom: 1px solid gray;flex-grow: 1;}#sk-container-id-2 div.sk-label:hover label.sk-toggleable__label {background-color: #d4ebff;}#sk-container-id-2 div.sk-serial::before {content: \"\";position: absolute;border-left: 1px solid gray;box-sizing: border-box;top: 0;bottom: 0;left: 50%;z-index: 0;}#sk-container-id-2 div.sk-serial {display: flex;flex-direction: column;align-items: center;background-color: white;padding-right: 0.2em;padding-left: 0.2em;position: relative;}#sk-container-id-2 div.sk-item {position: relative;z-index: 1;}#sk-container-id-2 div.sk-parallel {display: flex;align-items: stretch;justify-content: center;background-color: white;position: relative;}#sk-container-id-2 div.sk-item::before, #sk-container-id-2 div.sk-parallel-item::before {content: \"\";position: absolute;border-left: 1px solid gray;box-sizing: border-box;top: 0;bottom: 0;left: 50%;z-index: -1;}#sk-container-id-2 div.sk-parallel-item {display: flex;flex-direction: column;z-index: 1;position: relative;background-color: white;}#sk-container-id-2 div.sk-parallel-item:first-child::after {align-self: flex-end;width: 50%;}#sk-container-id-2 div.sk-parallel-item:last-child::after {align-self: flex-start;width: 50%;}#sk-container-id-2 div.sk-parallel-item:only-child::after {width: 0;}#sk-container-id-2 div.sk-dashed-wrapped {border: 1px dashed gray;margin: 0 0.4em 0.5em 0.4em;box-sizing: border-box;padding-bottom: 0.4em;background-color: white;}#sk-container-id-2 div.sk-label label {font-family: monospace;font-weight: bold;display: inline-block;line-height: 1.2em;}#sk-container-id-2 div.sk-label-container {text-align: center;}#sk-container-id-2 div.sk-container {/* jupyter's `normalize.less` sets `[hidden] { display: none; }` but bootstrap.min.css set `[hidden] { display: none !important; }` so we also need the `!important` here to be able to override the default hidden behavior on the sphinx rendered scikit-learn.org. See: https://github.com/scikit-learn/scikit-learn/issues/21755 */display: inline-block !important;position: relative;}#sk-container-id-2 div.sk-text-repr-fallback {display: none;}</style><div id=\"sk-container-id-2\" class=\"sk-top-container\"><div class=\"sk-text-repr-fallback\"><pre>GridSearchCV(cv=StratifiedKFold(n_splits=5, random_state=None, shuffle=False),\n",
       "             estimator=LogisticRegression(), n_jobs=-1,\n",
       "             param_grid={&#x27;class_weight&#x27;: [{0: 0.0, 1: 1.0}, {0: 0.01, 1: 0.99},\n",
       "                                          {0: 0.02, 1: 0.98},\n",
       "                                          {0: 0.03, 1: 0.97},\n",
       "                                          {0: 0.04, 1: 0.96},\n",
       "                                          {0: 0.05, 1: 0.95},\n",
       "                                          {0: 0.06, 1: 0.94},\n",
       "                                          {0: 0.07, 1: 0.9299999999999999},\n",
       "                                          {0: 0.08, 1: 0.92},\n",
       "                                          {0: 0.09, 1: 0.91}, {0: 0.1, 1: 0.9},\n",
       "                                          {0: 0.11, 1: 0.89},\n",
       "                                          {0: 0.12, 1: 0.88},\n",
       "                                          {0: 0.13, 1: 0.87},\n",
       "                                          {0: 0.14, 1: 0.86},\n",
       "                                          {0: 0.15, 1: 0.85},\n",
       "                                          {0: 0.16, 1: 0.84},\n",
       "                                          {0: 0.17, 1: 0.83},\n",
       "                                          {0: 0.18, 1: 0.8200000000000001},\n",
       "                                          {0: 0.19, 1: 0.81}, {0: 0.2, 1: 0.8},\n",
       "                                          {0: 0.21, 1: 0.79},\n",
       "                                          {0: 0.22, 1: 0.78},\n",
       "                                          {0: 0.23, 1: 0.77},\n",
       "                                          {0: 0.24, 1: 0.76},\n",
       "                                          {0: 0.25, 1: 0.75},\n",
       "                                          {0: 0.26, 1: 0.74},\n",
       "                                          {0: 0.27, 1: 0.73},\n",
       "                                          {0: 0.28, 1: 0.72},\n",
       "                                          {0: 0.29, 1: 0.71}, ...]},\n",
       "             scoring=&#x27;precision&#x27;, verbose=2)</pre><b>In a Jupyter environment, please rerun this cell to show the HTML representation or trust the notebook. <br />On GitHub, the HTML representation is unable to render, please try loading this page with nbviewer.org.</b></div><div class=\"sk-container\" hidden><div class=\"sk-item sk-dashed-wrapped\"><div class=\"sk-label-container\"><div class=\"sk-label sk-toggleable\"><input class=\"sk-toggleable__control sk-hidden--visually\" id=\"sk-estimator-id-4\" type=\"checkbox\" ><label for=\"sk-estimator-id-4\" class=\"sk-toggleable__label sk-toggleable__label-arrow\">GridSearchCV</label><div class=\"sk-toggleable__content\"><pre>GridSearchCV(cv=StratifiedKFold(n_splits=5, random_state=None, shuffle=False),\n",
       "             estimator=LogisticRegression(), n_jobs=-1,\n",
       "             param_grid={&#x27;class_weight&#x27;: [{0: 0.0, 1: 1.0}, {0: 0.01, 1: 0.99},\n",
       "                                          {0: 0.02, 1: 0.98},\n",
       "                                          {0: 0.03, 1: 0.97},\n",
       "                                          {0: 0.04, 1: 0.96},\n",
       "                                          {0: 0.05, 1: 0.95},\n",
       "                                          {0: 0.06, 1: 0.94},\n",
       "                                          {0: 0.07, 1: 0.9299999999999999},\n",
       "                                          {0: 0.08, 1: 0.92},\n",
       "                                          {0: 0.09, 1: 0.91}, {0: 0.1, 1: 0.9},\n",
       "                                          {0: 0.11, 1: 0.89},\n",
       "                                          {0: 0.12, 1: 0.88},\n",
       "                                          {0: 0.13, 1: 0.87},\n",
       "                                          {0: 0.14, 1: 0.86},\n",
       "                                          {0: 0.15, 1: 0.85},\n",
       "                                          {0: 0.16, 1: 0.84},\n",
       "                                          {0: 0.17, 1: 0.83},\n",
       "                                          {0: 0.18, 1: 0.8200000000000001},\n",
       "                                          {0: 0.19, 1: 0.81}, {0: 0.2, 1: 0.8},\n",
       "                                          {0: 0.21, 1: 0.79},\n",
       "                                          {0: 0.22, 1: 0.78},\n",
       "                                          {0: 0.23, 1: 0.77},\n",
       "                                          {0: 0.24, 1: 0.76},\n",
       "                                          {0: 0.25, 1: 0.75},\n",
       "                                          {0: 0.26, 1: 0.74},\n",
       "                                          {0: 0.27, 1: 0.73},\n",
       "                                          {0: 0.28, 1: 0.72},\n",
       "                                          {0: 0.29, 1: 0.71}, ...]},\n",
       "             scoring=&#x27;precision&#x27;, verbose=2)</pre></div></div></div><div class=\"sk-parallel\"><div class=\"sk-parallel-item\"><div class=\"sk-item\"><div class=\"sk-label-container\"><div class=\"sk-label sk-toggleable\"><input class=\"sk-toggleable__control sk-hidden--visually\" id=\"sk-estimator-id-5\" type=\"checkbox\" ><label for=\"sk-estimator-id-5\" class=\"sk-toggleable__label sk-toggleable__label-arrow\">estimator: LogisticRegression</label><div class=\"sk-toggleable__content\"><pre>LogisticRegression()</pre></div></div></div><div class=\"sk-serial\"><div class=\"sk-item\"><div class=\"sk-estimator sk-toggleable\"><input class=\"sk-toggleable__control sk-hidden--visually\" id=\"sk-estimator-id-6\" type=\"checkbox\" ><label for=\"sk-estimator-id-6\" class=\"sk-toggleable__label sk-toggleable__label-arrow\">LogisticRegression</label><div class=\"sk-toggleable__content\"><pre>LogisticRegression()</pre></div></div></div></div></div></div></div></div></div></div>"
      ],
      "text/plain": [
       "GridSearchCV(cv=StratifiedKFold(n_splits=5, random_state=None, shuffle=False),\n",
       "             estimator=LogisticRegression(), n_jobs=-1,\n",
       "             param_grid={'class_weight': [{0: 0.0, 1: 1.0}, {0: 0.01, 1: 0.99},\n",
       "                                          {0: 0.02, 1: 0.98},\n",
       "                                          {0: 0.03, 1: 0.97},\n",
       "                                          {0: 0.04, 1: 0.96},\n",
       "                                          {0: 0.05, 1: 0.95},\n",
       "                                          {0: 0.06, 1: 0.94},\n",
       "                                          {0: 0.07, 1: 0.9299999999999999},\n",
       "                                          {0: 0.08, 1: 0.92},\n",
       "                                          {0: 0.09, 1: 0.91}, {0: 0.1, 1: 0.9},\n",
       "                                          {0: 0.11, 1: 0.89},\n",
       "                                          {0: 0.12, 1: 0.88},\n",
       "                                          {0: 0.13, 1: 0.87},\n",
       "                                          {0: 0.14, 1: 0.86},\n",
       "                                          {0: 0.15, 1: 0.85},\n",
       "                                          {0: 0.16, 1: 0.84},\n",
       "                                          {0: 0.17, 1: 0.83},\n",
       "                                          {0: 0.18, 1: 0.8200000000000001},\n",
       "                                          {0: 0.19, 1: 0.81}, {0: 0.2, 1: 0.8},\n",
       "                                          {0: 0.21, 1: 0.79},\n",
       "                                          {0: 0.22, 1: 0.78},\n",
       "                                          {0: 0.23, 1: 0.77},\n",
       "                                          {0: 0.24, 1: 0.76},\n",
       "                                          {0: 0.25, 1: 0.75},\n",
       "                                          {0: 0.26, 1: 0.74},\n",
       "                                          {0: 0.27, 1: 0.73},\n",
       "                                          {0: 0.28, 1: 0.72},\n",
       "                                          {0: 0.29, 1: 0.71}, ...]},\n",
       "             scoring='precision', verbose=2)"
      ]
     },
     "execution_count": 84,
     "metadata": {},
     "output_type": "execute_result"
    }
   ],
   "source": [
    "lr = LogisticRegression()\n",
    "\n",
    "#Setting the range for class weights\n",
    "weights = np.linspace(0.0, 0.99, 100)\n",
    "\n",
    "#Creating a dictionary grid for grid search\n",
    "param_grid = {\"class_weight\": [{0: x, 1: 1.0 - x} for x in weights]}\n",
    "\n",
    "#Fitting grid search to the train data with 5 folds\n",
    "gridsearch_weights = GridSearchCV(estimator =  lr, \n",
    "                          param_grid = param_grid,\n",
    "                          cv = StratifiedKFold(), \n",
    "                          n_jobs = -1, \n",
    "                          scoring = \"precision\", \n",
    "                          verbose = 2)\n",
    "gridsearch_weights.fit(X_train_std, y_train.values.reshape(-1,))"
   ]
  },
  {
   "cell_type": "code",
   "execution_count": 85,
   "id": "b9834369",
   "metadata": {},
   "outputs": [
    {
     "data": {
      "image/png": "[encoded data removed]",
      "text/plain": [
       "<Figure size 864x576 with 1 Axes>"
      ]
     },
     "metadata": {},
     "output_type": "display_data"
    }
   ],
   "source": [
    "#Ploting the score for different values of weight\n",
    "sns.set_style(\"whitegrid\")\n",
    "\n",
    "plt.figure(figsize = (12,8))\n",
    "\n",
    "weigh_data = pd.DataFrame({\"Score\": gridsearch_weights.cv_results_[\"mean_test_score\"], \"Weight\": (1- weights)})\n",
    "sns.lineplot(x = \"Weight\", y = \"Score\", data = weigh_data)\n",
    "\n",
    "plt.title(\"Precision for different class weights\", fontsize = 20)\n",
    "plt.xlabel(\"Weight for class 1\", fontsize = 18)\n",
    "plt.ylabel(\"Precision\", fontsize = 18)\n",
    "plt.xticks([round(i/10,1) for i in range(0,11,1)], fontsize = 16)\n",
    "plt.yticks(fontsize = 16)\n",
    "\n",
    "plt.show()"
   ]
  },
  {
   "cell_type": "markdown",
   "id": "b81fa6eb",
   "metadata": {},
   "source": [
    "- It is observed that the highest `Precision` value is obtained when the weight of `class 1 = 0.05`.\n",
    "\n",
    "- Set the hyperparameter `class_weight = {0: 0.95, 1: 0.05}`."
   ]
  },
  {
   "cell_type": "code",
   "execution_count": 86,
   "id": "1b5829c2",
   "metadata": {},
   "outputs": [],
   "source": [
    "lr_weight_manual_95_5 = LogisticRegression(max_iter = 3000, class_weight = {0: 0.95, 1: 0.05})"
   ]
  },
  {
   "cell_type": "code",
   "execution_count": 87,
   "id": "c99e50d4",
   "metadata": {},
   "outputs": [
    {
     "name": "stdout",
     "output_type": "stream",
     "text": [
      "For LogisticRegression :\n",
      "\tTrain Precision Score:0.846\n",
      "\tTest Precision Score:1.000\n",
      "\t---\t---\t---\t---\n",
      "\tTrain Recall Score:0.002\n",
      "\tTest Recall Score:0.001\n",
      "\t---\t---\t---\t---\n",
      "\tTrain ROC AUC Score:0.938\n",
      "\tTest ROC AUC Score:0.935\n",
      "------------------------------------------------------------------------------------------------------\n"
     ]
    },
    {
     "data": {
      "image/png": "[encoded data removed]",
      "text/plain": [
       "<Figure size 864x288 with 2 Axes>"
      ]
     },
     "metadata": {},
     "output_type": "display_data"
    },
    {
     "name": "stdout",
     "output_type": "stream",
     "text": [
      "------------------------------------------------------------------------------------------------------\n"
     ]
    },
    {
     "data": {
      "image/png": "[encoded data removed]",
      "text/plain": [
       "<Figure size 576x576 with 1 Axes>"
      ]
     },
     "metadata": {},
     "output_type": "display_data"
    },
    {
     "name": "stdout",
     "output_type": "stream",
     "text": [
      "------------------------------------------------------------------------------------------------------\n",
      "              precision    recall  f1-score   support\n",
      "\n",
      "         0.0       0.98      1.00      0.99     75348\n",
      "         1.0       1.00      0.00      0.00      1538\n",
      "\n",
      "    accuracy                           0.98     76886\n",
      "   macro avg       0.99      0.50      0.50     76886\n",
      "weighted avg       0.98      0.98      0.97     76886\n",
      "\n"
     ]
    }
   ],
   "source": [
    "fit_train(lr_weight_manual_95_5)"
   ]
  },
  {
   "cell_type": "markdown",
   "id": "600e48e8",
   "metadata": {},
   "source": [
    "Having such extremely low Recall values, a slightly more optimal balance will be sought with respect to the weight of the classes."
   ]
  },
  {
   "cell_type": "code",
   "execution_count": 88,
   "id": "1433a958",
   "metadata": {},
   "outputs": [],
   "source": [
    "lr_weight_manual_70_30 = LogisticRegression(max_iter = 3000, class_weight = {0: 0.70, 1: 0.30})"
   ]
  },
  {
   "cell_type": "code",
   "execution_count": 89,
   "id": "00c0f600",
   "metadata": {
    "scrolled": false
   },
   "outputs": [
    {
     "name": "stdout",
     "output_type": "stream",
     "text": [
      "For LogisticRegression :\n",
      "\tTrain Precision Score:0.707\n",
      "\tTest Precision Score:0.709\n",
      "\t---\t---\t---\t---\n",
      "\tTrain Recall Score:0.191\n",
      "\tTest Recall Score:0.195\n",
      "\t---\t---\t---\t---\n",
      "\tTrain ROC AUC Score:0.938\n",
      "\tTest ROC AUC Score:0.935\n",
      "------------------------------------------------------------------------------------------------------\n"
     ]
    },
    {
     "data": {
      "image/png": "[encoded data removed]",
      "text/plain": [
       "<Figure size 864x288 with 2 Axes>"
      ]
     },
     "metadata": {},
     "output_type": "display_data"
    },
    {
     "name": "stdout",
     "output_type": "stream",
     "text": [
      "------------------------------------------------------------------------------------------------------\n"
     ]
    },
    {
     "data": {
      "image/png": "[encoded data removed]",
      "text/plain": [
       "<Figure size 576x576 with 1 Axes>"
      ]
     },
     "metadata": {},
     "output_type": "display_data"
    },
    {
     "name": "stdout",
     "output_type": "stream",
     "text": [
      "------------------------------------------------------------------------------------------------------\n",
      "              precision    recall  f1-score   support\n",
      "\n",
      "         0.0       0.98      1.00      0.99     75348\n",
      "         1.0       0.71      0.20      0.31      1538\n",
      "\n",
      "    accuracy                           0.98     76886\n",
      "   macro avg       0.85      0.60      0.65     76886\n",
      "weighted avg       0.98      0.98      0.98     76886\n",
      "\n"
     ]
    }
   ],
   "source": [
    "fit_train(lr_weight_manual_70_30)"
   ]
  },
  {
   "cell_type": "markdown",
   "id": "d0c69b06",
   "metadata": {},
   "source": [
    "- In this case, a bit of overfitting is observed since the metrics perform a little better in the test set.\n",
    "\n",
    "- With `Precision` value of 0.71 we have a `low FP ratio`, at the expense of `increasing the FN` (as seen in the `confusion matrix`).\n",
    "\n",
    "- It will seek to reduce overfitting through regularization."
   ]
  },
  {
   "cell_type": "markdown",
   "id": "8ae9945a",
   "metadata": {},
   "source": [
    "Next we will see how the `Precision` metric behaves for the training set when the `thresholds are modified`."
   ]
  },
  {
   "cell_type": "code",
   "execution_count": 90,
   "id": "0d9c469b",
   "metadata": {},
   "outputs": [],
   "source": [
    "lr = LogisticRegression(max_iter = 3000)"
   ]
  },
  {
   "cell_type": "code",
   "execution_count": 91,
   "id": "0d1d9788",
   "metadata": {},
   "outputs": [
    {
     "name": "stdout",
     "output_type": "stream",
     "text": [
      "\tThreshold = 0.1\n",
      "\tTrain Precision Score:0.562\n",
      "\tTrain Recall Score:0.451\n",
      "\t---\t---\t---\t---\n",
      "\tThreshold = 0.2\n",
      "\tTrain Precision Score:0.634\n",
      "\tTrain Recall Score:0.352\n",
      "\t---\t---\t---\t---\n",
      "\tThreshold = 0.3\n",
      "\tTrain Precision Score:0.664\n",
      "\tTrain Recall Score:0.289\n",
      "\t---\t---\t---\t---\n",
      "\tThreshold = 0.4\n",
      "\tTrain Precision Score:0.688\n",
      "\tTrain Recall Score:0.240\n",
      "\t---\t---\t---\t---\n",
      "\tThreshold = 0.5\n",
      "\tTrain Precision Score:0.707\n",
      "\tTrain Recall Score:0.191\n",
      "\t---\t---\t---\t---\n",
      "\tThreshold = 0.7\n",
      "\tTrain Precision Score:0.753\n",
      "\tTrain Recall Score:0.096\n",
      "\t---\t---\t---\t---\n",
      "\tThreshold = 0.8\n",
      "\tTrain Precision Score:0.795\n",
      "\tTrain Recall Score:0.044\n",
      "\t---\t---\t---\t---\n",
      "\tThreshold = 0.9\n",
      "\tTrain Precision Score:0.782\n",
      "\tTrain Recall Score:0.007\n",
      "\t---\t---\t---\t---\n"
     ]
    },
    {
     "data": {
      "image/png": "[encoded data removed]",
      "text/plain": [
       "<Figure size 720x432 with 1 Axes>"
      ]
     },
     "metadata": {},
     "output_type": "display_data"
    }
   ],
   "source": [
    "threshold_lr = [0.1, 0.2, 0.3, 0.4, 0.5, 0.7, 0.8, 0.9]\n",
    "plot_precision = []\n",
    "plot_recall = []\n",
    "for i in threshold_lr:\n",
    "    lr_weight_manual_70_30.fit(X_train_std, y_train.values.reshape(-1, ))\n",
    "    y_train_pred_lr = lr_weight_manual_70_30.predict_proba(X_train_std)[:, 1] > i\n",
    "    plot_precision.append(precision_score(y_train, y_train_pred_lr))\n",
    "    plot_recall.append(recall_score(y_train, y_train_pred_lr))\n",
    "    print(f\"\\tThreshold = {i}\")\n",
    "    print(f\"\\tTrain Precision Score:{precision_score(y_train, y_train_pred_lr):.3f}\")\n",
    "    print(f\"\\tTrain Recall Score:{recall_score(y_train, y_train_pred_lr):.3f}\")\n",
    "    print(\"\\t---\" * 4)\n",
    "\n",
    "fig, ax = plt.subplots(figsize = (10, 6))\n",
    "\n",
    "plt.plot(threshold_lr, plot_precision, label = \"Precision = 0.708\", color = \"steelblue\")\n",
    "plt.plot(threshold_lr, plot_recall, label = \"Recall = 0.193\", color = \"darkgreen\")\n",
    "\n",
    "plt.title(\"Trade-off Recall/Precision\", fontsize = 20)\n",
    "plt.xlabel(\"Threshold\", fontsize = 18)\n",
    "plt.ylabel(\"Score\", fontsize = 18)\n",
    "plt.xticks(fontsize = 16)\n",
    "plt.yticks(np.arange(0,1.1,0.1), fontsize = 16)\n",
    "plt.ylim(0,1)\n",
    "\n",
    "plt.vlines(0.5, ymin = 0.01, ymax = 0.70, linestyles = '--', color = \"black\")\n",
    "\n",
    "plt.legend(fontsize = 14)\n",
    "\n",
    "plt.show()"
   ]
  },
  {
   "cell_type": "markdown",
   "id": "353e68ce",
   "metadata": {},
   "source": [
    "It is decided to use the default `threshold = 0.5`."
   ]
  },
  {
   "cell_type": "code",
   "execution_count": 92,
   "id": "d7c9e006",
   "metadata": {},
   "outputs": [],
   "source": [
    "threshold_lr = 0.5\n",
    "\n",
    "y_train_pred_cf = lr_weight_manual_70_30.predict_proba(X_train_std)[:, 1] > threshold_lr\n",
    "y_test_pred_cf = lr_weight_manual_70_30.predict_proba(X_test_std)[:, 1] > threshold_lr"
   ]
  },
  {
   "cell_type": "code",
   "execution_count": 93,
   "id": "e66b1da8",
   "metadata": {},
   "outputs": [
    {
     "data": {
      "image/png": "[encoded data removed]",
      "text/plain": [
       "<Figure size 864x288 with 2 Axes>"
      ]
     },
     "metadata": {},
     "output_type": "display_data"
    },
    {
     "name": "stdout",
     "output_type": "stream",
     "text": [
      "------------------------------------------------------------------------------------------------------\n",
      "\tTrain Precision Score:0.707\n",
      "\tTest Precision Score:0.709\n",
      "\t---\t---\t---\t---\n",
      "\tTrain Recall Score:0.191\n",
      "\tTest Recall Score:0.195\n"
     ]
    }
   ],
   "source": [
    "conf_matrix(y_train, y_train_pred_cf, y_test, y_test_pred_cf)\n",
    "print(f\"\\tTrain Precision Score:{precision_score(y_train, y_train_pred_cf):.3f}\")\n",
    "print(f\"\\tTest Precision Score:{precision_score(y_test, y_test_pred_cf):.3f}\")\n",
    "print(\"\\t---\" * 4)\n",
    "print(f\"\\tTrain Recall Score:{recall_score(y_train, y_train_pred_cf):.3f}\")\n",
    "print(f\"\\tTest Recall Score:{recall_score(y_test, y_test_pred_cf):.3f}\")"
   ]
  },
  {
   "cell_type": "markdown",
   "id": "6cf9a3bb",
   "metadata": {},
   "source": [
    "The coefficients that determine the model are shown below."
   ]
  },
  {
   "cell_type": "code",
   "execution_count": 95,
   "id": "a21808e6",
   "metadata": {},
   "outputs": [
    {
     "data": {
      "text/html": [
       "<div>\n",
       "<style scoped>\n",
       "    .dataframe tbody tr th:only-of-type {\n",
       "        vertical-align: middle;\n",
       "    }\n",
       "\n",
       "    .dataframe tbody tr th {\n",
       "        vertical-align: top;\n",
       "    }\n",
       "\n",
       "    .dataframe thead th {\n",
       "        text-align: right;\n",
       "    }\n",
       "</style>\n",
       "<table border=\"1\" class=\"dataframe\">\n",
       "  <thead>\n",
       "    <tr style=\"text-align: right;\">\n",
       "      <th></th>\n",
       "      <th>Coefficient</th>\n",
       "    </tr>\n",
       "  </thead>\n",
       "  <tbody>\n",
       "    <tr>\n",
       "      <th>Age</th>\n",
       "      <td>1.162256</td>\n",
       "    </tr>\n",
       "    <tr>\n",
       "      <th>Breath_difficulty</th>\n",
       "      <td>0.383564</td>\n",
       "    </tr>\n",
       "    <tr>\n",
       "      <th>Hospitalized</th>\n",
       "      <td>0.379737</td>\n",
       "    </tr>\n",
       "    <tr>\n",
       "      <th>n_comor</th>\n",
       "      <td>0.343841</td>\n",
       "    </tr>\n",
       "    <tr>\n",
       "      <th>Masculine</th>\n",
       "      <td>0.195347</td>\n",
       "    </tr>\n",
       "    <tr>\n",
       "      <th>Delta_RegDiag</th>\n",
       "      <td>-0.004742</td>\n",
       "    </tr>\n",
       "    <tr>\n",
       "      <th>Comorbidity_diabetes</th>\n",
       "      <td>-0.026910</td>\n",
       "    </tr>\n",
       "    <tr>\n",
       "      <th>Race_White</th>\n",
       "      <td>-0.045942</td>\n",
       "    </tr>\n",
       "    <tr>\n",
       "      <th>n_symp</th>\n",
       "      <td>-0.120767</td>\n",
       "    </tr>\n",
       "    <tr>\n",
       "      <th>Comorbidity_cardiac</th>\n",
       "      <td>-0.142503</td>\n",
       "    </tr>\n",
       "  </tbody>\n",
       "</table>\n",
       "</div>"
      ],
      "text/plain": [
       "                      Coefficient\n",
       "Age                      1.162256\n",
       "Breath_difficulty        0.383564\n",
       "Hospitalized             0.379737\n",
       "n_comor                  0.343841\n",
       "Masculine                0.195347\n",
       "Delta_RegDiag           -0.004742\n",
       "Comorbidity_diabetes    -0.026910\n",
       "Race_White              -0.045942\n",
       "n_symp                  -0.120767\n",
       "Comorbidity_cardiac     -0.142503"
      ]
     },
     "execution_count": 95,
     "metadata": {},
     "output_type": "execute_result"
    }
   ],
   "source": [
    "fit_lr = fit\n",
    "weights_lr = fit_lr.coef_\n",
    "df_weights_lr = pd.DataFrame(weights_lr, columns = X_train_std.columns).T\n",
    "df_weights_lr = df_weights_lr.rename(columns = {0: \"Coefficient\"}).sort_values(by = \"Coefficient\", ascending = False)\n",
    "df_weights_lr"
   ]
  },
  {
   "cell_type": "markdown",
   "id": "b5acdf84",
   "metadata": {},
   "source": [
    "`GridSearchCV + Regularization` is then used, in search of the `C` hyperparameter that best performs the `Precision` metric."
   ]
  },
  {
   "cell_type": "code",
   "execution_count": 96,
   "id": "a670ae68",
   "metadata": {},
   "outputs": [
    {
     "name": "stdout",
     "output_type": "stream",
     "text": [
      "C = 0.001\n",
      "Train precision_score:  0.82\n",
      "Test precision_score:  0.79\n",
      "--- ------ ------ ------ ---\n",
      "Train recall_score:  0.01\n",
      "Test recall_score:  0.01\n",
      "------------------------------------------------------------------------\n",
      "C = 0.01\n",
      "Train precision_score:  0.71\n",
      "Test precision_score:  0.71\n",
      "--- ------ ------ ------ ---\n",
      "Train recall_score:  0.18\n",
      "Test recall_score:  0.19\n",
      "------------------------------------------------------------------------\n",
      "C = 0.1\n",
      "Train precision_score:  0.71\n",
      "Test precision_score:  0.71\n",
      "--- ------ ------ ------ ---\n",
      "Train recall_score:  0.19\n",
      "Test recall_score:  0.2\n",
      "------------------------------------------------------------------------\n",
      "C = 1\n",
      "Train precision_score:  0.71\n",
      "Test precision_score:  0.71\n",
      "--- ------ ------ ------ ---\n",
      "Train recall_score:  0.19\n",
      "Test recall_score:  0.2\n",
      "------------------------------------------------------------------------\n",
      "C = 10\n",
      "Train precision_score:  0.71\n",
      "Test precision_score:  0.71\n",
      "--- ------ ------ ------ ---\n",
      "Train recall_score:  0.19\n",
      "Test recall_score:  0.2\n",
      "------------------------------------------------------------------------\n",
      "C = 100\n",
      "Train precision_score:  0.71\n",
      "Test precision_score:  0.71\n",
      "--- ------ ------ ------ ---\n",
      "Train recall_score:  0.19\n",
      "Test recall_score:  0.2\n",
      "------------------------------------------------------------------------\n"
     ]
    }
   ],
   "source": [
    "C = [0.001, 0.01, 0.1, 1, 10, 100]\n",
    "\n",
    "for i in C:    \n",
    "    lr_weight_manual_reg = LogisticRegression(C = i, penalty = \"l1\", solver = \"liblinear\", max_iter = 3000, class_weight = {0: 0.70, 1: 0.3})\n",
    "    lr_weight_manual_reg.fit(X_train_std, y_train.values.reshape(-1, ))\n",
    "    y_train_pred = lr_weight_manual_reg.predict(X_train_std)\n",
    "    y_test_pred = lr_weight_manual_reg.predict(X_test_std)\n",
    "    print(f\"C = {i}\")\n",
    "    print('Train precision_score: ', precision_score(y_train, y_train_pred).round(2))\n",
    "    print('Test precision_score: ', precision_score(y_test, y_test_pred).round(2))\n",
    "    print(\"--- ---\" * 4)     \n",
    "    print('Train recall_score: ', recall_score(y_train, y_train_pred).round(2))\n",
    "    print('Test recall_score: ', recall_score(y_test, y_test_pred).round(2))\n",
    "    print(\"---\"*24)"
   ]
  },
  {
   "cell_type": "markdown",
   "id": "f0d8072a",
   "metadata": {},
   "source": [
    "C = 0.01 will be used"
   ]
  },
  {
   "cell_type": "code",
   "execution_count": 97,
   "id": "8f8b377e",
   "metadata": {},
   "outputs": [],
   "source": [
    "lr_weight_manual_70_30_001 = LogisticRegression(C = 0.01, penalty = \"l1\", solver = \"liblinear\", max_iter = 3000, class_weight = {0: 0.70, 1: 0.3})"
   ]
  },
  {
   "cell_type": "code",
   "execution_count": 98,
   "id": "aaec70ef",
   "metadata": {},
   "outputs": [
    {
     "name": "stdout",
     "output_type": "stream",
     "text": [
      "For LogisticRegression :\n",
      "\tTrain Precision Score:0.710\n",
      "\tTest Precision Score:0.714\n",
      "\t---\t---\t---\t---\n",
      "\tTrain Recall Score:0.182\n",
      "\tTest Recall Score:0.187\n",
      "\t---\t---\t---\t---\n",
      "\tTrain ROC AUC Score:0.938\n",
      "\tTest ROC AUC Score:0.936\n",
      "------------------------------------------------------------------------------------------------------\n"
     ]
    },
    {
     "data": {
      "image/png": "[encoded data removed]",
      "text/plain": [
       "<Figure size 864x288 with 2 Axes>"
      ]
     },
     "metadata": {},
     "output_type": "display_data"
    },
    {
     "name": "stdout",
     "output_type": "stream",
     "text": [
      "------------------------------------------------------------------------------------------------------\n"
     ]
    },
    {
     "data": {
      "image/png": "[encoded data removed]",
      "text/plain": [
       "<Figure size 576x576 with 1 Axes>"
      ]
     },
     "metadata": {},
     "output_type": "display_data"
    },
    {
     "name": "stdout",
     "output_type": "stream",
     "text": [
      "------------------------------------------------------------------------------------------------------\n",
      "              precision    recall  f1-score   support\n",
      "\n",
      "         0.0       0.98      1.00      0.99     75348\n",
      "         1.0       0.71      0.19      0.30      1538\n",
      "\n",
      "    accuracy                           0.98     76886\n",
      "   macro avg       0.85      0.59      0.64     76886\n",
      "weighted avg       0.98      0.98      0.98     76886\n",
      "\n"
     ]
    }
   ],
   "source": [
    "fit_train(lr_weight_manual_70_30_001)"
   ]
  },
  {
   "cell_type": "markdown",
   "id": "c140b92f",
   "metadata": {},
   "source": [
    "- Despite using `low values of C` to make the model simpler, a bit of `overfitting` is still observed.\n",
    "\n",
    "- Extremely low values reduce `Recall` too much.\n",
    "\n",
    "- The value of `C` is reduced a little, to `0.007`."
   ]
  },
  {
   "cell_type": "code",
   "execution_count": 99,
   "id": "98472fba",
   "metadata": {},
   "outputs": [],
   "source": [
    "lr_weight_manual_70_30_007 = LogisticRegression(C = 0.007, penalty = \"l1\", solver = \"liblinear\", max_iter = 3000, class_weight = {0: 0.70, 1: 0.3})"
   ]
  },
  {
   "cell_type": "markdown",
   "id": "bcd9652c",
   "metadata": {},
   "source": [
    "- The coefficients that define the model are observed.\n",
    "\n",
    "- In this case the `most important features` are:\n",
    "    - Age\n",
    "    - Hospitalized\n",
    "    - Breath_difficulty\n",
    "    - n_comor\n",
    "    - Masculine"
   ]
  },
  {
   "cell_type": "code",
   "execution_count": 101,
   "id": "67ec13c2",
   "metadata": {},
   "outputs": [
    {
     "data": {
      "text/html": [
       "<div>\n",
       "<style scoped>\n",
       "    .dataframe tbody tr th:only-of-type {\n",
       "        vertical-align: middle;\n",
       "    }\n",
       "\n",
       "    .dataframe tbody tr th {\n",
       "        vertical-align: top;\n",
       "    }\n",
       "\n",
       "    .dataframe thead th {\n",
       "        text-align: right;\n",
       "    }\n",
       "</style>\n",
       "<table border=\"1\" class=\"dataframe\">\n",
       "  <thead>\n",
       "    <tr style=\"text-align: right;\">\n",
       "      <th></th>\n",
       "      <th>Coefficient</th>\n",
       "    </tr>\n",
       "  </thead>\n",
       "  <tbody>\n",
       "    <tr>\n",
       "      <th>Age</th>\n",
       "      <td>0.942579</td>\n",
       "    </tr>\n",
       "    <tr>\n",
       "      <th>Hospitalized</th>\n",
       "      <td>0.383849</td>\n",
       "    </tr>\n",
       "    <tr>\n",
       "      <th>Breath_difficulty</th>\n",
       "      <td>0.288178</td>\n",
       "    </tr>\n",
       "    <tr>\n",
       "      <th>n_comor</th>\n",
       "      <td>0.196110</td>\n",
       "    </tr>\n",
       "    <tr>\n",
       "      <th>Masculine</th>\n",
       "      <td>0.087189</td>\n",
       "    </tr>\n",
       "    <tr>\n",
       "      <th>Race_White</th>\n",
       "      <td>0.000000</td>\n",
       "    </tr>\n",
       "    <tr>\n",
       "      <th>Comorbidity_cardiac</th>\n",
       "      <td>0.000000</td>\n",
       "    </tr>\n",
       "    <tr>\n",
       "      <th>Comorbidity_diabetes</th>\n",
       "      <td>0.000000</td>\n",
       "    </tr>\n",
       "    <tr>\n",
       "      <th>Delta_RegDiag</th>\n",
       "      <td>0.000000</td>\n",
       "    </tr>\n",
       "    <tr>\n",
       "      <th>n_symp</th>\n",
       "      <td>0.000000</td>\n",
       "    </tr>\n",
       "  </tbody>\n",
       "</table>\n",
       "</div>"
      ],
      "text/plain": [
       "                      Coefficient\n",
       "Age                      0.942579\n",
       "Hospitalized             0.383849\n",
       "Breath_difficulty        0.288178\n",
       "n_comor                  0.196110\n",
       "Masculine                0.087189\n",
       "Race_White               0.000000\n",
       "Comorbidity_cardiac      0.000000\n",
       "Comorbidity_diabetes     0.000000\n",
       "Delta_RegDiag            0.000000\n",
       "n_symp                   0.000000"
      ]
     },
     "execution_count": 101,
     "metadata": {},
     "output_type": "execute_result"
    }
   ],
   "source": [
    "fit_lr = lr_weight_manual_70_30_007.fit(X_train_std, y_train.values.reshape(-1,))\n",
    "weights_lr = fit_lr.coef_\n",
    "df_weights_lr = pd.DataFrame(weights_lr, columns = X_train_std.columns).T\n",
    "df_weights_lr = df_weights_lr.rename(columns = {0: \"Coefficient\"}).sort_values(by = \"Coefficient\", ascending = False)\n",
    "df_weights_lr"
   ]
  },
  {
   "cell_type": "markdown",
   "id": "2e598c96",
   "metadata": {},
   "source": [
    "We run the Logistic Regression only with the variables that determine the model, making it simpler, to see if the small amount of overfitting can be reduced."
   ]
  },
  {
   "cell_type": "code",
   "execution_count": 111,
   "id": "0352bf1d",
   "metadata": {},
   "outputs": [],
   "source": [
    "train_final = X_train_std[[\"Age\", \"Hospitalized\", \"Breath_difficulty\", \"n_comor\", \"Masculine\"]]\n",
    "test_final = X_test_std[[\"Age\", \"Hospitalized\", \"Breath_difficulty\", \"n_comor\", \"Masculine\"]]"
   ]
  },
  {
   "cell_type": "code",
   "execution_count": 112,
   "id": "f942ec5f",
   "metadata": {},
   "outputs": [
    {
     "data": {
      "image/png": "[encoded data removed]",
      "text/plain": [
       "<Figure size 864x288 with 2 Axes>"
      ]
     },
     "metadata": {},
     "output_type": "display_data"
    },
    {
     "name": "stdout",
     "output_type": "stream",
     "text": [
      "------------------------------------------------------------------------------------------------------\n",
      "\tTrain Precision Score:0.707\n",
      "\tTest Precision Score:0.708\n",
      "\t---\t---\t---\t---\n",
      "\tTrain Recall Score:0.193\n",
      "\tTest Recall Score:0.198\n"
     ]
    }
   ],
   "source": [
    "lr_weight_manual_70_30.fit(train_final, y_train.values.reshape(-1,))\n",
    "\n",
    "y_train_pred_final = lr_weight_manual_70_30.predict(train_final)\n",
    "y_test_pred_final = lr_weight_manual_70_30.predict(test_final)\n",
    "\n",
    "conf_matrix(y_train, y_train_pred_final, y_test, y_test_pred_final)\n",
    "print(f\"\\tTrain Precision Score:{precision_score(y_train, y_train_pred_final):.3f}\")\n",
    "print(f\"\\tTest Precision Score:{precision_score(y_test, y_test_pred_final):.3f}\")\n",
    "print(\"\\t---\" * 4)\n",
    "print(f\"\\tTrain Recall Score:{recall_score(y_train, y_train_pred_final):.3f}\")\n",
    "print(f\"\\tTest Recall Score:{recall_score(y_test, y_test_pred_final):.3f}\")"
   ]
  },
  {
   "cell_type": "code",
   "execution_count": 114,
   "id": "2a4b8a61",
   "metadata": {},
   "outputs": [
    {
     "data": {
      "image/png": "[encoded data removed]",
      "text/plain": [
       "<Figure size 576x576 with 1 Axes>"
      ]
     },
     "metadata": {},
     "output_type": "display_data"
    },
    {
     "name": "stdout",
     "output_type": "stream",
     "text": [
      "------------------------------------------------------------------------------------------------------\n"
     ]
    }
   ],
   "source": [
    "roc_curve_graph(y_test, lr_weight_manual_70_30.predict_proba(test_final)[:, 1])"
   ]
  },
  {
   "cell_type": "code",
   "execution_count": 115,
   "id": "da119071",
   "metadata": {},
   "outputs": [
    {
     "name": "stdout",
     "output_type": "stream",
     "text": [
      "              precision    recall  f1-score   support\n",
      "\n",
      "         0.0       0.98      1.00      0.99     75348\n",
      "         1.0       0.71      0.20      0.31      1538\n",
      "\n",
      "    accuracy                           0.98     76886\n",
      "   macro avg       0.85      0.60      0.65     76886\n",
      "weighted avg       0.98      0.98      0.98     76886\n",
      "\n"
     ]
    }
   ],
   "source": [
    "  print(classification_report(y_test, y_test_pred_final))"
   ]
  },
  {
   "cell_type": "markdown",
   "id": "c6d5d7cc",
   "metadata": {},
   "source": [
    "<a id='5'></a>\n",
    "\n",
    "---"
   ]
  },
  {
   "cell_type": "markdown",
   "id": "6242c111",
   "metadata": {},
   "source": [
    "# 5. Conclusion"
   ]
  },
  {
   "cell_type": "markdown",
   "id": "8c751374",
   "metadata": {},
   "source": [
    "- For the final Logistic Regression model, the following hyperparameters were used:\n",
    "    - C = 0.007\n",
    "    - penalty = \"l1\"\n",
    "    - max_iter = 3000\n",
    "    - class_weight = {0: 0.70, 1: 0.3} \n",
    "    \n",
    "- The threshold was set at 0.5 (same value as the default)."
   ]
  },
  {
   "cell_type": "markdown",
   "id": "bda39049",
   "metadata": {},
   "source": [
    "Through the logistic regression model, the following metrics were found:\n",
    "    \n",
    "    - Precision:\n",
    "        - Train = 0.707\n",
    "        - Test = 0.708\n",
    "    - Recall:\n",
    "        - Train = 0.193\n",
    "        - Test = 0.198\n",
    "    - AUC = 0.94\n",
    "    - Número de FP:\n",
    "        - Train = 493\n",
    "        - Test = 126\n",
    "    - Número de FN:\n",
    "        - Train = 4963\n",
    "        - Test = 1233"
   ]
  },
  {
   "cell_type": "markdown",
   "id": "f1b8b062",
   "metadata": {},
   "source": [
    "- Therefore, it is interpreted that the following model can correctly discern those patients who are really going to die, without generating high PF values.\n",
    "\n",
    "- This allows the clinician to provide comfort care to the patient, avoiding therapeutic stubbornness, even allowing the patient's family presence during their last moments of life.\n",
    "\n",
    "- However, the cost is a high number of FN that could generate an overload in the intensive care units."
   ]
  }
 ],
 "metadata": {
  "kernelspec": {
   "display_name": "Python 3 (ipykernel)",
   "language": "python",
   "name": "python3"
  },
  "language_info": {
   "codemirror_mode": {
    "name": "ipython",
    "version": 3
   },
   "file_extension": ".py",
   "mimetype": "text/x-python",
   "name": "python",
   "nbconvert_exporter": "python",
   "pygments_lexer": "ipython3",
   "version": "3.9.12"
  }
 },
 "nbformat": 4,
 "nbformat_minor": 5
}
