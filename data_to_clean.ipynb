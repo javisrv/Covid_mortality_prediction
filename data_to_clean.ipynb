{
 "cells": [
  {
   "cell_type": "markdown",
   "id": "19fa4642",
   "metadata": {},
   "source": [
    "I recommend to view the file "
   ]
  },
  {
   "cell_type": "markdown",
   "id": "525a10f3",
   "metadata": {},
   "source": [
    "# [1- Introduction](#1)\n",
    "\n",
    "# [2- Loading basic libraries](#2)\n",
    "\n",
    "# [3- Data frame loading and cleaning](#3)\n",
    "\n",
    " - ## [A- Data loading and selection columns](#3.A)\n",
    " - ## [B- Treatment of variables](#3.B)\n",
    "     - ### [B.1- Categoricals variables](#3.B.1)\n",
    "     - ### [B.2- Datetime variables](#3.B.2)\n",
    "     - ### [B.3- Calculating Age](#3.B.3)\n",
    "     - ### [B.4- n_comor and n_sym columns creation](#3.B.4)\n",
    " - ## [C- Filtered](#3.C)\n",
    " - ## [D- At last](#3.D)"
   ]
  },
  {
   "cell_type": "markdown",
   "id": "c7936fd5",
   "metadata": {},
   "source": [
    "<a id='1'></a>\n",
    "\n",
    "---"
   ]
  },
  {
   "cell_type": "markdown",
   "id": "18381828",
   "metadata": {},
   "source": [
    "# 1. Introduction"
   ]
  },
  {
   "cell_type": "markdown",
   "id": "ae7152ae",
   "metadata": {},
   "source": [
    "- COVID-19 has caused more than 219 million infections worldwide and resulted in more than 4.55 million deaths. The COVID-19 disease has resulted in a substantial cause of morbidity and mortality across the world. COVID19 disease presents with a wide range of clinical features spanning from no symptoms to multi-organ failure and associated with high mortality.\n",
    "\n",
    "- Since the epidemic, several mortality risk factors have been identified: genetic predisposing factors; demographic factors (older age and male sex); presence of comorbidities (cardiac, metabolic); several laboratory findings (lymphocyte count, lactic dehydrogenase, ferritin); imaging findings."
   ]
  },
  {
   "cell_type": "markdown",
   "id": "3ff30f87",
   "metadata": {},
   "source": [
    "<a id='2'></a>\n",
    "\n",
    "---"
   ]
  },
  {
   "cell_type": "markdown",
   "id": "03ff0900",
   "metadata": {},
   "source": [
    "# 2. Loading basic libraries"
   ]
  },
  {
   "cell_type": "code",
   "execution_count": 1,
   "id": "513754b0",
   "metadata": {},
   "outputs": [],
   "source": [
    "import pandas as pd\n",
    "import numpy as np\n",
    "from scipy.stats import iqr\n",
    "import matplotlib.pyplot as plt\n",
    "from matplotlib import gridspec\n",
    "import seaborn as sns\n",
    "import plotly.express as px"
   ]
  },
  {
   "cell_type": "markdown",
   "id": "fa824c25",
   "metadata": {},
   "source": [
    "<a id='3'></a>\n",
    "\n",
    "---"
   ]
  },
  {
   "cell_type": "markdown",
   "id": "a7f734c3",
   "metadata": {},
   "source": [
    "# 3. Data frame loading and cleaning"
   ]
  },
  {
   "cell_type": "code",
   "execution_count": 157,
   "id": "3336da09",
   "metadata": {},
   "outputs": [],
   "source": [
    "df = pd.read_csv(\"MICRODADOS.csv\", index_col = 0, encoding = \"latin-1\", sep = \";\")"
   ]
  },
  {
   "cell_type": "code",
   "execution_count": 158,
   "id": "0e6371bd",
   "metadata": {},
   "outputs": [
    {
     "data": {
      "text/html": [
       "<div>\n",
       "<style scoped>\n",
       "    .dataframe tbody tr th:only-of-type {\n",
       "        vertical-align: middle;\n",
       "    }\n",
       "\n",
       "    .dataframe tbody tr th {\n",
       "        vertical-align: top;\n",
       "    }\n",
       "\n",
       "    .dataframe thead th {\n",
       "        text-align: right;\n",
       "    }\n",
       "</style>\n",
       "<table border=\"1\" class=\"dataframe\">\n",
       "  <thead>\n",
       "    <tr style=\"text-align: right;\">\n",
       "      <th></th>\n",
       "      <th>DataCadastro</th>\n",
       "      <th>DataDiagnostico</th>\n",
       "      <th>DataColeta_RT_PCR</th>\n",
       "      <th>DataColetaTesteRapido</th>\n",
       "      <th>DataColetaSorologia</th>\n",
       "      <th>DataColetaSorologiaIGG</th>\n",
       "      <th>DataEncerramento</th>\n",
       "      <th>DataObito</th>\n",
       "      <th>Classificacao</th>\n",
       "      <th>Evolucao</th>\n",
       "      <th>...</th>\n",
       "      <th>ViagemBrasil</th>\n",
       "      <th>ViagemInternacional</th>\n",
       "      <th>ProfissionalSaude</th>\n",
       "      <th>PossuiDeficiencia</th>\n",
       "      <th>MoradorDeRua</th>\n",
       "      <th>ResultadoRT_PCR</th>\n",
       "      <th>ResultadoTesteRapido</th>\n",
       "      <th>ResultadoSorologia</th>\n",
       "      <th>ResultadoSorologia_IGG</th>\n",
       "      <th>TipoTesteRapido</th>\n",
       "    </tr>\n",
       "    <tr>\n",
       "      <th>DataNotificacao</th>\n",
       "      <th></th>\n",
       "      <th></th>\n",
       "      <th></th>\n",
       "      <th></th>\n",
       "      <th></th>\n",
       "      <th></th>\n",
       "      <th></th>\n",
       "      <th></th>\n",
       "      <th></th>\n",
       "      <th></th>\n",
       "      <th></th>\n",
       "      <th></th>\n",
       "      <th></th>\n",
       "      <th></th>\n",
       "      <th></th>\n",
       "      <th></th>\n",
       "      <th></th>\n",
       "      <th></th>\n",
       "      <th></th>\n",
       "      <th></th>\n",
       "      <th></th>\n",
       "    </tr>\n",
       "  </thead>\n",
       "  <tbody>\n",
       "    <tr>\n",
       "      <th>2021-11-11</th>\n",
       "      <td>2021-11-11</td>\n",
       "      <td>2021-11-08</td>\n",
       "      <td>NaN</td>\n",
       "      <td>NaN</td>\n",
       "      <td>NaN</td>\n",
       "      <td>NaN</td>\n",
       "      <td>NaN</td>\n",
       "      <td>NaN</td>\n",
       "      <td>Suspeito</td>\n",
       "      <td>-</td>\n",
       "      <td>...</td>\n",
       "      <td>Não Informado</td>\n",
       "      <td>Não Informado</td>\n",
       "      <td>Não</td>\n",
       "      <td>Não</td>\n",
       "      <td>Não</td>\n",
       "      <td>Não Informado</td>\n",
       "      <td>Não Informado</td>\n",
       "      <td>Não Informado</td>\n",
       "      <td>Não Informado</td>\n",
       "      <td>Não Informado</td>\n",
       "    </tr>\n",
       "    <tr>\n",
       "      <th>2021-11-11</th>\n",
       "      <td>2021-11-11</td>\n",
       "      <td>2021-11-11</td>\n",
       "      <td>NaN</td>\n",
       "      <td>2021-11-11</td>\n",
       "      <td>NaN</td>\n",
       "      <td>NaN</td>\n",
       "      <td>2021-11-11</td>\n",
       "      <td>NaN</td>\n",
       "      <td>Descartados</td>\n",
       "      <td>Ignorado</td>\n",
       "      <td>...</td>\n",
       "      <td>Não Informado</td>\n",
       "      <td>Não Informado</td>\n",
       "      <td>Não</td>\n",
       "      <td>Não</td>\n",
       "      <td>Não</td>\n",
       "      <td>Não Informado</td>\n",
       "      <td>Negativo</td>\n",
       "      <td>Não Informado</td>\n",
       "      <td>Não Informado</td>\n",
       "      <td>Teste rápido Antígeno</td>\n",
       "    </tr>\n",
       "  </tbody>\n",
       "</table>\n",
       "<p>2 rows × 44 columns</p>\n",
       "</div>"
      ],
      "text/plain": [
       "                DataCadastro DataDiagnostico DataColeta_RT_PCR  \\\n",
       "DataNotificacao                                                  \n",
       "2021-11-11        2021-11-11      2021-11-08               NaN   \n",
       "2021-11-11        2021-11-11      2021-11-11               NaN   \n",
       "\n",
       "                DataColetaTesteRapido DataColetaSorologia  \\\n",
       "DataNotificacao                                             \n",
       "2021-11-11                        NaN                 NaN   \n",
       "2021-11-11                 2021-11-11                 NaN   \n",
       "\n",
       "                DataColetaSorologiaIGG DataEncerramento DataObito  \\\n",
       "DataNotificacao                                                     \n",
       "2021-11-11                         NaN              NaN       NaN   \n",
       "2021-11-11                         NaN       2021-11-11       NaN   \n",
       "\n",
       "                Classificacao  Evolucao  ...   ViagemBrasil  \\\n",
       "DataNotificacao                          ...                  \n",
       "2021-11-11           Suspeito         -  ...  Não Informado   \n",
       "2021-11-11        Descartados  Ignorado  ...  Não Informado   \n",
       "\n",
       "                ViagemInternacional ProfissionalSaude PossuiDeficiencia  \\\n",
       "DataNotificacao                                                           \n",
       "2021-11-11            Não Informado               Não               Não   \n",
       "2021-11-11            Não Informado               Não               Não   \n",
       "\n",
       "                MoradorDeRua ResultadoRT_PCR ResultadoTesteRapido  \\\n",
       "DataNotificacao                                                     \n",
       "2021-11-11               Não   Não Informado        Não Informado   \n",
       "2021-11-11               Não   Não Informado             Negativo   \n",
       "\n",
       "                ResultadoSorologia ResultadoSorologia_IGG  \\\n",
       "DataNotificacao                                             \n",
       "2021-11-11           Não Informado          Não Informado   \n",
       "2021-11-11           Não Informado          Não Informado   \n",
       "\n",
       "                       TipoTesteRapido  \n",
       "DataNotificacao                         \n",
       "2021-11-11               Não Informado  \n",
       "2021-11-11       Teste rápido Antígeno  \n",
       "\n",
       "[2 rows x 44 columns]"
      ]
     },
     "execution_count": 158,
     "metadata": {},
     "output_type": "execute_result"
    }
   ],
   "source": [
    "df.head(2)"
   ]
  },
  {
   "cell_type": "code",
   "execution_count": 159,
   "id": "4f772f51",
   "metadata": {},
   "outputs": [
    {
     "data": {
      "text/html": [
       "<div>\n",
       "<style scoped>\n",
       "    .dataframe tbody tr th:only-of-type {\n",
       "        vertical-align: middle;\n",
       "    }\n",
       "\n",
       "    .dataframe tbody tr th {\n",
       "        vertical-align: top;\n",
       "    }\n",
       "\n",
       "    .dataframe thead th {\n",
       "        text-align: right;\n",
       "    }\n",
       "</style>\n",
       "<table border=\"1\" class=\"dataframe\">\n",
       "  <thead>\n",
       "    <tr style=\"text-align: right;\">\n",
       "      <th></th>\n",
       "      <th>DataCadastro</th>\n",
       "      <th>DataDiagnostico</th>\n",
       "      <th>DataColeta_RT_PCR</th>\n",
       "      <th>DataColetaTesteRapido</th>\n",
       "      <th>DataColetaSorologia</th>\n",
       "      <th>DataColetaSorologiaIGG</th>\n",
       "      <th>DataEncerramento</th>\n",
       "      <th>DataObito</th>\n",
       "      <th>Classificacao</th>\n",
       "      <th>Evolucao</th>\n",
       "      <th>...</th>\n",
       "      <th>ViagemBrasil</th>\n",
       "      <th>ViagemInternacional</th>\n",
       "      <th>ProfissionalSaude</th>\n",
       "      <th>PossuiDeficiencia</th>\n",
       "      <th>MoradorDeRua</th>\n",
       "      <th>ResultadoRT_PCR</th>\n",
       "      <th>ResultadoTesteRapido</th>\n",
       "      <th>ResultadoSorologia</th>\n",
       "      <th>ResultadoSorologia_IGG</th>\n",
       "      <th>TipoTesteRapido</th>\n",
       "    </tr>\n",
       "  </thead>\n",
       "  <tbody>\n",
       "    <tr>\n",
       "      <th>0</th>\n",
       "      <td>2021-11-11</td>\n",
       "      <td>2021-11-08</td>\n",
       "      <td>NaN</td>\n",
       "      <td>NaN</td>\n",
       "      <td>NaN</td>\n",
       "      <td>NaN</td>\n",
       "      <td>NaN</td>\n",
       "      <td>NaN</td>\n",
       "      <td>Suspeito</td>\n",
       "      <td>-</td>\n",
       "      <td>...</td>\n",
       "      <td>Não Informado</td>\n",
       "      <td>Não Informado</td>\n",
       "      <td>Não</td>\n",
       "      <td>Não</td>\n",
       "      <td>Não</td>\n",
       "      <td>Não Informado</td>\n",
       "      <td>Não Informado</td>\n",
       "      <td>Não Informado</td>\n",
       "      <td>Não Informado</td>\n",
       "      <td>Não Informado</td>\n",
       "    </tr>\n",
       "    <tr>\n",
       "      <th>1</th>\n",
       "      <td>2021-11-11</td>\n",
       "      <td>2021-11-11</td>\n",
       "      <td>NaN</td>\n",
       "      <td>2021-11-11</td>\n",
       "      <td>NaN</td>\n",
       "      <td>NaN</td>\n",
       "      <td>2021-11-11</td>\n",
       "      <td>NaN</td>\n",
       "      <td>Descartados</td>\n",
       "      <td>Ignorado</td>\n",
       "      <td>...</td>\n",
       "      <td>Não Informado</td>\n",
       "      <td>Não Informado</td>\n",
       "      <td>Não</td>\n",
       "      <td>Não</td>\n",
       "      <td>Não</td>\n",
       "      <td>Não Informado</td>\n",
       "      <td>Negativo</td>\n",
       "      <td>Não Informado</td>\n",
       "      <td>Não Informado</td>\n",
       "      <td>Teste rápido Antígeno</td>\n",
       "    </tr>\n",
       "  </tbody>\n",
       "</table>\n",
       "<p>2 rows × 44 columns</p>\n",
       "</div>"
      ],
      "text/plain": [
       "  DataCadastro DataDiagnostico DataColeta_RT_PCR DataColetaTesteRapido  \\\n",
       "0   2021-11-11      2021-11-08               NaN                   NaN   \n",
       "1   2021-11-11      2021-11-11               NaN            2021-11-11   \n",
       "\n",
       "  DataColetaSorologia DataColetaSorologiaIGG DataEncerramento DataObito  \\\n",
       "0                 NaN                    NaN              NaN       NaN   \n",
       "1                 NaN                    NaN       2021-11-11       NaN   \n",
       "\n",
       "  Classificacao  Evolucao  ...   ViagemBrasil ViagemInternacional  \\\n",
       "0      Suspeito         -  ...  Não Informado       Não Informado   \n",
       "1   Descartados  Ignorado  ...  Não Informado       Não Informado   \n",
       "\n",
       "  ProfissionalSaude PossuiDeficiencia MoradorDeRua ResultadoRT_PCR  \\\n",
       "0               Não               Não          Não   Não Informado   \n",
       "1               Não               Não          Não   Não Informado   \n",
       "\n",
       "  ResultadoTesteRapido ResultadoSorologia ResultadoSorologia_IGG  \\\n",
       "0        Não Informado      Não Informado          Não Informado   \n",
       "1             Negativo      Não Informado          Não Informado   \n",
       "\n",
       "         TipoTesteRapido  \n",
       "0          Não Informado  \n",
       "1  Teste rápido Antígeno  \n",
       "\n",
       "[2 rows x 44 columns]"
      ]
     },
     "execution_count": 159,
     "metadata": {},
     "output_type": "execute_result"
    }
   ],
   "source": [
    "df = df.reset_index().drop(\"DataNotificacao\", axis = 1)\n",
    "df.head(2)"
   ]
  },
  {
   "cell_type": "code",
   "execution_count": 160,
   "id": "6b15d225",
   "metadata": {},
   "outputs": [
    {
     "data": {
      "text/plain": [
       "(2209062, 44)"
      ]
     },
     "execution_count": 160,
     "metadata": {},
     "output_type": "execute_result"
    }
   ],
   "source": [
    "df.shape"
   ]
  },
  {
   "cell_type": "markdown",
   "id": "4562cdd2",
   "metadata": {},
   "source": [
    "Observing with greater details the columns."
   ]
  },
  {
   "cell_type": "code",
   "execution_count": 161,
   "id": "e2cc73f0",
   "metadata": {},
   "outputs": [
    {
     "data": {
      "text/plain": [
       "Index(['DataCadastro', 'DataDiagnostico', 'DataColeta_RT_PCR',\n",
       "       'DataColetaTesteRapido', 'DataColetaSorologia',\n",
       "       'DataColetaSorologiaIGG', 'DataEncerramento', 'DataObito',\n",
       "       'Classificacao', 'Evolucao', 'CriterioConfirmacao', 'StatusNotificacao',\n",
       "       'Municipio', 'Bairro', 'FaixaEtaria', 'IdadeNaDataNotificacao', 'Sexo',\n",
       "       'RacaCor', 'Escolaridade', 'Gestante', 'Febre',\n",
       "       'DificuldadeRespiratoria', 'Tosse', 'Coriza', 'DorGarganta', 'Diarreia',\n",
       "       'Cefaleia', 'ComorbidadePulmao', 'ComorbidadeCardio',\n",
       "       'ComorbidadeRenal', 'ComorbidadeDiabetes', 'ComorbidadeTabagismo',\n",
       "       'ComorbidadeObesidade', 'FicouInternado', 'ViagemBrasil',\n",
       "       'ViagemInternacional', 'ProfissionalSaude', 'PossuiDeficiencia',\n",
       "       'MoradorDeRua', 'ResultadoRT_PCR', 'ResultadoTesteRapido',\n",
       "       'ResultadoSorologia', 'ResultadoSorologia_IGG', 'TipoTesteRapido'],\n",
       "      dtype='object')"
      ]
     },
     "execution_count": 161,
     "metadata": {},
     "output_type": "execute_result"
    }
   ],
   "source": [
    "df.columns"
   ]
  },
  {
   "cell_type": "code",
   "execution_count": 162,
   "id": "4b45d2bd",
   "metadata": {},
   "outputs": [
    {
     "data": {
      "text/html": [
       "<div>\n",
       "<style scoped>\n",
       "    .dataframe tbody tr th:only-of-type {\n",
       "        vertical-align: middle;\n",
       "    }\n",
       "\n",
       "    .dataframe tbody tr th {\n",
       "        vertical-align: top;\n",
       "    }\n",
       "\n",
       "    .dataframe thead th {\n",
       "        text-align: right;\n",
       "    }\n",
       "</style>\n",
       "<table border=\"1\" class=\"dataframe\">\n",
       "  <thead>\n",
       "    <tr style=\"text-align: right;\">\n",
       "      <th></th>\n",
       "      <th>DataCadastro</th>\n",
       "      <th>DataDiagnostico</th>\n",
       "      <th>DataColeta_RT_PCR</th>\n",
       "      <th>DataColetaTesteRapido</th>\n",
       "      <th>DataColetaSorologia</th>\n",
       "      <th>DataColetaSorologiaIGG</th>\n",
       "      <th>DataEncerramento</th>\n",
       "      <th>DataObito</th>\n",
       "      <th>Classificacao</th>\n",
       "      <th>Evolucao</th>\n",
       "      <th>CriterioConfirmacao</th>\n",
       "      <th>StatusNotificacao</th>\n",
       "      <th>Municipio</th>\n",
       "      <th>Bairro</th>\n",
       "      <th>FaixaEtaria</th>\n",
       "    </tr>\n",
       "  </thead>\n",
       "  <tbody>\n",
       "    <tr>\n",
       "      <th>0</th>\n",
       "      <td>2021-11-11</td>\n",
       "      <td>2021-11-08</td>\n",
       "      <td>NaN</td>\n",
       "      <td>NaN</td>\n",
       "      <td>NaN</td>\n",
       "      <td>NaN</td>\n",
       "      <td>NaN</td>\n",
       "      <td>NaN</td>\n",
       "      <td>Suspeito</td>\n",
       "      <td>-</td>\n",
       "      <td>-</td>\n",
       "      <td>Em Aberto</td>\n",
       "      <td>SERRA</td>\n",
       "      <td>VALPARAÍSO</td>\n",
       "      <td>10 a 19 anos</td>\n",
       "    </tr>\n",
       "    <tr>\n",
       "      <th>1</th>\n",
       "      <td>2021-11-11</td>\n",
       "      <td>2021-11-11</td>\n",
       "      <td>NaN</td>\n",
       "      <td>2021-11-11</td>\n",
       "      <td>NaN</td>\n",
       "      <td>NaN</td>\n",
       "      <td>2021-11-11</td>\n",
       "      <td>NaN</td>\n",
       "      <td>Descartados</td>\n",
       "      <td>Ignorado</td>\n",
       "      <td>Laboratorial</td>\n",
       "      <td>Encerrado</td>\n",
       "      <td>VITORIA</td>\n",
       "      <td>PRAIA DO CANTO</td>\n",
       "      <td>60 a 69 anos</td>\n",
       "    </tr>\n",
       "  </tbody>\n",
       "</table>\n",
       "</div>"
      ],
      "text/plain": [
       "  DataCadastro DataDiagnostico DataColeta_RT_PCR DataColetaTesteRapido  \\\n",
       "0   2021-11-11      2021-11-08               NaN                   NaN   \n",
       "1   2021-11-11      2021-11-11               NaN            2021-11-11   \n",
       "\n",
       "  DataColetaSorologia DataColetaSorologiaIGG DataEncerramento DataObito  \\\n",
       "0                 NaN                    NaN              NaN       NaN   \n",
       "1                 NaN                    NaN       2021-11-11       NaN   \n",
       "\n",
       "  Classificacao  Evolucao CriterioConfirmacao StatusNotificacao Municipio  \\\n",
       "0      Suspeito         -                   -         Em Aberto     SERRA   \n",
       "1   Descartados  Ignorado        Laboratorial         Encerrado   VITORIA   \n",
       "\n",
       "           Bairro   FaixaEtaria  \n",
       "0      VALPARAÍSO  10 a 19 anos  \n",
       "1  PRAIA DO CANTO  60 a 69 anos  "
      ]
     },
     "execution_count": 162,
     "metadata": {},
     "output_type": "execute_result"
    }
   ],
   "source": [
    "df.iloc[:2, :15]"
   ]
  },
  {
   "cell_type": "code",
   "execution_count": 163,
   "id": "51189ab3",
   "metadata": {},
   "outputs": [
    {
     "data": {
      "text/html": [
       "<div>\n",
       "<style scoped>\n",
       "    .dataframe tbody tr th:only-of-type {\n",
       "        vertical-align: middle;\n",
       "    }\n",
       "\n",
       "    .dataframe tbody tr th {\n",
       "        vertical-align: top;\n",
       "    }\n",
       "\n",
       "    .dataframe thead th {\n",
       "        text-align: right;\n",
       "    }\n",
       "</style>\n",
       "<table border=\"1\" class=\"dataframe\">\n",
       "  <thead>\n",
       "    <tr style=\"text-align: right;\">\n",
       "      <th></th>\n",
       "      <th>IdadeNaDataNotificacao</th>\n",
       "      <th>Sexo</th>\n",
       "      <th>RacaCor</th>\n",
       "      <th>Escolaridade</th>\n",
       "      <th>Gestante</th>\n",
       "      <th>Febre</th>\n",
       "      <th>DificuldadeRespiratoria</th>\n",
       "      <th>Tosse</th>\n",
       "      <th>Coriza</th>\n",
       "      <th>DorGarganta</th>\n",
       "      <th>Diarreia</th>\n",
       "      <th>Cefaleia</th>\n",
       "      <th>ComorbidadePulmao</th>\n",
       "      <th>ComorbidadeCardio</th>\n",
       "      <th>ComorbidadeRenal</th>\n",
       "    </tr>\n",
       "  </thead>\n",
       "  <tbody>\n",
       "    <tr>\n",
       "      <th>0</th>\n",
       "      <td>19 anos, 8 meses, 21 dias</td>\n",
       "      <td>M</td>\n",
       "      <td>Ignorado</td>\n",
       "      <td>Ignorado</td>\n",
       "      <td>Não se aplica</td>\n",
       "      <td>Não</td>\n",
       "      <td>Não</td>\n",
       "      <td>Sim</td>\n",
       "      <td>Sim</td>\n",
       "      <td>Não</td>\n",
       "      <td>Não</td>\n",
       "      <td>Não</td>\n",
       "      <td>Não</td>\n",
       "      <td>Não</td>\n",
       "      <td>Não</td>\n",
       "    </tr>\n",
       "    <tr>\n",
       "      <th>1</th>\n",
       "      <td>63 anos, 11 meses, 16 dias</td>\n",
       "      <td>F</td>\n",
       "      <td>Branca</td>\n",
       "      <td>Educação superior completa</td>\n",
       "      <td>Não</td>\n",
       "      <td>Não</td>\n",
       "      <td>Não</td>\n",
       "      <td>Não</td>\n",
       "      <td>Não</td>\n",
       "      <td>Não</td>\n",
       "      <td>Não</td>\n",
       "      <td>Não</td>\n",
       "      <td>Não</td>\n",
       "      <td>Não</td>\n",
       "      <td>Não</td>\n",
       "    </tr>\n",
       "  </tbody>\n",
       "</table>\n",
       "</div>"
      ],
      "text/plain": [
       "       IdadeNaDataNotificacao Sexo   RacaCor                Escolaridade  \\\n",
       "0   19 anos, 8 meses, 21 dias    M  Ignorado                    Ignorado   \n",
       "1  63 anos, 11 meses, 16 dias    F    Branca  Educação superior completa   \n",
       "\n",
       "        Gestante Febre DificuldadeRespiratoria Tosse Coriza DorGarganta  \\\n",
       "0  Não se aplica   Não                     Não   Sim    Sim         Não   \n",
       "1            Não   Não                     Não   Não    Não         Não   \n",
       "\n",
       "  Diarreia Cefaleia ComorbidadePulmao ComorbidadeCardio ComorbidadeRenal  \n",
       "0      Não      Não               Não               Não              Não  \n",
       "1      Não      Não               Não               Não              Não  "
      ]
     },
     "execution_count": 163,
     "metadata": {},
     "output_type": "execute_result"
    }
   ],
   "source": [
    "df.iloc[:2, 15:30]"
   ]
  },
  {
   "cell_type": "code",
   "execution_count": 164,
   "id": "2cc57b2d",
   "metadata": {},
   "outputs": [
    {
     "data": {
      "text/html": [
       "<div>\n",
       "<style scoped>\n",
       "    .dataframe tbody tr th:only-of-type {\n",
       "        vertical-align: middle;\n",
       "    }\n",
       "\n",
       "    .dataframe tbody tr th {\n",
       "        vertical-align: top;\n",
       "    }\n",
       "\n",
       "    .dataframe thead th {\n",
       "        text-align: right;\n",
       "    }\n",
       "</style>\n",
       "<table border=\"1\" class=\"dataframe\">\n",
       "  <thead>\n",
       "    <tr style=\"text-align: right;\">\n",
       "      <th></th>\n",
       "      <th>ComorbidadeDiabetes</th>\n",
       "      <th>ComorbidadeTabagismo</th>\n",
       "      <th>ComorbidadeObesidade</th>\n",
       "      <th>FicouInternado</th>\n",
       "      <th>ViagemBrasil</th>\n",
       "      <th>ViagemInternacional</th>\n",
       "      <th>ProfissionalSaude</th>\n",
       "      <th>PossuiDeficiencia</th>\n",
       "      <th>MoradorDeRua</th>\n",
       "      <th>ResultadoRT_PCR</th>\n",
       "      <th>ResultadoTesteRapido</th>\n",
       "      <th>ResultadoSorologia</th>\n",
       "      <th>ResultadoSorologia_IGG</th>\n",
       "      <th>TipoTesteRapido</th>\n",
       "    </tr>\n",
       "  </thead>\n",
       "  <tbody>\n",
       "    <tr>\n",
       "      <th>0</th>\n",
       "      <td>Não</td>\n",
       "      <td>Não</td>\n",
       "      <td>Não</td>\n",
       "      <td>Não Informado</td>\n",
       "      <td>Não Informado</td>\n",
       "      <td>Não Informado</td>\n",
       "      <td>Não</td>\n",
       "      <td>Não</td>\n",
       "      <td>Não</td>\n",
       "      <td>Não Informado</td>\n",
       "      <td>Não Informado</td>\n",
       "      <td>Não Informado</td>\n",
       "      <td>Não Informado</td>\n",
       "      <td>Não Informado</td>\n",
       "    </tr>\n",
       "    <tr>\n",
       "      <th>1</th>\n",
       "      <td>Não</td>\n",
       "      <td>Não</td>\n",
       "      <td>Não</td>\n",
       "      <td>Não Informado</td>\n",
       "      <td>Não Informado</td>\n",
       "      <td>Não Informado</td>\n",
       "      <td>Não</td>\n",
       "      <td>Não</td>\n",
       "      <td>Não</td>\n",
       "      <td>Não Informado</td>\n",
       "      <td>Negativo</td>\n",
       "      <td>Não Informado</td>\n",
       "      <td>Não Informado</td>\n",
       "      <td>Teste rápido Antígeno</td>\n",
       "    </tr>\n",
       "  </tbody>\n",
       "</table>\n",
       "</div>"
      ],
      "text/plain": [
       "  ComorbidadeDiabetes ComorbidadeTabagismo ComorbidadeObesidade  \\\n",
       "0                 Não                  Não                  Não   \n",
       "1                 Não                  Não                  Não   \n",
       "\n",
       "  FicouInternado   ViagemBrasil ViagemInternacional ProfissionalSaude  \\\n",
       "0  Não Informado  Não Informado       Não Informado               Não   \n",
       "1  Não Informado  Não Informado       Não Informado               Não   \n",
       "\n",
       "  PossuiDeficiencia MoradorDeRua ResultadoRT_PCR ResultadoTesteRapido  \\\n",
       "0               Não          Não   Não Informado        Não Informado   \n",
       "1               Não          Não   Não Informado             Negativo   \n",
       "\n",
       "  ResultadoSorologia ResultadoSorologia_IGG        TipoTesteRapido  \n",
       "0      Não Informado          Não Informado          Não Informado  \n",
       "1      Não Informado          Não Informado  Teste rápido Antígeno  "
      ]
     },
     "execution_count": 164,
     "metadata": {},
     "output_type": "execute_result"
    }
   ],
   "source": [
    "df.iloc[:2, 30:]"
   ]
  },
  {
   "cell_type": "markdown",
   "id": "de565139",
   "metadata": {},
   "source": [
    "The most relevant columns are conserved to carry out the analysis."
   ]
  },
  {
   "cell_type": "code",
   "execution_count": 165,
   "id": "08add4bf",
   "metadata": {},
   "outputs": [],
   "source": [
    "covid_cols = [\"DataCadastro\", \"DataDiagnostico\", \"DataObito\", \"ResultadoTesteRapido\", \"ResultadoRT_PCR\",\n",
    "              \"Classificacao\", \"FicouInternado\", \"Evolucao\",\n",
    "              \"Sexo\", \"IdadeNaDataNotificacao\", \"FaixaEtaria\", \"RacaCor\",\n",
    "              \"Gestante\", \"PossuiDeficiencia\",         \n",
    "              \"Febre\", \"DificuldadeRespiratoria\", \"Tosse\", \"Coriza\", \"DorGarganta\", \"Diarreia\", \"Cefaleia\",\n",
    "              \"ComorbidadePulmao\", \"ComorbidadeCardio\", \"ComorbidadeRenal\", \"ComorbidadeDiabetes\", \"ComorbidadeTabagismo\", \"ComorbidadeObesidade\"]"
   ]
  },
  {
   "cell_type": "code",
   "execution_count": 166,
   "id": "25de6a9b",
   "metadata": {},
   "outputs": [],
   "source": [
    "df = df[covid_cols] "
   ]
  },
  {
   "cell_type": "code",
   "execution_count": 167,
   "id": "aaee6a44",
   "metadata": {},
   "outputs": [
    {
     "data": {
      "text/plain": [
       "Index(['DataCadastro', 'DataDiagnostico', 'DataObito', 'ResultadoTesteRapido',\n",
       "       'ResultadoRT_PCR', 'Classificacao', 'FicouInternado', 'Evolucao',\n",
       "       'Sexo', 'IdadeNaDataNotificacao', 'FaixaEtaria', 'RacaCor', 'Gestante',\n",
       "       'PossuiDeficiencia', 'Febre', 'DificuldadeRespiratoria', 'Tosse',\n",
       "       'Coriza', 'DorGarganta', 'Diarreia', 'Cefaleia', 'ComorbidadePulmao',\n",
       "       'ComorbidadeCardio', 'ComorbidadeRenal', 'ComorbidadeDiabetes',\n",
       "       'ComorbidadeTabagismo', 'ComorbidadeObesidade'],\n",
       "      dtype='object')"
      ]
     },
     "execution_count": 167,
     "metadata": {},
     "output_type": "execute_result"
    }
   ],
   "source": [
    "df.columns"
   ]
  },
  {
   "cell_type": "markdown",
   "id": "c5921fd3",
   "metadata": {},
   "source": [
    "Column name translation."
   ]
  },
  {
   "cell_type": "code",
   "execution_count": 168,
   "id": "760b8daa",
   "metadata": {},
   "outputs": [],
   "source": [
    "df.columns = [\"Register_date\", \"Diagnosis_date\", \"Death_date\",\n",
    "              \"Result_PCR\", \"Result_RapidTest\", \"Classification\", \"Hospitalized\", \"Evolution\", \n",
    "              \"Gender\", \"Notification_age\", \"Range_age\", \"Race\", \n",
    "              \"Pregnant\", \"Disabled\", \"Fever\", \"Breath_difficulty\", \"Cough\", \"Rhinitis\", \"Throat_pain\", \n",
    "              \"Diarrhea\", \"Headache\", \"Comorbidity_pulmonary\", \"Comorbidity_cardiac\", \"Comorbidity_renal\", \n",
    "              \"Comorbidity_diabetes\", \"Comorbidity_smoking\", \"Comorbidity_obesity\"]"
   ]
  },
  {
   "cell_type": "code",
   "execution_count": 169,
   "id": "f44ceaec",
   "metadata": {},
   "outputs": [
    {
     "data": {
      "text/plain": [
       "Index(['Register_date', 'Diagnosis_date', 'Death_date', 'Result_PCR',\n",
       "       'Result_RapidTest', 'Classification', 'Hospitalized', 'Evolution',\n",
       "       'Gender', 'Notification_age', 'Range_age', 'Race', 'Pregnant',\n",
       "       'Disabled', 'Fever', 'Breath_difficulty', 'Cough', 'Rhinitis',\n",
       "       'Throat_pain', 'Diarrhea', 'Headache', 'Comorbidity_pulmonary',\n",
       "       'Comorbidity_cardiac', 'Comorbidity_renal', 'Comorbidity_diabetes',\n",
       "       'Comorbidity_smoking', 'Comorbidity_obesity'],\n",
       "      dtype='object')"
      ]
     },
     "execution_count": 169,
     "metadata": {},
     "output_type": "execute_result"
    }
   ],
   "source": [
    "df.columns"
   ]
  },
  {
   "cell_type": "markdown",
   "id": "091e089d",
   "metadata": {},
   "source": [
    "<a id='3.B'></a>"
   ]
  },
  {
   "cell_type": "markdown",
   "id": "b09d4b1d",
   "metadata": {},
   "source": [
    "## 3.B Treatment of variables"
   ]
  },
  {
   "cell_type": "markdown",
   "id": "f6e0579b",
   "metadata": {},
   "source": [
    "Search for nulls"
   ]
  },
  {
   "cell_type": "code",
   "execution_count": 170,
   "id": "69132d6d",
   "metadata": {},
   "outputs": [
    {
     "data": {
      "text/plain": [
       "Death_date               0.99214\n",
       "Register_date            0.00000\n",
       "Fever                    0.00000\n",
       "Comorbidity_smoking      0.00000\n",
       "Comorbidity_diabetes     0.00000\n",
       "Comorbidity_renal        0.00000\n",
       "Comorbidity_cardiac      0.00000\n",
       "Comorbidity_pulmonary    0.00000\n",
       "Headache                 0.00000\n",
       "Diarrhea                 0.00000\n",
       "Throat_pain              0.00000\n",
       "Rhinitis                 0.00000\n",
       "Cough                    0.00000\n",
       "Breath_difficulty        0.00000\n",
       "Disabled                 0.00000\n",
       "Diagnosis_date           0.00000\n",
       "Pregnant                 0.00000\n",
       "Race                     0.00000\n",
       "Range_age                0.00000\n",
       "Notification_age         0.00000\n",
       "Gender                   0.00000\n",
       "Evolution                0.00000\n",
       "Hospitalized             0.00000\n",
       "Classification           0.00000\n",
       "Result_RapidTest         0.00000\n",
       "Result_PCR               0.00000\n",
       "Comorbidity_obesity      0.00000\n",
       "dtype: float64"
      ]
     },
     "execution_count": 170,
     "metadata": {},
     "output_type": "execute_result"
    }
   ],
   "source": [
    "(df.isnull().sum() / df.shape[0]).sort_values(ascending = False)"
   ]
  },
  {
   "cell_type": "markdown",
   "id": "a46d69ab",
   "metadata": {},
   "source": [
    "- `Death_date` appears to have 90% null data, this situation will be discussed later.\n",
    "\n",
    "- Some columns seem to not have nulls directly, let's see what cause this."
   ]
  },
  {
   "cell_type": "markdown",
   "id": "ca831cbe",
   "metadata": {},
   "source": [
    "<a id='3.B.1'></a>"
   ]
  },
  {
   "cell_type": "markdown",
   "id": "73d30692",
   "metadata": {},
   "source": [
    "### 3.B.1 Categoricals variables"
   ]
  },
  {
   "cell_type": "markdown",
   "id": "67c5e2fb",
   "metadata": {},
   "source": [
    "Printing each category of each categorical variable."
   ]
  },
  {
   "cell_type": "code",
   "execution_count": 171,
   "id": "7af30ec6",
   "metadata": {},
   "outputs": [],
   "source": [
    "def categoricals(dataframe):\n",
    "    for x in range(dataframe.shape[1]):\n",
    "        if \"date\" in dataframe.columns[x]:\n",
    "            pass\n",
    "        else:\n",
    "            print(dataframe.columns[x], \"\\n\", dataframe[dataframe.columns[x]].unique(), \"\\n\")"
   ]
  },
  {
   "cell_type": "code",
   "execution_count": 172,
   "id": "f056683c",
   "metadata": {},
   "outputs": [
    {
     "name": "stdout",
     "output_type": "stream",
     "text": [
      "Result_PCR \n",
      " ['Não Informado' 'Negativo' 'Positivo' 'Inconclusivo'] \n",
      "\n",
      "Result_RapidTest \n",
      " ['Não Informado' 'Inconclusivo' 'Negativo' 'Positivo'] \n",
      "\n",
      "Classification \n",
      " ['Suspeito' 'Descartados' 'Confirmados'] \n",
      "\n",
      "Hospitalized \n",
      " ['Não Informado' 'Não' 'Ignorado' 'Sim'] \n",
      "\n",
      "Evolution \n",
      " ['-' 'Ignorado' 'Cura' 'Óbito por outras causas' 'Óbito pelo COVID-19'] \n",
      "\n",
      "Gender \n",
      " ['M' 'F' 'I'] \n",
      "\n",
      "Notification_age \n",
      " ['19 anos, 8 meses, 21 dias' '63 anos, 11 meses, 16 dias'\n",
      " '35 anos, 5 meses, 26 dias' ... '94 anos, 7 meses, 7 dias'\n",
      " '99 anos, 7 meses, 26 dias' '97 anos, 2 meses, 2 dias'] \n",
      "\n",
      "Range_age \n",
      " ['10 a 19 anos' '60 a 69 anos' '30 a 39 anos' '0 a 4 anos' '40 a 49 anos'\n",
      " '20 a 29 anos' '70 a 79 anos' '50 a 59 anos' '80 a 89 anos' '05 a 9 anos'\n",
      " '90 anos ou mais' '-'] \n",
      "\n",
      "Race \n",
      " ['Ignorado' 'Branca' 'Parda' 'Preta' 'Amarela' 'Indigena'] \n",
      "\n",
      "Pregnant \n",
      " ['Não se aplica' 'Não' '3º trimeste' 'Ignorado'\n",
      " 'Idade gestacional ignorada' '2º trimeste' '1º trimeste'] \n",
      "\n",
      "Disabled \n",
      " ['Não' 'Sim' 'Não Informado'] \n",
      "\n",
      "Fever \n",
      " ['Não' 'Sim' '-'] \n",
      "\n",
      "Breath_difficulty \n",
      " ['Não' 'Sim' '-'] \n",
      "\n",
      "Cough \n",
      " ['Sim' 'Não' '-'] \n",
      "\n",
      "Rhinitis \n",
      " ['Sim' 'Não' '-'] \n",
      "\n",
      "Throat_pain \n",
      " ['Não' 'Sim' '-'] \n",
      "\n",
      "Diarrhea \n",
      " ['Não' 'Sim' '-'] \n",
      "\n",
      "Headache \n",
      " ['Não' 'Sim' '-'] \n",
      "\n",
      "Comorbidity_pulmonary \n",
      " ['Não' 'Sim' '-'] \n",
      "\n",
      "Comorbidity_cardiac \n",
      " ['Não' 'Sim' '-'] \n",
      "\n",
      "Comorbidity_renal \n",
      " ['Não' 'Sim' '-'] \n",
      "\n",
      "Comorbidity_diabetes \n",
      " ['Não' 'Sim' '-'] \n",
      "\n",
      "Comorbidity_smoking \n",
      " ['Não' 'Sim' '-'] \n",
      "\n",
      "Comorbidity_obesity \n",
      " ['Não' 'Sim' '-'] \n",
      "\n"
     ]
    }
   ],
   "source": [
    "categoricals(df)"
   ]
  },
  {
   "cell_type": "markdown",
   "id": "970822b3",
   "metadata": {},
   "source": [
    "- Some columns present values expressed as `Não Informado`, `-`, `Ignorado`, etc. \n",
    "\n",
    "- These variables will be replaced by `np.nan`.\n",
    "\n",
    "- Convert to `type = category` if is necessary."
   ]
  },
  {
   "cell_type": "code",
   "execution_count": 173,
   "id": "4ad51bec",
   "metadata": {},
   "outputs": [],
   "source": [
    "uninformed_cols = [\"Result_RapidTest\", \"Result_PCR\", \"Hospitalized\", \"Disabled\"]\n",
    "df[uninformed_cols] = df[uninformed_cols].replace({\"Não Informado\": np.nan, \"Inconclusivo\": np.nan, \"Ignorado\": np.nan}).astype(\"category\")"
   ]
  },
  {
   "cell_type": "code",
   "execution_count": 174,
   "id": "215cd459",
   "metadata": {},
   "outputs": [],
   "source": [
    "symptoms_cols = [\"Fever\", \"Breath_difficulty\", \"Cough\", \"Rhinitis\", \"Throat_pain\", \"Diarrhea\", \"Headache\"]\n",
    "df[symptoms_cols] = df[symptoms_cols].replace(\"-\", np.nan).astype(\"category\")"
   ]
  },
  {
   "cell_type": "code",
   "execution_count": 175,
   "id": "2c21973b",
   "metadata": {},
   "outputs": [],
   "source": [
    "comorbidity_cols = [\"Comorbidity_pulmonary\", \"Comorbidity_cardiac\", \"Comorbidity_renal\", \"Comorbidity_diabetes\", \"Comorbidity_smoking\", \"Comorbidity_obesity\"]\n",
    "df[comorbidity_cols] = df[comorbidity_cols].replace(\"-\", np.nan).astype(\"category\")"
   ]
  },
  {
   "cell_type": "code",
   "execution_count": 176,
   "id": "60c03db7",
   "metadata": {},
   "outputs": [],
   "source": [
    "df[\"Evolution\"] = df[\"Evolution\"].replace({\"-\": np.nan, \"Ignorado\": np.nan})"
   ]
  },
  {
   "cell_type": "code",
   "execution_count": 177,
   "id": "a7728e0c",
   "metadata": {},
   "outputs": [],
   "source": [
    "df[\"Gender\"] = df[\"Gender\"].replace(\"I\", np.nan)"
   ]
  },
  {
   "cell_type": "code",
   "execution_count": 178,
   "id": "74f72ad7",
   "metadata": {},
   "outputs": [],
   "source": [
    "df[\"Race\"] = df[\"Race\"].replace(\"Ignorado\", np.nan).astype(\"category\")"
   ]
  },
  {
   "cell_type": "code",
   "execution_count": 179,
   "id": "cb398360",
   "metadata": {},
   "outputs": [],
   "source": [
    "dict_pregnant = {\"Ignorado\": np.nan, \n",
    "                 \"Não se aplica\": np.nan, \n",
    "                 \"1º trimeste\": \"Yes\", \n",
    "                 \"2º trimeste\": \"Yes\", \n",
    "                 \"3º trimeste\": \"Yes\", \n",
    "                 \"Idade gestacional ignorada\": \"Yes\"}   \n",
    "df[\"Pregnant\"] = df[\"Pregnant\"].replace(dict_pregnant).astype(\"category\")"
   ]
  },
  {
   "cell_type": "code",
   "execution_count": 180,
   "id": "cd020125",
   "metadata": {},
   "outputs": [],
   "source": [
    "df[[\"Classification\", \"Range_age\"]] = df[[\"Classification\", \"Range_age\"]].astype(\"category\")       "
   ]
  },
  {
   "cell_type": "code",
   "execution_count": 181,
   "id": "13e7f372",
   "metadata": {},
   "outputs": [
    {
     "name": "stdout",
     "output_type": "stream",
     "text": [
      "Result_PCR \n",
      " [NaN, 'Negativo', 'Positivo']\n",
      "Categories (2, object): ['Negativo', 'Positivo'] \n",
      "\n",
      "Result_RapidTest \n",
      " [NaN, 'Negativo', 'Positivo']\n",
      "Categories (2, object): ['Negativo', 'Positivo'] \n",
      "\n",
      "Classification \n",
      " ['Suspeito', 'Descartados', 'Confirmados']\n",
      "Categories (3, object): ['Confirmados', 'Descartados', 'Suspeito'] \n",
      "\n",
      "Hospitalized \n",
      " [NaN, 'Não', 'Sim']\n",
      "Categories (2, object): ['Não', 'Sim'] \n",
      "\n",
      "Evolution \n",
      " [nan 'Cura' 'Óbito por outras causas' 'Óbito pelo COVID-19'] \n",
      "\n",
      "Gender \n",
      " ['M' 'F' nan] \n",
      "\n",
      "Notification_age \n",
      " ['19 anos, 8 meses, 21 dias' '63 anos, 11 meses, 16 dias'\n",
      " '35 anos, 5 meses, 26 dias' ... '94 anos, 7 meses, 7 dias'\n",
      " '99 anos, 7 meses, 26 dias' '97 anos, 2 meses, 2 dias'] \n",
      "\n",
      "Range_age \n",
      " ['10 a 19 anos', '60 a 69 anos', '30 a 39 anos', '0 a 4 anos', '40 a 49 anos', ..., '50 a 59 anos', '80 a 89 anos', '05 a 9 anos', '90 anos ou mais', '-']\n",
      "Length: 12\n",
      "Categories (12, object): ['-', '0 a 4 anos', '05 a 9 anos', '10 a 19 anos', ..., '60 a 69 anos', '70 a 79 anos', '80 a 89 anos', '90 anos ou mais'] \n",
      "\n",
      "Race \n",
      " [NaN, 'Branca', 'Parda', 'Preta', 'Amarela', 'Indigena']\n",
      "Categories (5, object): ['Amarela', 'Branca', 'Indigena', 'Parda', 'Preta'] \n",
      "\n",
      "Pregnant \n",
      " [NaN, 'Não', 'Yes']\n",
      "Categories (2, object): ['Não', 'Yes'] \n",
      "\n",
      "Disabled \n",
      " ['Não', 'Sim', NaN]\n",
      "Categories (2, object): ['Não', 'Sim'] \n",
      "\n",
      "Fever \n",
      " ['Não', 'Sim', NaN]\n",
      "Categories (2, object): ['Não', 'Sim'] \n",
      "\n",
      "Breath_difficulty \n",
      " ['Não', 'Sim', NaN]\n",
      "Categories (2, object): ['Não', 'Sim'] \n",
      "\n",
      "Cough \n",
      " ['Sim', 'Não', NaN]\n",
      "Categories (2, object): ['Não', 'Sim'] \n",
      "\n",
      "Rhinitis \n",
      " ['Sim', 'Não', NaN]\n",
      "Categories (2, object): ['Não', 'Sim'] \n",
      "\n",
      "Throat_pain \n",
      " ['Não', 'Sim', NaN]\n",
      "Categories (2, object): ['Não', 'Sim'] \n",
      "\n",
      "Diarrhea \n",
      " ['Não', 'Sim', NaN]\n",
      "Categories (2, object): ['Não', 'Sim'] \n",
      "\n",
      "Headache \n",
      " ['Não', 'Sim', NaN]\n",
      "Categories (2, object): ['Não', 'Sim'] \n",
      "\n",
      "Comorbidity_pulmonary \n",
      " ['Não', 'Sim', NaN]\n",
      "Categories (2, object): ['Não', 'Sim'] \n",
      "\n",
      "Comorbidity_cardiac \n",
      " ['Não', 'Sim', NaN]\n",
      "Categories (2, object): ['Não', 'Sim'] \n",
      "\n",
      "Comorbidity_renal \n",
      " ['Não', 'Sim', NaN]\n",
      "Categories (2, object): ['Não', 'Sim'] \n",
      "\n",
      "Comorbidity_diabetes \n",
      " ['Não', 'Sim', NaN]\n",
      "Categories (2, object): ['Não', 'Sim'] \n",
      "\n",
      "Comorbidity_smoking \n",
      " ['Não', 'Sim', NaN]\n",
      "Categories (2, object): ['Não', 'Sim'] \n",
      "\n",
      "Comorbidity_obesity \n",
      " ['Não', 'Sim', NaN]\n",
      "Categories (2, object): ['Não', 'Sim'] \n",
      "\n"
     ]
    }
   ],
   "source": [
    "categoricals(df)"
   ]
  },
  {
   "cell_type": "markdown",
   "id": "53904189",
   "metadata": {},
   "source": [
    "Now there is a better interpretation of how many null values the dataset has."
   ]
  },
  {
   "cell_type": "code",
   "execution_count": 182,
   "id": "5394a30d",
   "metadata": {},
   "outputs": [
    {
     "data": {
      "text/plain": [
       "Death_date               99.21\n",
       "Evolution                72.34\n",
       "Result_PCR               60.98\n",
       "Hospitalized             60.07\n",
       "Result_RapidTest         54.71\n",
       "Pregnant                 46.15\n",
       "Race                     25.40\n",
       "Disabled                  1.38\n",
       "Comorbidity_obesity       0.12\n",
       "Comorbidity_cardiac       0.09\n",
       "Comorbidity_smoking       0.09\n",
       "Comorbidity_diabetes      0.09\n",
       "Comorbidity_pulmonary     0.09\n",
       "Comorbidity_renal         0.08\n",
       "Headache                  0.08\n",
       "Throat_pain               0.07\n",
       "Fever                     0.07\n",
       "Cough                     0.07\n",
       "Rhinitis                  0.07\n",
       "Diarrhea                  0.07\n",
       "Breath_difficulty         0.06\n",
       "Gender                    0.03\n",
       "Notification_age          0.00\n",
       "Range_age                 0.00\n",
       "Diagnosis_date            0.00\n",
       "Classification            0.00\n",
       "Register_date             0.00\n",
       "dtype: float64"
      ]
     },
     "execution_count": 182,
     "metadata": {},
     "output_type": "execute_result"
    }
   ],
   "source": [
    "((df.isnull().sum() / df.shape[0]) * 100).round(2).sort_values(ascending = False)"
   ]
  },
  {
   "cell_type": "markdown",
   "id": "fe25f2ee",
   "metadata": {},
   "source": [
    "- Eliminating those patients who have more or equal than 2 `comorbidities = np.nan`.\n",
    "\n",
    "- Proceed in the same way with `symptoms`."
   ]
  },
  {
   "cell_type": "code",
   "execution_count": 183,
   "id": "7a7e3a23",
   "metadata": {},
   "outputs": [],
   "source": [
    "df = df.dropna(subset = \"Gender\")"
   ]
  },
  {
   "cell_type": "code",
   "execution_count": 184,
   "id": "61734190",
   "metadata": {},
   "outputs": [],
   "source": [
    "df = df.dropna(subset = comorbidity_cols, thresh = 5)"
   ]
  },
  {
   "cell_type": "code",
   "execution_count": 185,
   "id": "f2aa5370",
   "metadata": {},
   "outputs": [],
   "source": [
    "df = df.dropna(subset = symptoms_cols, thresh = 5)"
   ]
  },
  {
   "cell_type": "markdown",
   "id": "36a3dfab",
   "metadata": {},
   "source": [
    "Understanding `Classification` column before removing their null values."
   ]
  },
  {
   "cell_type": "code",
   "execution_count": 186,
   "id": "9bc083b4",
   "metadata": {},
   "outputs": [
    {
     "data": {
      "image/png": "[encoded data removed]",
      "text/plain": [
       "<Figure size 576x576 with 1 Axes>"
      ]
     },
     "metadata": {},
     "output_type": "display_data"
    }
   ],
   "source": [
    "plt.style.use(\"seaborn-white\")\n",
    "sns.set_palette(\"vlag\")\n",
    "fig, ax = plt.subplots(figsize = (8, 8))\n",
    "\n",
    "classification_porportions = df[\"Classification\"].value_counts(normalize = True).sort_values().round(2) * 100\n",
    "\n",
    "colors = [\"lemonchiffon\", \"darkkhaki\" ,\"olive\"]\n",
    "ax.bar(classification_porportions.index, classification_porportions, color = colors,edgecolor = \"black\")\n",
    "\n",
    "plt.xticks(ticks = [\"Confirmados\", \"Descartados\", \"Suspeito\"], labels = [\"Confirmed\", \"Discarded\", \"Suspect\"], fontsize = 18)\n",
    "plt.ylabel(\"Proportion (%)\", fontsize = 18)\n",
    "plt.yticks(fontsize = 18)\n",
    "plt.title(\"Proportion of categories column 'Classification'\", fontsize = 20)\n",
    "plt.ylim(0, 100)\n",
    "\n",
    "plt.show()"
   ]
  },
  {
   "cell_type": "code",
   "execution_count": 187,
   "id": "b9fad2fc",
   "metadata": {},
   "outputs": [],
   "source": [
    "df = df.dropna(subset = \"Evolution\")"
   ]
  },
  {
   "cell_type": "code",
   "execution_count": 188,
   "id": "c313d927",
   "metadata": {},
   "outputs": [
    {
     "data": {
      "image/png": "[encoded data removed]",
      "text/plain": [
       "<Figure size 576x576 with 1 Axes>"
      ]
     },
     "metadata": {},
     "output_type": "display_data"
    }
   ],
   "source": [
    "plt.style.use(\"seaborn-white\")\n",
    "sns.set_palette(\"vlag\")\n",
    "fig, ax = plt.subplots(figsize = (8, 8))\n",
    "\n",
    "classification_porportions = df[\"Classification\"].value_counts(normalize = True).sort_values().round(2) * 100\n",
    "\n",
    "colors = [\"lemonchiffon\", \"darkkhaki\" ,\"olive\"]\n",
    "ax.bar(classification_porportions.index, classification_porportions, color = colors,edgecolor = \"black\")\n",
    "\n",
    "plt.ylabel(\"Proportion (%)\", fontsize = 18)\n",
    "plt.yticks(fontsize = 18)\n",
    "plt.xticks(ticks = [\"Confirmados\", \"Descartados\", \"Suspeito\"], labels = [\"Confirmed\", \"Discarded\", \"Suspect\"], fontsize = 18)\n",
    "plt.title(\"Proportion of categories column 'Classification'\", fontsize = 20)\n",
    "plt.ylim(0, 100)\n",
    "\n",
    "plt.show()"
   ]
  },
  {
   "cell_type": "markdown",
   "id": "dd6ea6b2",
   "metadata": {},
   "source": [
    "- It makes sense because only the evolution of patients who have positive for covid was recorded. \n",
    "- Those that were suspected and discarded have no evolution."
   ]
  },
  {
   "cell_type": "code",
   "execution_count": 189,
   "id": "6ae5b754",
   "metadata": {},
   "outputs": [
    {
     "data": {
      "text/plain": [
       "Death_date               97.18\n",
       "Result_PCR               60.60\n",
       "Hospitalized             55.21\n",
       "Pregnant                 46.71\n",
       "Result_RapidTest         43.64\n",
       "Race                     24.25\n",
       "Disabled                  1.18\n",
       "Comorbidity_obesity       0.04\n",
       "Throat_pain               0.01\n",
       "Comorbidity_cardiac       0.01\n",
       "Fever                     0.01\n",
       "Comorbidity_pulmonary     0.01\n",
       "Headache                  0.01\n",
       "Gender                    0.00\n",
       "Comorbidity_smoking       0.00\n",
       "Comorbidity_diabetes      0.00\n",
       "Comorbidity_renal         0.00\n",
       "Diarrhea                  0.00\n",
       "Rhinitis                  0.00\n",
       "Notification_age          0.00\n",
       "Cough                     0.00\n",
       "Breath_difficulty         0.00\n",
       "Diagnosis_date            0.00\n",
       "Classification            0.00\n",
       "Evolution                 0.00\n",
       "Range_age                 0.00\n",
       "Register_date             0.00\n",
       "dtype: float64"
      ]
     },
     "execution_count": 189,
     "metadata": {},
     "output_type": "execute_result"
    }
   ],
   "source": [
    "((df.isnull().sum() / df.shape[0]) * 100).round(2).sort_values(ascending = False)"
   ]
  },
  {
   "cell_type": "markdown",
   "id": "e81d7ecd",
   "metadata": {},
   "source": [
    "Null treatment `pregnant`:"
   ]
  },
  {
   "cell_type": "code",
   "execution_count": 190,
   "id": "6a2bff8a",
   "metadata": {},
   "outputs": [
    {
     "data": {
      "text/plain": [
       "array(['F', 'M'], dtype=object)"
      ]
     },
     "execution_count": 190,
     "metadata": {},
     "output_type": "execute_result"
    }
   ],
   "source": [
    "df[\"Gender\"].unique()"
   ]
  },
  {
   "cell_type": "code",
   "execution_count": 191,
   "id": "3230e417",
   "metadata": {},
   "outputs": [
    {
     "data": {
      "text/html": [
       "<div>\n",
       "<style scoped>\n",
       "    .dataframe tbody tr th:only-of-type {\n",
       "        vertical-align: middle;\n",
       "    }\n",
       "\n",
       "    .dataframe tbody tr th {\n",
       "        vertical-align: top;\n",
       "    }\n",
       "\n",
       "    .dataframe thead th {\n",
       "        text-align: right;\n",
       "    }\n",
       "</style>\n",
       "<table border=\"1\" class=\"dataframe\">\n",
       "  <thead>\n",
       "    <tr style=\"text-align: right;\">\n",
       "      <th></th>\n",
       "      <th>Gender</th>\n",
       "      <th>Pregnant</th>\n",
       "    </tr>\n",
       "  </thead>\n",
       "  <tbody>\n",
       "    <tr>\n",
       "      <th>200588</th>\n",
       "      <td>M</td>\n",
       "      <td>Yes</td>\n",
       "    </tr>\n",
       "    <tr>\n",
       "      <th>296973</th>\n",
       "      <td>M</td>\n",
       "      <td>Yes</td>\n",
       "    </tr>\n",
       "    <tr>\n",
       "      <th>1180319</th>\n",
       "      <td>M</td>\n",
       "      <td>Yes</td>\n",
       "    </tr>\n",
       "    <tr>\n",
       "      <th>1365060</th>\n",
       "      <td>M</td>\n",
       "      <td>Yes</td>\n",
       "    </tr>\n",
       "    <tr>\n",
       "      <th>1479271</th>\n",
       "      <td>M</td>\n",
       "      <td>Yes</td>\n",
       "    </tr>\n",
       "    <tr>\n",
       "      <th>1839551</th>\n",
       "      <td>M</td>\n",
       "      <td>Yes</td>\n",
       "    </tr>\n",
       "    <tr>\n",
       "      <th>1847128</th>\n",
       "      <td>M</td>\n",
       "      <td>Yes</td>\n",
       "    </tr>\n",
       "  </tbody>\n",
       "</table>\n",
       "</div>"
      ],
      "text/plain": [
       "        Gender Pregnant\n",
       "200588       M      Yes\n",
       "296973       M      Yes\n",
       "1180319      M      Yes\n",
       "1365060      M      Yes\n",
       "1479271      M      Yes\n",
       "1839551      M      Yes\n",
       "1847128      M      Yes"
      ]
     },
     "execution_count": 191,
     "metadata": {},
     "output_type": "execute_result"
    }
   ],
   "source": [
    "mask_M = df[\"Gender\"] == \"M\"\n",
    "mask_pregnant = df[\"Pregnant\"] == \"Yes\"\n",
    "df[mask_M  & mask_pregnant][[\"Gender\", \"Pregnant\"]]"
   ]
  },
  {
   "cell_type": "markdown",
   "id": "3f5155db",
   "metadata": {},
   "source": [
    "Clearly there can be no pregnant men, it is replaced by `np.nan`."
   ]
  },
  {
   "cell_type": "code",
   "execution_count": 192,
   "id": "a445daf7",
   "metadata": {},
   "outputs": [],
   "source": [
    "df.loc[mask_M  & mask_pregnant, \"Pregnant\"] = np.nan"
   ]
  },
  {
   "cell_type": "code",
   "execution_count": 193,
   "id": "e50ebcbb",
   "metadata": {},
   "outputs": [
    {
     "data": {
      "text/html": [
       "<div>\n",
       "<style scoped>\n",
       "    .dataframe tbody tr th:only-of-type {\n",
       "        vertical-align: middle;\n",
       "    }\n",
       "\n",
       "    .dataframe tbody tr th {\n",
       "        vertical-align: top;\n",
       "    }\n",
       "\n",
       "    .dataframe thead th {\n",
       "        text-align: right;\n",
       "    }\n",
       "</style>\n",
       "<table border=\"1\" class=\"dataframe\">\n",
       "  <thead>\n",
       "    <tr style=\"text-align: right;\">\n",
       "      <th></th>\n",
       "      <th>Gender</th>\n",
       "      <th>Pregnant</th>\n",
       "    </tr>\n",
       "  </thead>\n",
       "  <tbody>\n",
       "  </tbody>\n",
       "</table>\n",
       "</div>"
      ],
      "text/plain": [
       "Empty DataFrame\n",
       "Columns: [Gender, Pregnant]\n",
       "Index: []"
      ]
     },
     "execution_count": 193,
     "metadata": {},
     "output_type": "execute_result"
    }
   ],
   "source": [
    "mask_M = df[\"Gender\"] == \"M\"\n",
    "mask_pregnant = df[\"Pregnant\"] == \"Yes\"\n",
    "df[mask_M  & mask_pregnant][[\"Gender\", \"Pregnant\"]]"
   ]
  },
  {
   "cell_type": "markdown",
   "id": "5ca3a88e",
   "metadata": {},
   "source": [
    "Let's see how many nulls there are in the female sex."
   ]
  },
  {
   "cell_type": "code",
   "execution_count": 194,
   "id": "47b5fcad",
   "metadata": {},
   "outputs": [
    {
     "data": {
      "text/html": [
       "<div>\n",
       "<style scoped>\n",
       "    .dataframe tbody tr th:only-of-type {\n",
       "        vertical-align: middle;\n",
       "    }\n",
       "\n",
       "    .dataframe tbody tr th {\n",
       "        vertical-align: top;\n",
       "    }\n",
       "\n",
       "    .dataframe thead th {\n",
       "        text-align: right;\n",
       "    }\n",
       "</style>\n",
       "<table border=\"1\" class=\"dataframe\">\n",
       "  <thead>\n",
       "    <tr style=\"text-align: right;\">\n",
       "      <th></th>\n",
       "      <th>Register_date</th>\n",
       "      <th>Diagnosis_date</th>\n",
       "      <th>Death_date</th>\n",
       "      <th>Result_PCR</th>\n",
       "      <th>Result_RapidTest</th>\n",
       "      <th>Classification</th>\n",
       "      <th>Hospitalized</th>\n",
       "      <th>Evolution</th>\n",
       "      <th>Gender</th>\n",
       "      <th>Notification_age</th>\n",
       "      <th>...</th>\n",
       "      <th>Rhinitis</th>\n",
       "      <th>Throat_pain</th>\n",
       "      <th>Diarrhea</th>\n",
       "      <th>Headache</th>\n",
       "      <th>Comorbidity_pulmonary</th>\n",
       "      <th>Comorbidity_cardiac</th>\n",
       "      <th>Comorbidity_renal</th>\n",
       "      <th>Comorbidity_diabetes</th>\n",
       "      <th>Comorbidity_smoking</th>\n",
       "      <th>Comorbidity_obesity</th>\n",
       "    </tr>\n",
       "  </thead>\n",
       "  <tbody>\n",
       "    <tr>\n",
       "      <th>35372</th>\n",
       "      <td>2021-10-29</td>\n",
       "      <td>2021-10-15</td>\n",
       "      <td>NaN</td>\n",
       "      <td>Positivo</td>\n",
       "      <td>NaN</td>\n",
       "      <td>Confirmados</td>\n",
       "      <td>NaN</td>\n",
       "      <td>Cura</td>\n",
       "      <td>F</td>\n",
       "      <td>35 anos, 1 meses, 25 dias</td>\n",
       "      <td>...</td>\n",
       "      <td>Sim</td>\n",
       "      <td>Sim</td>\n",
       "      <td>Não</td>\n",
       "      <td>Não</td>\n",
       "      <td>Não</td>\n",
       "      <td>Não</td>\n",
       "      <td>Não</td>\n",
       "      <td>Não</td>\n",
       "      <td>Não</td>\n",
       "      <td>Não</td>\n",
       "    </tr>\n",
       "    <tr>\n",
       "      <th>36357</th>\n",
       "      <td>2021-10-29</td>\n",
       "      <td>2021-10-25</td>\n",
       "      <td>NaN</td>\n",
       "      <td>Positivo</td>\n",
       "      <td>NaN</td>\n",
       "      <td>Confirmados</td>\n",
       "      <td>NaN</td>\n",
       "      <td>Cura</td>\n",
       "      <td>F</td>\n",
       "      <td>33 anos, 11 meses, 6 dias</td>\n",
       "      <td>...</td>\n",
       "      <td>Não</td>\n",
       "      <td>Não</td>\n",
       "      <td>Não</td>\n",
       "      <td>Não</td>\n",
       "      <td>Não</td>\n",
       "      <td>Não</td>\n",
       "      <td>Não</td>\n",
       "      <td>Não</td>\n",
       "      <td>Não</td>\n",
       "      <td>Não</td>\n",
       "    </tr>\n",
       "    <tr>\n",
       "      <th>37937</th>\n",
       "      <td>2021-10-29</td>\n",
       "      <td>2021-10-25</td>\n",
       "      <td>NaN</td>\n",
       "      <td>Positivo</td>\n",
       "      <td>NaN</td>\n",
       "      <td>Confirmados</td>\n",
       "      <td>NaN</td>\n",
       "      <td>Cura</td>\n",
       "      <td>F</td>\n",
       "      <td>42 anos, 9 meses, 1 dias</td>\n",
       "      <td>...</td>\n",
       "      <td>Sim</td>\n",
       "      <td>Sim</td>\n",
       "      <td>Não</td>\n",
       "      <td>Sim</td>\n",
       "      <td>Não</td>\n",
       "      <td>Não</td>\n",
       "      <td>Não</td>\n",
       "      <td>Não</td>\n",
       "      <td>Não</td>\n",
       "      <td>Não</td>\n",
       "    </tr>\n",
       "    <tr>\n",
       "      <th>43179</th>\n",
       "      <td>2021-10-27</td>\n",
       "      <td>2021-10-24</td>\n",
       "      <td>NaN</td>\n",
       "      <td>Positivo</td>\n",
       "      <td>NaN</td>\n",
       "      <td>Confirmados</td>\n",
       "      <td>NaN</td>\n",
       "      <td>Cura</td>\n",
       "      <td>F</td>\n",
       "      <td>38 anos, 9 meses, 30 dias</td>\n",
       "      <td>...</td>\n",
       "      <td>Sim</td>\n",
       "      <td>Não</td>\n",
       "      <td>Sim</td>\n",
       "      <td>Não</td>\n",
       "      <td>Não</td>\n",
       "      <td>Não</td>\n",
       "      <td>Não</td>\n",
       "      <td>Não</td>\n",
       "      <td>Não</td>\n",
       "      <td>Não</td>\n",
       "    </tr>\n",
       "    <tr>\n",
       "      <th>54585</th>\n",
       "      <td>2021-10-25</td>\n",
       "      <td>2021-10-22</td>\n",
       "      <td>NaN</td>\n",
       "      <td>Positivo</td>\n",
       "      <td>NaN</td>\n",
       "      <td>Confirmados</td>\n",
       "      <td>NaN</td>\n",
       "      <td>Cura</td>\n",
       "      <td>F</td>\n",
       "      <td>41 anos, 5 meses, 25 dias</td>\n",
       "      <td>...</td>\n",
       "      <td>Não</td>\n",
       "      <td>Não</td>\n",
       "      <td>Não</td>\n",
       "      <td>Não</td>\n",
       "      <td>Não</td>\n",
       "      <td>Não</td>\n",
       "      <td>Não</td>\n",
       "      <td>Não</td>\n",
       "      <td>Não</td>\n",
       "      <td>Não</td>\n",
       "    </tr>\n",
       "    <tr>\n",
       "      <th>...</th>\n",
       "      <td>...</td>\n",
       "      <td>...</td>\n",
       "      <td>...</td>\n",
       "      <td>...</td>\n",
       "      <td>...</td>\n",
       "      <td>...</td>\n",
       "      <td>...</td>\n",
       "      <td>...</td>\n",
       "      <td>...</td>\n",
       "      <td>...</td>\n",
       "      <td>...</td>\n",
       "      <td>...</td>\n",
       "      <td>...</td>\n",
       "      <td>...</td>\n",
       "      <td>...</td>\n",
       "      <td>...</td>\n",
       "      <td>...</td>\n",
       "      <td>...</td>\n",
       "      <td>...</td>\n",
       "      <td>...</td>\n",
       "      <td>...</td>\n",
       "    </tr>\n",
       "    <tr>\n",
       "      <th>2207644</th>\n",
       "      <td>2020-04-01</td>\n",
       "      <td>2020-03-29</td>\n",
       "      <td>NaN</td>\n",
       "      <td>Positivo</td>\n",
       "      <td>Positivo</td>\n",
       "      <td>Confirmados</td>\n",
       "      <td>Não</td>\n",
       "      <td>Cura</td>\n",
       "      <td>F</td>\n",
       "      <td>42 anos, 0 meses, 10 dias</td>\n",
       "      <td>...</td>\n",
       "      <td>Sim</td>\n",
       "      <td>Não</td>\n",
       "      <td>Não</td>\n",
       "      <td>Não</td>\n",
       "      <td>Não</td>\n",
       "      <td>Não</td>\n",
       "      <td>Não</td>\n",
       "      <td>Não</td>\n",
       "      <td>Não</td>\n",
       "      <td>Não</td>\n",
       "    </tr>\n",
       "    <tr>\n",
       "      <th>2207728</th>\n",
       "      <td>2020-04-01</td>\n",
       "      <td>2020-03-22</td>\n",
       "      <td>NaN</td>\n",
       "      <td>NaN</td>\n",
       "      <td>Positivo</td>\n",
       "      <td>Confirmados</td>\n",
       "      <td>Não</td>\n",
       "      <td>Cura</td>\n",
       "      <td>F</td>\n",
       "      <td>60 anos, 4 meses, 13 dias</td>\n",
       "      <td>...</td>\n",
       "      <td>Não</td>\n",
       "      <td>Não</td>\n",
       "      <td>Não</td>\n",
       "      <td>Não</td>\n",
       "      <td>Não</td>\n",
       "      <td>Não</td>\n",
       "      <td>Não</td>\n",
       "      <td>Não</td>\n",
       "      <td>Não</td>\n",
       "      <td>Não</td>\n",
       "    </tr>\n",
       "    <tr>\n",
       "      <th>2207755</th>\n",
       "      <td>2020-04-01</td>\n",
       "      <td>2020-03-17</td>\n",
       "      <td>NaN</td>\n",
       "      <td>NaN</td>\n",
       "      <td>Positivo</td>\n",
       "      <td>Confirmados</td>\n",
       "      <td>Não</td>\n",
       "      <td>Cura</td>\n",
       "      <td>F</td>\n",
       "      <td>38 anos, 2 meses, 18 dias</td>\n",
       "      <td>...</td>\n",
       "      <td>Sim</td>\n",
       "      <td>Sim</td>\n",
       "      <td>Não</td>\n",
       "      <td>Sim</td>\n",
       "      <td>Não</td>\n",
       "      <td>Não</td>\n",
       "      <td>Não</td>\n",
       "      <td>Não</td>\n",
       "      <td>Não</td>\n",
       "      <td>Não</td>\n",
       "    </tr>\n",
       "    <tr>\n",
       "      <th>2207778</th>\n",
       "      <td>2020-03-31</td>\n",
       "      <td>2020-03-30</td>\n",
       "      <td>2020-04-28</td>\n",
       "      <td>NaN</td>\n",
       "      <td>Negativo</td>\n",
       "      <td>Descartados</td>\n",
       "      <td>Sim</td>\n",
       "      <td>Óbito por outras causas</td>\n",
       "      <td>F</td>\n",
       "      <td>88 anos, 10 meses, 17 dias</td>\n",
       "      <td>...</td>\n",
       "      <td>Não</td>\n",
       "      <td>Não</td>\n",
       "      <td>Não</td>\n",
       "      <td>Não</td>\n",
       "      <td>Não</td>\n",
       "      <td>Não</td>\n",
       "      <td>Não</td>\n",
       "      <td>Não</td>\n",
       "      <td>Não</td>\n",
       "      <td>Não</td>\n",
       "    </tr>\n",
       "    <tr>\n",
       "      <th>2208958</th>\n",
       "      <td>2020-04-14</td>\n",
       "      <td>2020-03-12</td>\n",
       "      <td>NaN</td>\n",
       "      <td>NaN</td>\n",
       "      <td>Positivo</td>\n",
       "      <td>Confirmados</td>\n",
       "      <td>Não</td>\n",
       "      <td>Cura</td>\n",
       "      <td>F</td>\n",
       "      <td>31 anos, 7 meses, 5 dias</td>\n",
       "      <td>...</td>\n",
       "      <td>Sim</td>\n",
       "      <td>Sim</td>\n",
       "      <td>Não</td>\n",
       "      <td>Não</td>\n",
       "      <td>Não</td>\n",
       "      <td>Sim</td>\n",
       "      <td>Não</td>\n",
       "      <td>Sim</td>\n",
       "      <td>Não</td>\n",
       "      <td>Não</td>\n",
       "    </tr>\n",
       "  </tbody>\n",
       "</table>\n",
       "<p>2576 rows × 27 columns</p>\n",
       "</div>"
      ],
      "text/plain": [
       "        Register_date Diagnosis_date  Death_date Result_PCR Result_RapidTest  \\\n",
       "35372      2021-10-29     2021-10-15         NaN   Positivo              NaN   \n",
       "36357      2021-10-29     2021-10-25         NaN   Positivo              NaN   \n",
       "37937      2021-10-29     2021-10-25         NaN   Positivo              NaN   \n",
       "43179      2021-10-27     2021-10-24         NaN   Positivo              NaN   \n",
       "54585      2021-10-25     2021-10-22         NaN   Positivo              NaN   \n",
       "...               ...            ...         ...        ...              ...   \n",
       "2207644    2020-04-01     2020-03-29         NaN   Positivo         Positivo   \n",
       "2207728    2020-04-01     2020-03-22         NaN        NaN         Positivo   \n",
       "2207755    2020-04-01     2020-03-17         NaN        NaN         Positivo   \n",
       "2207778    2020-03-31     2020-03-30  2020-04-28        NaN         Negativo   \n",
       "2208958    2020-04-14     2020-03-12         NaN        NaN         Positivo   \n",
       "\n",
       "        Classification Hospitalized                Evolution Gender  \\\n",
       "35372      Confirmados          NaN                     Cura      F   \n",
       "36357      Confirmados          NaN                     Cura      F   \n",
       "37937      Confirmados          NaN                     Cura      F   \n",
       "43179      Confirmados          NaN                     Cura      F   \n",
       "54585      Confirmados          NaN                     Cura      F   \n",
       "...                ...          ...                      ...    ...   \n",
       "2207644    Confirmados          Não                     Cura      F   \n",
       "2207728    Confirmados          Não                     Cura      F   \n",
       "2207755    Confirmados          Não                     Cura      F   \n",
       "2207778    Descartados          Sim  Óbito por outras causas      F   \n",
       "2208958    Confirmados          Não                     Cura      F   \n",
       "\n",
       "                   Notification_age  ... Rhinitis Throat_pain Diarrhea  \\\n",
       "35372     35 anos, 1 meses, 25 dias  ...      Sim         Sim      Não   \n",
       "36357     33 anos, 11 meses, 6 dias  ...      Não         Não      Não   \n",
       "37937      42 anos, 9 meses, 1 dias  ...      Sim         Sim      Não   \n",
       "43179     38 anos, 9 meses, 30 dias  ...      Sim         Não      Sim   \n",
       "54585     41 anos, 5 meses, 25 dias  ...      Não         Não      Não   \n",
       "...                             ...  ...      ...         ...      ...   \n",
       "2207644   42 anos, 0 meses, 10 dias  ...      Sim         Não      Não   \n",
       "2207728   60 anos, 4 meses, 13 dias  ...      Não         Não      Não   \n",
       "2207755   38 anos, 2 meses, 18 dias  ...      Sim         Sim      Não   \n",
       "2207778  88 anos, 10 meses, 17 dias  ...      Não         Não      Não   \n",
       "2208958    31 anos, 7 meses, 5 dias  ...      Sim         Sim      Não   \n",
       "\n",
       "        Headache Comorbidity_pulmonary Comorbidity_cardiac Comorbidity_renal  \\\n",
       "35372        Não                   Não                 Não               Não   \n",
       "36357        Não                   Não                 Não               Não   \n",
       "37937        Sim                   Não                 Não               Não   \n",
       "43179        Não                   Não                 Não               Não   \n",
       "54585        Não                   Não                 Não               Não   \n",
       "...          ...                   ...                 ...               ...   \n",
       "2207644      Não                   Não                 Não               Não   \n",
       "2207728      Não                   Não                 Não               Não   \n",
       "2207755      Sim                   Não                 Não               Não   \n",
       "2207778      Não                   Não                 Não               Não   \n",
       "2208958      Não                   Não                 Sim               Não   \n",
       "\n",
       "        Comorbidity_diabetes Comorbidity_smoking Comorbidity_obesity  \n",
       "35372                    Não                 Não                 Não  \n",
       "36357                    Não                 Não                 Não  \n",
       "37937                    Não                 Não                 Não  \n",
       "43179                    Não                 Não                 Não  \n",
       "54585                    Não                 Não                 Não  \n",
       "...                      ...                 ...                 ...  \n",
       "2207644                  Não                 Não                 Não  \n",
       "2207728                  Não                 Não                 Não  \n",
       "2207755                  Não                 Não                 Não  \n",
       "2207778                  Não                 Não                 Não  \n",
       "2208958                  Sim                 Não                 Não  \n",
       "\n",
       "[2576 rows x 27 columns]"
      ]
     },
     "execution_count": 194,
     "metadata": {},
     "output_type": "execute_result"
    }
   ],
   "source": [
    "mask_F = df[\"Gender\"] == \"F\"\n",
    "mask_pregnant_null = df[\"Pregnant\"].isna()\n",
    "\n",
    "df[mask_F & mask_pregnant_null]"
   ]
  },
  {
   "cell_type": "code",
   "execution_count": 195,
   "id": "bf389de9",
   "metadata": {},
   "outputs": [
    {
     "name": "stdout",
     "output_type": "stream",
     "text": [
      "When the 'pregnant' column is selected there are only 2576 (0.42%) nulls.\n"
     ]
    }
   ],
   "source": [
    "pregnant_null_abs = df[mask_F & mask_pregnant_null].shape[0]\n",
    "pregnant_null_pct = np.round((df[mask_F & mask_pregnant_null].shape[0] / df.shape[0] * 100), 2)\n",
    "print(f\"When the 'pregnant' column is selected there are only {pregnant_null_abs} ({pregnant_null_pct}%) nulls.\")"
   ]
  },
  {
   "cell_type": "markdown",
   "id": "0ead7959",
   "metadata": {},
   "source": [
    "Let's see what happens to the nulls in `Death_date`:"
   ]
  },
  {
   "cell_type": "code",
   "execution_count": 196,
   "id": "80d64ed4",
   "metadata": {},
   "outputs": [
    {
     "data": {
      "text/html": [
       "<div>\n",
       "<style scoped>\n",
       "    .dataframe tbody tr th:only-of-type {\n",
       "        vertical-align: middle;\n",
       "    }\n",
       "\n",
       "    .dataframe tbody tr th {\n",
       "        vertical-align: top;\n",
       "    }\n",
       "\n",
       "    .dataframe thead th {\n",
       "        text-align: right;\n",
       "    }\n",
       "</style>\n",
       "<table border=\"1\" class=\"dataframe\">\n",
       "  <thead>\n",
       "    <tr style=\"text-align: right;\">\n",
       "      <th></th>\n",
       "      <th>Evolution</th>\n",
       "      <th>Death_date</th>\n",
       "    </tr>\n",
       "  </thead>\n",
       "  <tbody>\n",
       "    <tr>\n",
       "      <th>1440</th>\n",
       "      <td>Cura</td>\n",
       "      <td>NaN</td>\n",
       "    </tr>\n",
       "    <tr>\n",
       "      <th>2233</th>\n",
       "      <td>Cura</td>\n",
       "      <td>NaN</td>\n",
       "    </tr>\n",
       "  </tbody>\n",
       "</table>\n",
       "</div>"
      ],
      "text/plain": [
       "     Evolution Death_date\n",
       "1440      Cura        NaN\n",
       "2233      Cura        NaN"
      ]
     },
     "execution_count": 196,
     "metadata": {},
     "output_type": "execute_result"
    }
   ],
   "source": [
    "df_covid_evolution = df[[\"Evolution\", \"Death_date\"]]\n",
    "df_covid_evolution.head(2)"
   ]
  },
  {
   "cell_type": "code",
   "execution_count": 197,
   "id": "98d32e3a",
   "metadata": {},
   "outputs": [
    {
     "data": {
      "text/plain": [
       "(17259, 2)"
      ]
     },
     "execution_count": 197,
     "metadata": {},
     "output_type": "execute_result"
    }
   ],
   "source": [
    "mask_death_covid_evol = df_covid_evolution[\"Evolution\"] == \"Óbito pelo COVID-19\" # Death because Covid-19\n",
    "mask_death_others_evol = df_covid_evolution[\"Evolution\"] == \"Óbito por outras causas\" # Death beacuse other circumstances\n",
    "\n",
    "df_covid_death_evol = df_covid_evolution[mask_death_covid_evol | mask_death_others_evol]\n",
    "df_covid_death_evol.shape"
   ]
  },
  {
   "cell_type": "code",
   "execution_count": 198,
   "id": "e251303e",
   "metadata": {},
   "outputs": [
    {
     "data": {
      "text/plain": [
       "86"
      ]
     },
     "execution_count": 198,
     "metadata": {},
     "output_type": "execute_result"
    }
   ],
   "source": [
    "df_covid_death_evol[\"Death_date\"].isna().sum()"
   ]
  },
  {
   "cell_type": "markdown",
   "id": "5b32b91b",
   "metadata": {},
   "source": [
    "`death_date` only has 86 nulls, the rest are nulls because the patients did not die."
   ]
  },
  {
   "cell_type": "markdown",
   "id": "912f5973",
   "metadata": {},
   "source": [
    "- Although `Result_PCR` and  `Result_RapidTest` have a high proportion of nulls, we will only use these columns for a brief isolated description later.\n",
    "- The translation into English of the variables is carried out."
   ]
  },
  {
   "cell_type": "code",
   "execution_count": 199,
   "id": "149ce5a0",
   "metadata": {},
   "outputs": [],
   "source": [
    "df[[\"Result_PCR\", \"Result_RapidTest\"]] = df[[\"Result_PCR\", \"Result_RapidTest\"]].replace({\"Positivo\": \"Positive\", \"Negativo\": \"Negative\"}) "
   ]
  },
  {
   "cell_type": "code",
   "execution_count": 200,
   "id": "d0989544",
   "metadata": {},
   "outputs": [],
   "source": [
    "df[symptoms_cols] = df[symptoms_cols].replace({\"Não\": \"No\", \"Sim\": \"Yes\"})"
   ]
  },
  {
   "cell_type": "code",
   "execution_count": 201,
   "id": "a4c54344",
   "metadata": {},
   "outputs": [],
   "source": [
    "df[comorbidity_cols] = df[comorbidity_cols].replace({\"Não\": \"No\", \"Sim\": \"Yes\"})"
   ]
  },
  {
   "cell_type": "code",
   "execution_count": 202,
   "id": "b617df84",
   "metadata": {},
   "outputs": [],
   "source": [
    "df[\"Hospitalized\"] = df[\"Hospitalized\"].replace({\"Não\": \"No\", \"Sim\": \"Yes\"})"
   ]
  },
  {
   "cell_type": "code",
   "execution_count": 203,
   "id": "5adf679c",
   "metadata": {},
   "outputs": [],
   "source": [
    "df[\"Classification\"] = df[\"Classification\"].replace({\"Confirmados\": \"Confirmed\", \"Descartados\": \"Discarded\", \"Suspeito\": \"Suspect\"})"
   ]
  },
  {
   "cell_type": "code",
   "execution_count": 204,
   "id": "4ba836a5",
   "metadata": {},
   "outputs": [],
   "source": [
    "df[\"Evolution\"] = df[\"Evolution\"].replace({\"Cura\": \"Cured\", \"Óbito por outras causas\": \"Death\", \"Óbito pelo COVID-19\": \"Death\"})"
   ]
  },
  {
   "cell_type": "code",
   "execution_count": 205,
   "id": "1663dab0",
   "metadata": {},
   "outputs": [],
   "source": [
    "df[\"Gender\"] = df[\"Gender\"].replace({\"M\": \"Masculine\", \"F\": \"Femenine\"})"
   ]
  },
  {
   "cell_type": "code",
   "execution_count": 206,
   "id": "6c64e993",
   "metadata": {},
   "outputs": [],
   "source": [
    "df[\"Race\"] = df[\"Race\"].replace({\"Parda\": \"Brown\", \"Branca\": \"White\", \"Preta\": \"Black\", \"Amarela\": \"Yellow\", \"Indigena\": \"Indigenous\"})"
   ]
  },
  {
   "cell_type": "code",
   "execution_count": 207,
   "id": "4b8a52b7",
   "metadata": {},
   "outputs": [],
   "source": [
    "df[\"Pregnant\"] = df[\"Pregnant\"].replace({\"Não\": \"No\"})"
   ]
  },
  {
   "cell_type": "code",
   "execution_count": 208,
   "id": "f822eb44",
   "metadata": {},
   "outputs": [],
   "source": [
    "df[\"Disabled\"] = df[\"Disabled\"].replace({\"Não\": \"No\", \"Sim\": \"Yes\"})"
   ]
  },
  {
   "cell_type": "markdown",
   "id": "d53f037e",
   "metadata": {},
   "source": [
    "<a id='3.B.2'></a>"
   ]
  },
  {
   "cell_type": "markdown",
   "id": "9acf1e99",
   "metadata": {},
   "source": [
    "### 3.B.2 Datetime variables"
   ]
  },
  {
   "cell_type": "code",
   "execution_count": 209,
   "id": "3ea3b304",
   "metadata": {},
   "outputs": [
    {
     "data": {
      "text/plain": [
       "Index(['Register_date', 'Diagnosis_date', 'Death_date', 'Result_PCR',\n",
       "       'Result_RapidTest', 'Classification', 'Hospitalized', 'Evolution',\n",
       "       'Gender', 'Notification_age', 'Range_age', 'Race', 'Pregnant',\n",
       "       'Disabled', 'Fever', 'Breath_difficulty', 'Cough', 'Rhinitis',\n",
       "       'Throat_pain', 'Diarrhea', 'Headache', 'Comorbidity_pulmonary',\n",
       "       'Comorbidity_cardiac', 'Comorbidity_renal', 'Comorbidity_diabetes',\n",
       "       'Comorbidity_smoking', 'Comorbidity_obesity'],\n",
       "      dtype='object')"
      ]
     },
     "execution_count": 209,
     "metadata": {},
     "output_type": "execute_result"
    }
   ],
   "source": [
    "df.columns"
   ]
  },
  {
   "cell_type": "code",
   "execution_count": 210,
   "id": "788c1c30",
   "metadata": {},
   "outputs": [],
   "source": [
    "date_data = [\"Diagnosis_date\", \"Register_date\", \"Death_date\"]\n",
    "\n",
    "for i in date_data:\n",
    "    df[i] = pd.to_datetime(df[i])"
   ]
  },
  {
   "cell_type": "code",
   "execution_count": 211,
   "id": "2c5473ad",
   "metadata": {},
   "outputs": [
    {
     "data": {
      "text/plain": [
       "Register_date            datetime64[ns]\n",
       "Diagnosis_date           datetime64[ns]\n",
       "Death_date               datetime64[ns]\n",
       "Result_PCR                     category\n",
       "Result_RapidTest               category\n",
       "Classification                 category\n",
       "Hospitalized                   category\n",
       "Evolution                        object\n",
       "Gender                           object\n",
       "Notification_age                 object\n",
       "Range_age                      category\n",
       "Race                           category\n",
       "Pregnant                       category\n",
       "Disabled                       category\n",
       "Fever                          category\n",
       "Breath_difficulty              category\n",
       "Cough                          category\n",
       "Rhinitis                       category\n",
       "Throat_pain                    category\n",
       "Diarrhea                       category\n",
       "Headache                       category\n",
       "Comorbidity_pulmonary          category\n",
       "Comorbidity_cardiac            category\n",
       "Comorbidity_renal              category\n",
       "Comorbidity_diabetes           category\n",
       "Comorbidity_smoking            category\n",
       "Comorbidity_obesity            category\n",
       "dtype: object"
      ]
     },
     "execution_count": 211,
     "metadata": {},
     "output_type": "execute_result"
    }
   ],
   "source": [
    "df.dtypes"
   ]
  },
  {
   "cell_type": "markdown",
   "id": "570a12f6",
   "metadata": {},
   "source": [
    "Cases where `df[\"Diagnosis_date\"] > df[\"Register_date\"]` should be removed because the registration date is always after the diagnosis date."
   ]
  },
  {
   "cell_type": "code",
   "execution_count": 212,
   "id": "5b77bd4b",
   "metadata": {},
   "outputs": [],
   "source": [
    "mask_Diag_great_Reg = df[\"Diagnosis_date\"] > df[\"Register_date\"]\n",
    "df = df[~mask_Diag_great_Reg]"
   ]
  },
  {
   "cell_type": "markdown",
   "id": "3f76bdd6",
   "metadata": {},
   "source": [
    "Proceed to calculate `df[\"Register_date\"] - df[\"Diagnosis_date\"]`."
   ]
  },
  {
   "cell_type": "code",
   "execution_count": 213,
   "id": "b0717de6",
   "metadata": {},
   "outputs": [
    {
     "data": {
      "text/html": [
       "<div>\n",
       "<style scoped>\n",
       "    .dataframe tbody tr th:only-of-type {\n",
       "        vertical-align: middle;\n",
       "    }\n",
       "\n",
       "    .dataframe tbody tr th {\n",
       "        vertical-align: top;\n",
       "    }\n",
       "\n",
       "    .dataframe thead th {\n",
       "        text-align: right;\n",
       "    }\n",
       "</style>\n",
       "<table border=\"1\" class=\"dataframe\">\n",
       "  <thead>\n",
       "    <tr style=\"text-align: right;\">\n",
       "      <th></th>\n",
       "      <th>Register_date</th>\n",
       "      <th>Diagnosis_date</th>\n",
       "      <th>Death_date</th>\n",
       "      <th>Result_PCR</th>\n",
       "      <th>Result_RapidTest</th>\n",
       "      <th>Classification</th>\n",
       "      <th>Hospitalized</th>\n",
       "      <th>Evolution</th>\n",
       "      <th>Gender</th>\n",
       "      <th>Notification_age</th>\n",
       "      <th>...</th>\n",
       "      <th>Throat_pain</th>\n",
       "      <th>Diarrhea</th>\n",
       "      <th>Headache</th>\n",
       "      <th>Comorbidity_pulmonary</th>\n",
       "      <th>Comorbidity_cardiac</th>\n",
       "      <th>Comorbidity_renal</th>\n",
       "      <th>Comorbidity_diabetes</th>\n",
       "      <th>Comorbidity_smoking</th>\n",
       "      <th>Comorbidity_obesity</th>\n",
       "      <th>Delta_RegDiag</th>\n",
       "    </tr>\n",
       "  </thead>\n",
       "  <tbody>\n",
       "    <tr>\n",
       "      <th>1440</th>\n",
       "      <td>2021-11-11</td>\n",
       "      <td>2021-11-10</td>\n",
       "      <td>NaT</td>\n",
       "      <td>Positive</td>\n",
       "      <td>NaN</td>\n",
       "      <td>Confirmed</td>\n",
       "      <td>NaN</td>\n",
       "      <td>Cured</td>\n",
       "      <td>Femenine</td>\n",
       "      <td>39 anos, 1 meses, 13 dias</td>\n",
       "      <td>...</td>\n",
       "      <td>Yes</td>\n",
       "      <td>Yes</td>\n",
       "      <td>Yes</td>\n",
       "      <td>No</td>\n",
       "      <td>No</td>\n",
       "      <td>No</td>\n",
       "      <td>No</td>\n",
       "      <td>No</td>\n",
       "      <td>No</td>\n",
       "      <td>1</td>\n",
       "    </tr>\n",
       "    <tr>\n",
       "      <th>2233</th>\n",
       "      <td>2021-11-10</td>\n",
       "      <td>2021-09-17</td>\n",
       "      <td>NaT</td>\n",
       "      <td>NaN</td>\n",
       "      <td>Positive</td>\n",
       "      <td>Confirmed</td>\n",
       "      <td>NaN</td>\n",
       "      <td>Cured</td>\n",
       "      <td>Masculine</td>\n",
       "      <td>33 anos, 1 meses, 3 dias</td>\n",
       "      <td>...</td>\n",
       "      <td>No</td>\n",
       "      <td>No</td>\n",
       "      <td>Yes</td>\n",
       "      <td>No</td>\n",
       "      <td>No</td>\n",
       "      <td>No</td>\n",
       "      <td>No</td>\n",
       "      <td>No</td>\n",
       "      <td>No</td>\n",
       "      <td>54</td>\n",
       "    </tr>\n",
       "    <tr>\n",
       "      <th>2546</th>\n",
       "      <td>2021-11-10</td>\n",
       "      <td>2020-12-28</td>\n",
       "      <td>NaT</td>\n",
       "      <td>NaN</td>\n",
       "      <td>Positive</td>\n",
       "      <td>Confirmed</td>\n",
       "      <td>No</td>\n",
       "      <td>Cured</td>\n",
       "      <td>Masculine</td>\n",
       "      <td>63 anos, 5 meses, 10 dias</td>\n",
       "      <td>...</td>\n",
       "      <td>Yes</td>\n",
       "      <td>No</td>\n",
       "      <td>No</td>\n",
       "      <td>No</td>\n",
       "      <td>No</td>\n",
       "      <td>Yes</td>\n",
       "      <td>No</td>\n",
       "      <td>No</td>\n",
       "      <td>No</td>\n",
       "      <td>317</td>\n",
       "    </tr>\n",
       "    <tr>\n",
       "      <th>2725</th>\n",
       "      <td>2021-11-10</td>\n",
       "      <td>2021-01-02</td>\n",
       "      <td>NaT</td>\n",
       "      <td>NaN</td>\n",
       "      <td>Positive</td>\n",
       "      <td>Confirmed</td>\n",
       "      <td>No</td>\n",
       "      <td>Cured</td>\n",
       "      <td>Masculine</td>\n",
       "      <td>38 anos, 4 meses, 15 dias</td>\n",
       "      <td>...</td>\n",
       "      <td>No</td>\n",
       "      <td>No</td>\n",
       "      <td>No</td>\n",
       "      <td>No</td>\n",
       "      <td>No</td>\n",
       "      <td>No</td>\n",
       "      <td>No</td>\n",
       "      <td>No</td>\n",
       "      <td>No</td>\n",
       "      <td>312</td>\n",
       "    </tr>\n",
       "    <tr>\n",
       "      <th>2758</th>\n",
       "      <td>2021-11-10</td>\n",
       "      <td>2021-09-16</td>\n",
       "      <td>NaT</td>\n",
       "      <td>NaN</td>\n",
       "      <td>Positive</td>\n",
       "      <td>Confirmed</td>\n",
       "      <td>NaN</td>\n",
       "      <td>Cured</td>\n",
       "      <td>Masculine</td>\n",
       "      <td>36 anos, 7 meses, 30 dias</td>\n",
       "      <td>...</td>\n",
       "      <td>Yes</td>\n",
       "      <td>No</td>\n",
       "      <td>Yes</td>\n",
       "      <td>No</td>\n",
       "      <td>No</td>\n",
       "      <td>No</td>\n",
       "      <td>No</td>\n",
       "      <td>No</td>\n",
       "      <td>No</td>\n",
       "      <td>55</td>\n",
       "    </tr>\n",
       "  </tbody>\n",
       "</table>\n",
       "<p>5 rows × 28 columns</p>\n",
       "</div>"
      ],
      "text/plain": [
       "     Register_date Diagnosis_date Death_date Result_PCR Result_RapidTest  \\\n",
       "1440    2021-11-11     2021-11-10        NaT   Positive              NaN   \n",
       "2233    2021-11-10     2021-09-17        NaT        NaN         Positive   \n",
       "2546    2021-11-10     2020-12-28        NaT        NaN         Positive   \n",
       "2725    2021-11-10     2021-01-02        NaT        NaN         Positive   \n",
       "2758    2021-11-10     2021-09-16        NaT        NaN         Positive   \n",
       "\n",
       "     Classification Hospitalized Evolution     Gender  \\\n",
       "1440      Confirmed          NaN     Cured   Femenine   \n",
       "2233      Confirmed          NaN     Cured  Masculine   \n",
       "2546      Confirmed           No     Cured  Masculine   \n",
       "2725      Confirmed           No     Cured  Masculine   \n",
       "2758      Confirmed          NaN     Cured  Masculine   \n",
       "\n",
       "               Notification_age  ... Throat_pain Diarrhea Headache  \\\n",
       "1440  39 anos, 1 meses, 13 dias  ...         Yes      Yes      Yes   \n",
       "2233   33 anos, 1 meses, 3 dias  ...          No       No      Yes   \n",
       "2546  63 anos, 5 meses, 10 dias  ...         Yes       No       No   \n",
       "2725  38 anos, 4 meses, 15 dias  ...          No       No       No   \n",
       "2758  36 anos, 7 meses, 30 dias  ...         Yes       No      Yes   \n",
       "\n",
       "     Comorbidity_pulmonary Comorbidity_cardiac Comorbidity_renal  \\\n",
       "1440                    No                  No                No   \n",
       "2233                    No                  No                No   \n",
       "2546                    No                  No               Yes   \n",
       "2725                    No                  No                No   \n",
       "2758                    No                  No                No   \n",
       "\n",
       "     Comorbidity_diabetes Comorbidity_smoking Comorbidity_obesity  \\\n",
       "1440                   No                  No                  No   \n",
       "2233                   No                  No                  No   \n",
       "2546                   No                  No                  No   \n",
       "2725                   No                  No                  No   \n",
       "2758                   No                  No                  No   \n",
       "\n",
       "     Delta_RegDiag  \n",
       "1440             1  \n",
       "2233            54  \n",
       "2546           317  \n",
       "2725           312  \n",
       "2758            55  \n",
       "\n",
       "[5 rows x 28 columns]"
      ]
     },
     "execution_count": 213,
     "metadata": {},
     "output_type": "execute_result"
    }
   ],
   "source": [
    "df[\"Delta_RegDiag\"] = (df[\"Register_date\"] - df[\"Diagnosis_date\"]).dt.days\n",
    "df.head()"
   ]
  },
  {
   "cell_type": "markdown",
   "id": "1bc013c2",
   "metadata": {},
   "source": [
    "Those patients with `Delta_RegDiag > 7 days` are eliminated."
   ]
  },
  {
   "cell_type": "code",
   "execution_count": 214,
   "id": "cd403fb2",
   "metadata": {},
   "outputs": [
    {
     "data": {
      "text/html": [
       "<div>\n",
       "<style scoped>\n",
       "    .dataframe tbody tr th:only-of-type {\n",
       "        vertical-align: middle;\n",
       "    }\n",
       "\n",
       "    .dataframe tbody tr th {\n",
       "        vertical-align: top;\n",
       "    }\n",
       "\n",
       "    .dataframe thead th {\n",
       "        text-align: right;\n",
       "    }\n",
       "</style>\n",
       "<table border=\"1\" class=\"dataframe\">\n",
       "  <thead>\n",
       "    <tr style=\"text-align: right;\">\n",
       "      <th></th>\n",
       "      <th>Register_date</th>\n",
       "      <th>Diagnosis_date</th>\n",
       "      <th>Death_date</th>\n",
       "      <th>Result_PCR</th>\n",
       "      <th>Result_RapidTest</th>\n",
       "      <th>Classification</th>\n",
       "      <th>Hospitalized</th>\n",
       "      <th>Evolution</th>\n",
       "      <th>Gender</th>\n",
       "      <th>Notification_age</th>\n",
       "      <th>...</th>\n",
       "      <th>Throat_pain</th>\n",
       "      <th>Diarrhea</th>\n",
       "      <th>Headache</th>\n",
       "      <th>Comorbidity_pulmonary</th>\n",
       "      <th>Comorbidity_cardiac</th>\n",
       "      <th>Comorbidity_renal</th>\n",
       "      <th>Comorbidity_diabetes</th>\n",
       "      <th>Comorbidity_smoking</th>\n",
       "      <th>Comorbidity_obesity</th>\n",
       "      <th>Delta_RegDiag</th>\n",
       "    </tr>\n",
       "  </thead>\n",
       "  <tbody>\n",
       "    <tr>\n",
       "      <th>1440</th>\n",
       "      <td>2021-11-11</td>\n",
       "      <td>2021-11-10</td>\n",
       "      <td>NaT</td>\n",
       "      <td>Positive</td>\n",
       "      <td>NaN</td>\n",
       "      <td>Confirmed</td>\n",
       "      <td>NaN</td>\n",
       "      <td>Cured</td>\n",
       "      <td>Femenine</td>\n",
       "      <td>39 anos, 1 meses, 13 dias</td>\n",
       "      <td>...</td>\n",
       "      <td>Yes</td>\n",
       "      <td>Yes</td>\n",
       "      <td>Yes</td>\n",
       "      <td>No</td>\n",
       "      <td>No</td>\n",
       "      <td>No</td>\n",
       "      <td>No</td>\n",
       "      <td>No</td>\n",
       "      <td>No</td>\n",
       "      <td>1</td>\n",
       "    </tr>\n",
       "    <tr>\n",
       "      <th>3082</th>\n",
       "      <td>2021-11-10</td>\n",
       "      <td>2021-11-08</td>\n",
       "      <td>NaT</td>\n",
       "      <td>Positive</td>\n",
       "      <td>NaN</td>\n",
       "      <td>Confirmed</td>\n",
       "      <td>No</td>\n",
       "      <td>Cured</td>\n",
       "      <td>Masculine</td>\n",
       "      <td>24 anos, 0 meses, 28 dias</td>\n",
       "      <td>...</td>\n",
       "      <td>No</td>\n",
       "      <td>Yes</td>\n",
       "      <td>Yes</td>\n",
       "      <td>No</td>\n",
       "      <td>No</td>\n",
       "      <td>No</td>\n",
       "      <td>No</td>\n",
       "      <td>No</td>\n",
       "      <td>No</td>\n",
       "      <td>2</td>\n",
       "    </tr>\n",
       "    <tr>\n",
       "      <th>3155</th>\n",
       "      <td>2021-11-02</td>\n",
       "      <td>2021-10-29</td>\n",
       "      <td>NaT</td>\n",
       "      <td>Positive</td>\n",
       "      <td>Positive</td>\n",
       "      <td>Confirmed</td>\n",
       "      <td>No</td>\n",
       "      <td>Cured</td>\n",
       "      <td>Masculine</td>\n",
       "      <td>77 anos, 0 meses, 15 dias</td>\n",
       "      <td>...</td>\n",
       "      <td>No</td>\n",
       "      <td>Yes</td>\n",
       "      <td>No</td>\n",
       "      <td>No</td>\n",
       "      <td>No</td>\n",
       "      <td>No</td>\n",
       "      <td>No</td>\n",
       "      <td>No</td>\n",
       "      <td>No</td>\n",
       "      <td>4</td>\n",
       "    </tr>\n",
       "    <tr>\n",
       "      <th>4727</th>\n",
       "      <td>2021-11-10</td>\n",
       "      <td>2021-11-05</td>\n",
       "      <td>2019-11-10</td>\n",
       "      <td>NaN</td>\n",
       "      <td>Negative</td>\n",
       "      <td>Discarded</td>\n",
       "      <td>Yes</td>\n",
       "      <td>Death</td>\n",
       "      <td>Masculine</td>\n",
       "      <td>47 anos, 3 meses, 25 dias</td>\n",
       "      <td>...</td>\n",
       "      <td>No</td>\n",
       "      <td>No</td>\n",
       "      <td>No</td>\n",
       "      <td>No</td>\n",
       "      <td>No</td>\n",
       "      <td>No</td>\n",
       "      <td>No</td>\n",
       "      <td>No</td>\n",
       "      <td>No</td>\n",
       "      <td>5</td>\n",
       "    </tr>\n",
       "    <tr>\n",
       "      <th>6785</th>\n",
       "      <td>2021-11-09</td>\n",
       "      <td>2021-11-02</td>\n",
       "      <td>NaT</td>\n",
       "      <td>Positive</td>\n",
       "      <td>NaN</td>\n",
       "      <td>Confirmed</td>\n",
       "      <td>NaN</td>\n",
       "      <td>Cured</td>\n",
       "      <td>Femenine</td>\n",
       "      <td>33 anos, 5 meses, 12 dias</td>\n",
       "      <td>...</td>\n",
       "      <td>Yes</td>\n",
       "      <td>No</td>\n",
       "      <td>Yes</td>\n",
       "      <td>No</td>\n",
       "      <td>No</td>\n",
       "      <td>No</td>\n",
       "      <td>No</td>\n",
       "      <td>No</td>\n",
       "      <td>No</td>\n",
       "      <td>7</td>\n",
       "    </tr>\n",
       "  </tbody>\n",
       "</table>\n",
       "<p>5 rows × 28 columns</p>\n",
       "</div>"
      ],
      "text/plain": [
       "     Register_date Diagnosis_date Death_date Result_PCR Result_RapidTest  \\\n",
       "1440    2021-11-11     2021-11-10        NaT   Positive              NaN   \n",
       "3082    2021-11-10     2021-11-08        NaT   Positive              NaN   \n",
       "3155    2021-11-02     2021-10-29        NaT   Positive         Positive   \n",
       "4727    2021-11-10     2021-11-05 2019-11-10        NaN         Negative   \n",
       "6785    2021-11-09     2021-11-02        NaT   Positive              NaN   \n",
       "\n",
       "     Classification Hospitalized Evolution     Gender  \\\n",
       "1440      Confirmed          NaN     Cured   Femenine   \n",
       "3082      Confirmed           No     Cured  Masculine   \n",
       "3155      Confirmed           No     Cured  Masculine   \n",
       "4727      Discarded          Yes     Death  Masculine   \n",
       "6785      Confirmed          NaN     Cured   Femenine   \n",
       "\n",
       "               Notification_age  ... Throat_pain Diarrhea Headache  \\\n",
       "1440  39 anos, 1 meses, 13 dias  ...         Yes      Yes      Yes   \n",
       "3082  24 anos, 0 meses, 28 dias  ...          No      Yes      Yes   \n",
       "3155  77 anos, 0 meses, 15 dias  ...          No      Yes       No   \n",
       "4727  47 anos, 3 meses, 25 dias  ...          No       No       No   \n",
       "6785  33 anos, 5 meses, 12 dias  ...         Yes       No      Yes   \n",
       "\n",
       "     Comorbidity_pulmonary Comorbidity_cardiac Comorbidity_renal  \\\n",
       "1440                    No                  No                No   \n",
       "3082                    No                  No                No   \n",
       "3155                    No                  No                No   \n",
       "4727                    No                  No                No   \n",
       "6785                    No                  No                No   \n",
       "\n",
       "     Comorbidity_diabetes Comorbidity_smoking Comorbidity_obesity  \\\n",
       "1440                   No                  No                  No   \n",
       "3082                   No                  No                  No   \n",
       "3155                   No                  No                  No   \n",
       "4727                   No                  No                  No   \n",
       "6785                   No                  No                  No   \n",
       "\n",
       "     Delta_RegDiag  \n",
       "1440             1  \n",
       "3082             2  \n",
       "3155             4  \n",
       "4727             5  \n",
       "6785             7  \n",
       "\n",
       "[5 rows x 28 columns]"
      ]
     },
     "execution_count": 214,
     "metadata": {},
     "output_type": "execute_result"
    }
   ],
   "source": [
    "mask_Delta_RegDiag = df[\"Delta_RegDiag\"] > 7\n",
    "df = df[~mask_Delta_RegDiag]\n",
    "df.head()"
   ]
  },
  {
   "cell_type": "markdown",
   "id": "2cc39929",
   "metadata": {},
   "source": [
    "The same goes for the `Death_date` column which cannot be less than `Register_date`."
   ]
  },
  {
   "cell_type": "code",
   "execution_count": 215,
   "id": "af5a47a1",
   "metadata": {},
   "outputs": [
    {
     "data": {
      "text/html": [
       "<div>\n",
       "<style scoped>\n",
       "    .dataframe tbody tr th:only-of-type {\n",
       "        vertical-align: middle;\n",
       "    }\n",
       "\n",
       "    .dataframe tbody tr th {\n",
       "        vertical-align: top;\n",
       "    }\n",
       "\n",
       "    .dataframe thead th {\n",
       "        text-align: right;\n",
       "    }\n",
       "</style>\n",
       "<table border=\"1\" class=\"dataframe\">\n",
       "  <thead>\n",
       "    <tr style=\"text-align: right;\">\n",
       "      <th></th>\n",
       "      <th>Register_date</th>\n",
       "      <th>Diagnosis_date</th>\n",
       "      <th>Death_date</th>\n",
       "      <th>Result_PCR</th>\n",
       "      <th>Result_RapidTest</th>\n",
       "      <th>Classification</th>\n",
       "      <th>Hospitalized</th>\n",
       "      <th>Evolution</th>\n",
       "      <th>Gender</th>\n",
       "      <th>Notification_age</th>\n",
       "      <th>...</th>\n",
       "      <th>Throat_pain</th>\n",
       "      <th>Diarrhea</th>\n",
       "      <th>Headache</th>\n",
       "      <th>Comorbidity_pulmonary</th>\n",
       "      <th>Comorbidity_cardiac</th>\n",
       "      <th>Comorbidity_renal</th>\n",
       "      <th>Comorbidity_diabetes</th>\n",
       "      <th>Comorbidity_smoking</th>\n",
       "      <th>Comorbidity_obesity</th>\n",
       "      <th>Delta_RegDiag</th>\n",
       "    </tr>\n",
       "  </thead>\n",
       "  <tbody>\n",
       "    <tr>\n",
       "      <th>1440</th>\n",
       "      <td>2021-11-11</td>\n",
       "      <td>2021-11-10</td>\n",
       "      <td>NaT</td>\n",
       "      <td>Positive</td>\n",
       "      <td>NaN</td>\n",
       "      <td>Confirmed</td>\n",
       "      <td>NaN</td>\n",
       "      <td>Cured</td>\n",
       "      <td>Femenine</td>\n",
       "      <td>39 anos, 1 meses, 13 dias</td>\n",
       "      <td>...</td>\n",
       "      <td>Yes</td>\n",
       "      <td>Yes</td>\n",
       "      <td>Yes</td>\n",
       "      <td>No</td>\n",
       "      <td>No</td>\n",
       "      <td>No</td>\n",
       "      <td>No</td>\n",
       "      <td>No</td>\n",
       "      <td>No</td>\n",
       "      <td>1</td>\n",
       "    </tr>\n",
       "    <tr>\n",
       "      <th>3082</th>\n",
       "      <td>2021-11-10</td>\n",
       "      <td>2021-11-08</td>\n",
       "      <td>NaT</td>\n",
       "      <td>Positive</td>\n",
       "      <td>NaN</td>\n",
       "      <td>Confirmed</td>\n",
       "      <td>No</td>\n",
       "      <td>Cured</td>\n",
       "      <td>Masculine</td>\n",
       "      <td>24 anos, 0 meses, 28 dias</td>\n",
       "      <td>...</td>\n",
       "      <td>No</td>\n",
       "      <td>Yes</td>\n",
       "      <td>Yes</td>\n",
       "      <td>No</td>\n",
       "      <td>No</td>\n",
       "      <td>No</td>\n",
       "      <td>No</td>\n",
       "      <td>No</td>\n",
       "      <td>No</td>\n",
       "      <td>2</td>\n",
       "    </tr>\n",
       "    <tr>\n",
       "      <th>3155</th>\n",
       "      <td>2021-11-02</td>\n",
       "      <td>2021-10-29</td>\n",
       "      <td>NaT</td>\n",
       "      <td>Positive</td>\n",
       "      <td>Positive</td>\n",
       "      <td>Confirmed</td>\n",
       "      <td>No</td>\n",
       "      <td>Cured</td>\n",
       "      <td>Masculine</td>\n",
       "      <td>77 anos, 0 meses, 15 dias</td>\n",
       "      <td>...</td>\n",
       "      <td>No</td>\n",
       "      <td>Yes</td>\n",
       "      <td>No</td>\n",
       "      <td>No</td>\n",
       "      <td>No</td>\n",
       "      <td>No</td>\n",
       "      <td>No</td>\n",
       "      <td>No</td>\n",
       "      <td>No</td>\n",
       "      <td>4</td>\n",
       "    </tr>\n",
       "    <tr>\n",
       "      <th>6785</th>\n",
       "      <td>2021-11-09</td>\n",
       "      <td>2021-11-02</td>\n",
       "      <td>NaT</td>\n",
       "      <td>Positive</td>\n",
       "      <td>NaN</td>\n",
       "      <td>Confirmed</td>\n",
       "      <td>NaN</td>\n",
       "      <td>Cured</td>\n",
       "      <td>Femenine</td>\n",
       "      <td>33 anos, 5 meses, 12 dias</td>\n",
       "      <td>...</td>\n",
       "      <td>Yes</td>\n",
       "      <td>No</td>\n",
       "      <td>Yes</td>\n",
       "      <td>No</td>\n",
       "      <td>No</td>\n",
       "      <td>No</td>\n",
       "      <td>No</td>\n",
       "      <td>No</td>\n",
       "      <td>No</td>\n",
       "      <td>7</td>\n",
       "    </tr>\n",
       "    <tr>\n",
       "      <th>7372</th>\n",
       "      <td>2021-11-09</td>\n",
       "      <td>2021-11-09</td>\n",
       "      <td>NaT</td>\n",
       "      <td>Positive</td>\n",
       "      <td>NaN</td>\n",
       "      <td>Confirmed</td>\n",
       "      <td>NaN</td>\n",
       "      <td>Cured</td>\n",
       "      <td>Femenine</td>\n",
       "      <td>59 anos, 1 meses, 11 dias</td>\n",
       "      <td>...</td>\n",
       "      <td>No</td>\n",
       "      <td>No</td>\n",
       "      <td>No</td>\n",
       "      <td>No</td>\n",
       "      <td>No</td>\n",
       "      <td>No</td>\n",
       "      <td>No</td>\n",
       "      <td>No</td>\n",
       "      <td>No</td>\n",
       "      <td>0</td>\n",
       "    </tr>\n",
       "  </tbody>\n",
       "</table>\n",
       "<p>5 rows × 28 columns</p>\n",
       "</div>"
      ],
      "text/plain": [
       "     Register_date Diagnosis_date Death_date Result_PCR Result_RapidTest  \\\n",
       "1440    2021-11-11     2021-11-10        NaT   Positive              NaN   \n",
       "3082    2021-11-10     2021-11-08        NaT   Positive              NaN   \n",
       "3155    2021-11-02     2021-10-29        NaT   Positive         Positive   \n",
       "6785    2021-11-09     2021-11-02        NaT   Positive              NaN   \n",
       "7372    2021-11-09     2021-11-09        NaT   Positive              NaN   \n",
       "\n",
       "     Classification Hospitalized Evolution     Gender  \\\n",
       "1440      Confirmed          NaN     Cured   Femenine   \n",
       "3082      Confirmed           No     Cured  Masculine   \n",
       "3155      Confirmed           No     Cured  Masculine   \n",
       "6785      Confirmed          NaN     Cured   Femenine   \n",
       "7372      Confirmed          NaN     Cured   Femenine   \n",
       "\n",
       "               Notification_age  ... Throat_pain Diarrhea Headache  \\\n",
       "1440  39 anos, 1 meses, 13 dias  ...         Yes      Yes      Yes   \n",
       "3082  24 anos, 0 meses, 28 dias  ...          No      Yes      Yes   \n",
       "3155  77 anos, 0 meses, 15 dias  ...          No      Yes       No   \n",
       "6785  33 anos, 5 meses, 12 dias  ...         Yes       No      Yes   \n",
       "7372  59 anos, 1 meses, 11 dias  ...          No       No       No   \n",
       "\n",
       "     Comorbidity_pulmonary Comorbidity_cardiac Comorbidity_renal  \\\n",
       "1440                    No                  No                No   \n",
       "3082                    No                  No                No   \n",
       "3155                    No                  No                No   \n",
       "6785                    No                  No                No   \n",
       "7372                    No                  No                No   \n",
       "\n",
       "     Comorbidity_diabetes Comorbidity_smoking Comorbidity_obesity  \\\n",
       "1440                   No                  No                  No   \n",
       "3082                   No                  No                  No   \n",
       "3155                   No                  No                  No   \n",
       "6785                   No                  No                  No   \n",
       "7372                   No                  No                  No   \n",
       "\n",
       "     Delta_RegDiag  \n",
       "1440             1  \n",
       "3082             2  \n",
       "3155             4  \n",
       "6785             7  \n",
       "7372             0  \n",
       "\n",
       "[5 rows x 28 columns]"
      ]
     },
     "execution_count": 215,
     "metadata": {},
     "output_type": "execute_result"
    }
   ],
   "source": [
    "mask_Death_less_Reg = df[\"Death_date\"] < df[\"Register_date\"]\n",
    "df = df[~mask_Death_less_Reg]\n",
    "df.head()"
   ]
  },
  {
   "cell_type": "markdown",
   "id": "afe27565",
   "metadata": {},
   "source": [
    "Proceed to calculate `df[\"Death_date\"] - df[\"Register_date\"]`."
   ]
  },
  {
   "cell_type": "code",
   "execution_count": 216,
   "id": "125f0b04",
   "metadata": {},
   "outputs": [
    {
     "data": {
      "text/html": [
       "<div>\n",
       "<style scoped>\n",
       "    .dataframe tbody tr th:only-of-type {\n",
       "        vertical-align: middle;\n",
       "    }\n",
       "\n",
       "    .dataframe tbody tr th {\n",
       "        vertical-align: top;\n",
       "    }\n",
       "\n",
       "    .dataframe thead th {\n",
       "        text-align: right;\n",
       "    }\n",
       "</style>\n",
       "<table border=\"1\" class=\"dataframe\">\n",
       "  <thead>\n",
       "    <tr style=\"text-align: right;\">\n",
       "      <th></th>\n",
       "      <th>Register_date</th>\n",
       "      <th>Diagnosis_date</th>\n",
       "      <th>Death_date</th>\n",
       "      <th>Result_PCR</th>\n",
       "      <th>Result_RapidTest</th>\n",
       "      <th>Classification</th>\n",
       "      <th>Hospitalized</th>\n",
       "      <th>Evolution</th>\n",
       "      <th>Gender</th>\n",
       "      <th>Notification_age</th>\n",
       "      <th>...</th>\n",
       "      <th>Diarrhea</th>\n",
       "      <th>Headache</th>\n",
       "      <th>Comorbidity_pulmonary</th>\n",
       "      <th>Comorbidity_cardiac</th>\n",
       "      <th>Comorbidity_renal</th>\n",
       "      <th>Comorbidity_diabetes</th>\n",
       "      <th>Comorbidity_smoking</th>\n",
       "      <th>Comorbidity_obesity</th>\n",
       "      <th>Delta_RegDiag</th>\n",
       "      <th>Delta_DeathReg</th>\n",
       "    </tr>\n",
       "  </thead>\n",
       "  <tbody>\n",
       "    <tr>\n",
       "      <th>1440</th>\n",
       "      <td>2021-11-11</td>\n",
       "      <td>2021-11-10</td>\n",
       "      <td>NaT</td>\n",
       "      <td>Positive</td>\n",
       "      <td>NaN</td>\n",
       "      <td>Confirmed</td>\n",
       "      <td>NaN</td>\n",
       "      <td>Cured</td>\n",
       "      <td>Femenine</td>\n",
       "      <td>39 anos, 1 meses, 13 dias</td>\n",
       "      <td>...</td>\n",
       "      <td>Yes</td>\n",
       "      <td>Yes</td>\n",
       "      <td>No</td>\n",
       "      <td>No</td>\n",
       "      <td>No</td>\n",
       "      <td>No</td>\n",
       "      <td>No</td>\n",
       "      <td>No</td>\n",
       "      <td>1</td>\n",
       "      <td>NaN</td>\n",
       "    </tr>\n",
       "    <tr>\n",
       "      <th>3082</th>\n",
       "      <td>2021-11-10</td>\n",
       "      <td>2021-11-08</td>\n",
       "      <td>NaT</td>\n",
       "      <td>Positive</td>\n",
       "      <td>NaN</td>\n",
       "      <td>Confirmed</td>\n",
       "      <td>No</td>\n",
       "      <td>Cured</td>\n",
       "      <td>Masculine</td>\n",
       "      <td>24 anos, 0 meses, 28 dias</td>\n",
       "      <td>...</td>\n",
       "      <td>Yes</td>\n",
       "      <td>Yes</td>\n",
       "      <td>No</td>\n",
       "      <td>No</td>\n",
       "      <td>No</td>\n",
       "      <td>No</td>\n",
       "      <td>No</td>\n",
       "      <td>No</td>\n",
       "      <td>2</td>\n",
       "      <td>NaN</td>\n",
       "    </tr>\n",
       "    <tr>\n",
       "      <th>3155</th>\n",
       "      <td>2021-11-02</td>\n",
       "      <td>2021-10-29</td>\n",
       "      <td>NaT</td>\n",
       "      <td>Positive</td>\n",
       "      <td>Positive</td>\n",
       "      <td>Confirmed</td>\n",
       "      <td>No</td>\n",
       "      <td>Cured</td>\n",
       "      <td>Masculine</td>\n",
       "      <td>77 anos, 0 meses, 15 dias</td>\n",
       "      <td>...</td>\n",
       "      <td>Yes</td>\n",
       "      <td>No</td>\n",
       "      <td>No</td>\n",
       "      <td>No</td>\n",
       "      <td>No</td>\n",
       "      <td>No</td>\n",
       "      <td>No</td>\n",
       "      <td>No</td>\n",
       "      <td>4</td>\n",
       "      <td>NaN</td>\n",
       "    </tr>\n",
       "    <tr>\n",
       "      <th>6785</th>\n",
       "      <td>2021-11-09</td>\n",
       "      <td>2021-11-02</td>\n",
       "      <td>NaT</td>\n",
       "      <td>Positive</td>\n",
       "      <td>NaN</td>\n",
       "      <td>Confirmed</td>\n",
       "      <td>NaN</td>\n",
       "      <td>Cured</td>\n",
       "      <td>Femenine</td>\n",
       "      <td>33 anos, 5 meses, 12 dias</td>\n",
       "      <td>...</td>\n",
       "      <td>No</td>\n",
       "      <td>Yes</td>\n",
       "      <td>No</td>\n",
       "      <td>No</td>\n",
       "      <td>No</td>\n",
       "      <td>No</td>\n",
       "      <td>No</td>\n",
       "      <td>No</td>\n",
       "      <td>7</td>\n",
       "      <td>NaN</td>\n",
       "    </tr>\n",
       "    <tr>\n",
       "      <th>7372</th>\n",
       "      <td>2021-11-09</td>\n",
       "      <td>2021-11-09</td>\n",
       "      <td>NaT</td>\n",
       "      <td>Positive</td>\n",
       "      <td>NaN</td>\n",
       "      <td>Confirmed</td>\n",
       "      <td>NaN</td>\n",
       "      <td>Cured</td>\n",
       "      <td>Femenine</td>\n",
       "      <td>59 anos, 1 meses, 11 dias</td>\n",
       "      <td>...</td>\n",
       "      <td>No</td>\n",
       "      <td>No</td>\n",
       "      <td>No</td>\n",
       "      <td>No</td>\n",
       "      <td>No</td>\n",
       "      <td>No</td>\n",
       "      <td>No</td>\n",
       "      <td>No</td>\n",
       "      <td>0</td>\n",
       "      <td>NaN</td>\n",
       "    </tr>\n",
       "  </tbody>\n",
       "</table>\n",
       "<p>5 rows × 29 columns</p>\n",
       "</div>"
      ],
      "text/plain": [
       "     Register_date Diagnosis_date Death_date Result_PCR Result_RapidTest  \\\n",
       "1440    2021-11-11     2021-11-10        NaT   Positive              NaN   \n",
       "3082    2021-11-10     2021-11-08        NaT   Positive              NaN   \n",
       "3155    2021-11-02     2021-10-29        NaT   Positive         Positive   \n",
       "6785    2021-11-09     2021-11-02        NaT   Positive              NaN   \n",
       "7372    2021-11-09     2021-11-09        NaT   Positive              NaN   \n",
       "\n",
       "     Classification Hospitalized Evolution     Gender  \\\n",
       "1440      Confirmed          NaN     Cured   Femenine   \n",
       "3082      Confirmed           No     Cured  Masculine   \n",
       "3155      Confirmed           No     Cured  Masculine   \n",
       "6785      Confirmed          NaN     Cured   Femenine   \n",
       "7372      Confirmed          NaN     Cured   Femenine   \n",
       "\n",
       "               Notification_age  ... Diarrhea Headache Comorbidity_pulmonary  \\\n",
       "1440  39 anos, 1 meses, 13 dias  ...      Yes      Yes                    No   \n",
       "3082  24 anos, 0 meses, 28 dias  ...      Yes      Yes                    No   \n",
       "3155  77 anos, 0 meses, 15 dias  ...      Yes       No                    No   \n",
       "6785  33 anos, 5 meses, 12 dias  ...       No      Yes                    No   \n",
       "7372  59 anos, 1 meses, 11 dias  ...       No       No                    No   \n",
       "\n",
       "     Comorbidity_cardiac Comorbidity_renal Comorbidity_diabetes  \\\n",
       "1440                  No                No                   No   \n",
       "3082                  No                No                   No   \n",
       "3155                  No                No                   No   \n",
       "6785                  No                No                   No   \n",
       "7372                  No                No                   No   \n",
       "\n",
       "     Comorbidity_smoking Comorbidity_obesity Delta_RegDiag Delta_DeathReg  \n",
       "1440                  No                  No             1            NaN  \n",
       "3082                  No                  No             2            NaN  \n",
       "3155                  No                  No             4            NaN  \n",
       "6785                  No                  No             7            NaN  \n",
       "7372                  No                  No             0            NaN  \n",
       "\n",
       "[5 rows x 29 columns]"
      ]
     },
     "execution_count": 216,
     "metadata": {},
     "output_type": "execute_result"
    }
   ],
   "source": [
    "df[\"Delta_DeathReg\"] = (df[\"Death_date\"] - df[\"Register_date\"]).dt.days\n",
    "df.head()"
   ]
  },
  {
   "cell_type": "code",
   "execution_count": 217,
   "id": "d920fecd",
   "metadata": {},
   "outputs": [
    {
     "data": {
      "text/plain": [
       "count    11792.000000\n",
       "mean        14.911889\n",
       "std         17.974500\n",
       "min          0.000000\n",
       "25%          4.000000\n",
       "50%         11.000000\n",
       "75%         20.000000\n",
       "max        540.000000\n",
       "Name: Delta_DeathReg, dtype: float64"
      ]
     },
     "execution_count": 217,
     "metadata": {},
     "output_type": "execute_result"
    }
   ],
   "source": [
    "df[\"Delta_DeathReg\"].describe()"
   ]
  },
  {
   "cell_type": "code",
   "execution_count": 218,
   "id": "5331eaa5",
   "metadata": {},
   "outputs": [
    {
     "data": {
      "text/plain": [
       "447324"
      ]
     },
     "execution_count": 218,
     "metadata": {},
     "output_type": "execute_result"
    }
   ],
   "source": [
    "df[\"Delta_DeathReg\"].isna().sum()"
   ]
  },
  {
   "cell_type": "markdown",
   "id": "2841a74f",
   "metadata": {},
   "source": [
    "Later the analysis will be done on the null data contained in this column."
   ]
  },
  {
   "cell_type": "markdown",
   "id": "9f606979",
   "metadata": {},
   "source": [
    "<a id='3.B.3'></a>"
   ]
  },
  {
   "cell_type": "markdown",
   "id": "ae571068",
   "metadata": {},
   "source": [
    "### 3.B.3 Calculating Age"
   ]
  },
  {
   "cell_type": "code",
   "execution_count": 219,
   "id": "066c202d",
   "metadata": {},
   "outputs": [],
   "source": [
    "# Function to obtain the age of the column \"Notification_age\"\n",
    "\n",
    "def getnumber(text):\n",
    "    words = text.split()\n",
    "    return words[0]"
   ]
  },
  {
   "cell_type": "code",
   "execution_count": 220,
   "id": "fc5df78a",
   "metadata": {},
   "outputs": [],
   "source": [
    "df[\"Age\"] = df.apply(lambda x: getnumber(x.Notification_age), axis=1)\n",
    "df[\"Age\"] = df[\"Age\"].astype(int)"
   ]
  },
  {
   "cell_type": "markdown",
   "id": "858b1143",
   "metadata": {},
   "source": [
    "Checking for nulls in `Age` column."
   ]
  },
  {
   "cell_type": "code",
   "execution_count": 221,
   "id": "5b5b4600",
   "metadata": {},
   "outputs": [
    {
     "data": {
      "text/plain": [
       "0"
      ]
     },
     "execution_count": 221,
     "metadata": {},
     "output_type": "execute_result"
    }
   ],
   "source": [
    "df[\"Age\"].isna().sum()"
   ]
  },
  {
   "cell_type": "code",
   "execution_count": 222,
   "id": "e3f53b7a",
   "metadata": {},
   "outputs": [
    {
     "data": {
      "text/plain": [
       "count    459116.000000\n",
       "mean         39.834499\n",
       "std          17.522008\n",
       "min          -1.000000\n",
       "25%          27.000000\n",
       "50%          38.000000\n",
       "75%          51.000000\n",
       "max         121.000000\n",
       "Name: Age, dtype: float64"
      ]
     },
     "execution_count": 222,
     "metadata": {},
     "output_type": "execute_result"
    }
   ],
   "source": [
    "df[\"Age\"].describe()"
   ]
  },
  {
   "cell_type": "markdown",
   "id": "bded1f94",
   "metadata": {},
   "source": [
    "`df[\"Age\"] < 0` are observed, they will be taken into account as null data to be replaced by the median of the population as appropriate by sex."
   ]
  },
  {
   "cell_type": "code",
   "execution_count": 223,
   "id": "3547e2fd",
   "metadata": {},
   "outputs": [],
   "source": [
    "mask_age_below_0 = df[\"Age\"] < 0\n",
    "df.loc[mask_age_below_0, \"Age\"] = np.nan"
   ]
  },
  {
   "cell_type": "code",
   "execution_count": 224,
   "id": "01fa4e12",
   "metadata": {},
   "outputs": [
    {
     "data": {
      "text/plain": [
       "14"
      ]
     },
     "execution_count": 224,
     "metadata": {},
     "output_type": "execute_result"
    }
   ],
   "source": [
    "df[\"Age\"].isna().sum()"
   ]
  },
  {
   "cell_type": "code",
   "execution_count": 225,
   "id": "a74b21d3",
   "metadata": {},
   "outputs": [],
   "source": [
    "mask_F = df[\"Gender\"] == \"Femenine\"\n",
    "mask_age_null = df[\"Age\"].isna()\n",
    "\n",
    "df.loc[mask_F & mask_age_null, \"Age\"] = df.loc[mask_F, \"Age\"].median()"
   ]
  },
  {
   "cell_type": "code",
   "execution_count": 226,
   "id": "fd4230e9",
   "metadata": {},
   "outputs": [],
   "source": [
    "mask_M = df[\"Gender\"] == \"Masculine\"\n",
    "mask_age_null = df[\"Age\"].isna()\n",
    "\n",
    "df.loc[mask_M & mask_age_null, \"Age\"] = df.loc[mask_M, \"Age\"].median()"
   ]
  },
  {
   "cell_type": "code",
   "execution_count": 227,
   "id": "52a7fdd1",
   "metadata": {},
   "outputs": [
    {
     "data": {
      "text/plain": [
       "0"
      ]
     },
     "execution_count": 227,
     "metadata": {},
     "output_type": "execute_result"
    }
   ],
   "source": [
    "df[\"Age\"].isna().sum()"
   ]
  },
  {
   "cell_type": "markdown",
   "id": "e0da55b9",
   "metadata": {},
   "source": [
    "- There are no nulls in `Age`.\n",
    "- `df[\"Age\"] >= 18` are selected."
   ]
  },
  {
   "cell_type": "code",
   "execution_count": 228,
   "id": "f95cb29d",
   "metadata": {},
   "outputs": [],
   "source": [
    "mask_adult = df[\"Age\"] >= 18\n",
    "df = df[mask_adult]"
   ]
  },
  {
   "cell_type": "code",
   "execution_count": 229,
   "id": "1826bdd4",
   "metadata": {},
   "outputs": [
    {
     "data": {
      "image/png": "[encoded data removed]",
      "text/plain": [
       "<Figure size 432x576 with 1 Axes>"
      ]
     },
     "metadata": {},
     "output_type": "display_data"
    }
   ],
   "source": [
    "fig, ax = plt.subplots(figsize = (6,8))\n",
    "\n",
    "plt.style.use(\"seaborn-white\")\n",
    "colours = [\"#ff6347\", \"#66CDAA\"]\n",
    "sns.set_palette(sns.color_palette(colours))\n",
    "\n",
    "sns.boxplot(x = \"Gender\", y = \"Age\", data = df)\n",
    "\n",
    "plt.title(\"Boxplot of Age by gender\", fontsize = 20)\n",
    "plt.xlabel(\"Gender\", fontsize = 18)\n",
    "plt.xticks(fontsize = 16)\n",
    "plt.ylabel(\"Age\", fontsize = 18)\n",
    "plt.yticks(fontsize = 16)\n",
    "plt.ylim(0, 120)\n",
    "\n",
    "plt.show()"
   ]
  },
  {
   "cell_type": "markdown",
   "id": "74841f98",
   "metadata": {},
   "source": [
    "Outliers are removed."
   ]
  },
  {
   "cell_type": "code",
   "execution_count": 230,
   "id": "2225d2fd",
   "metadata": {},
   "outputs": [],
   "source": [
    "iqr_age = iqr(df[\"Age\"])\n",
    "low_thres_age = np.quantile(df[\"Age\"], 0.25) - (1.5 * iqr_age)\n",
    "high_thres_age = np.quantile(df[\"Age\"], 0.75) + (1.5 * iqr_age)"
   ]
  },
  {
   "cell_type": "code",
   "execution_count": 231,
   "id": "7b103f26",
   "metadata": {},
   "outputs": [],
   "source": [
    "df = df[(df[\"Age\"] >= low_thres_age) & (df[\"Age\"] <= high_thres_age)]"
   ]
  },
  {
   "cell_type": "code",
   "execution_count": 232,
   "id": "4f47f333",
   "metadata": {},
   "outputs": [
    {
     "data": {
      "image/png": "[encoded data removed]",
      "text/plain": [
       "<Figure size 432x576 with 1 Axes>"
      ]
     },
     "metadata": {},
     "output_type": "display_data"
    }
   ],
   "source": [
    "fig, ax = plt.subplots(figsize = (6,8))\n",
    "\n",
    "plt.style.use(\"seaborn-white\")\n",
    "colours = [\"#ff6347\", \"#66CDAA\"]\n",
    "sns.set_palette(sns.color_palette(colours))\n",
    "\n",
    "sns.boxplot(x = \"Gender\", y = \"Age\", data = df)\n",
    "\n",
    "plt.title(\"Boxplot of Age by gender\", fontsize = 20)\n",
    "plt.xlabel(\"Gender\", fontsize = 18)\n",
    "plt.xticks(fontsize = 16)\n",
    "plt.ylabel(\"Age\", fontsize = 18)\n",
    "plt.yticks(fontsize = 16)\n",
    "plt.ylim(0, 120)\n",
    "\n",
    "plt.show()"
   ]
  },
  {
   "cell_type": "markdown",
   "id": "1cbd6968",
   "metadata": {},
   "source": [
    "<a id='3.B.4'></a>"
   ]
  },
  {
   "cell_type": "markdown",
   "id": "6d4d6ab4",
   "metadata": {},
   "source": [
    "### 3.B.4 n_comor and n_sym columns creation"
   ]
  },
  {
   "cell_type": "code",
   "execution_count": 233,
   "id": "64007ff2",
   "metadata": {},
   "outputs": [
    {
     "data": {
      "text/html": [
       "<div>\n",
       "<style scoped>\n",
       "    .dataframe tbody tr th:only-of-type {\n",
       "        vertical-align: middle;\n",
       "    }\n",
       "\n",
       "    .dataframe tbody tr th {\n",
       "        vertical-align: top;\n",
       "    }\n",
       "\n",
       "    .dataframe thead th {\n",
       "        text-align: right;\n",
       "    }\n",
       "</style>\n",
       "<table border=\"1\" class=\"dataframe\">\n",
       "  <thead>\n",
       "    <tr style=\"text-align: right;\">\n",
       "      <th></th>\n",
       "      <th>Register_date</th>\n",
       "      <th>Diagnosis_date</th>\n",
       "      <th>Death_date</th>\n",
       "      <th>Result_PCR</th>\n",
       "      <th>Result_RapidTest</th>\n",
       "      <th>Classification</th>\n",
       "      <th>Hospitalized</th>\n",
       "      <th>Evolution</th>\n",
       "      <th>Gender</th>\n",
       "      <th>Notification_age</th>\n",
       "      <th>...</th>\n",
       "      <th>Comorbidity_pulmonary</th>\n",
       "      <th>Comorbidity_cardiac</th>\n",
       "      <th>Comorbidity_renal</th>\n",
       "      <th>Comorbidity_diabetes</th>\n",
       "      <th>Comorbidity_smoking</th>\n",
       "      <th>Comorbidity_obesity</th>\n",
       "      <th>Delta_RegDiag</th>\n",
       "      <th>Delta_DeathReg</th>\n",
       "      <th>Age</th>\n",
       "      <th>n_comor</th>\n",
       "    </tr>\n",
       "  </thead>\n",
       "  <tbody>\n",
       "    <tr>\n",
       "      <th>1440</th>\n",
       "      <td>2021-11-11</td>\n",
       "      <td>2021-11-10</td>\n",
       "      <td>NaT</td>\n",
       "      <td>Positive</td>\n",
       "      <td>NaN</td>\n",
       "      <td>Confirmed</td>\n",
       "      <td>NaN</td>\n",
       "      <td>Cured</td>\n",
       "      <td>Femenine</td>\n",
       "      <td>39 anos, 1 meses, 13 dias</td>\n",
       "      <td>...</td>\n",
       "      <td>No</td>\n",
       "      <td>No</td>\n",
       "      <td>No</td>\n",
       "      <td>No</td>\n",
       "      <td>No</td>\n",
       "      <td>No</td>\n",
       "      <td>1</td>\n",
       "      <td>NaN</td>\n",
       "      <td>39.0</td>\n",
       "      <td>0</td>\n",
       "    </tr>\n",
       "    <tr>\n",
       "      <th>3082</th>\n",
       "      <td>2021-11-10</td>\n",
       "      <td>2021-11-08</td>\n",
       "      <td>NaT</td>\n",
       "      <td>Positive</td>\n",
       "      <td>NaN</td>\n",
       "      <td>Confirmed</td>\n",
       "      <td>No</td>\n",
       "      <td>Cured</td>\n",
       "      <td>Masculine</td>\n",
       "      <td>24 anos, 0 meses, 28 dias</td>\n",
       "      <td>...</td>\n",
       "      <td>No</td>\n",
       "      <td>No</td>\n",
       "      <td>No</td>\n",
       "      <td>No</td>\n",
       "      <td>No</td>\n",
       "      <td>No</td>\n",
       "      <td>2</td>\n",
       "      <td>NaN</td>\n",
       "      <td>24.0</td>\n",
       "      <td>0</td>\n",
       "    </tr>\n",
       "  </tbody>\n",
       "</table>\n",
       "<p>2 rows × 31 columns</p>\n",
       "</div>"
      ],
      "text/plain": [
       "     Register_date Diagnosis_date Death_date Result_PCR Result_RapidTest  \\\n",
       "1440    2021-11-11     2021-11-10        NaT   Positive              NaN   \n",
       "3082    2021-11-10     2021-11-08        NaT   Positive              NaN   \n",
       "\n",
       "     Classification Hospitalized Evolution     Gender  \\\n",
       "1440      Confirmed          NaN     Cured   Femenine   \n",
       "3082      Confirmed           No     Cured  Masculine   \n",
       "\n",
       "               Notification_age  ... Comorbidity_pulmonary  \\\n",
       "1440  39 anos, 1 meses, 13 dias  ...                    No   \n",
       "3082  24 anos, 0 meses, 28 dias  ...                    No   \n",
       "\n",
       "     Comorbidity_cardiac Comorbidity_renal Comorbidity_diabetes  \\\n",
       "1440                  No                No                   No   \n",
       "3082                  No                No                   No   \n",
       "\n",
       "     Comorbidity_smoking Comorbidity_obesity Delta_RegDiag Delta_DeathReg  \\\n",
       "1440                  No                  No             1            NaN   \n",
       "3082                  No                  No             2            NaN   \n",
       "\n",
       "       Age n_comor  \n",
       "1440  39.0       0  \n",
       "3082  24.0       0  \n",
       "\n",
       "[2 rows x 31 columns]"
      ]
     },
     "execution_count": 233,
     "metadata": {},
     "output_type": "execute_result"
    }
   ],
   "source": [
    "df[\"n_comor\"] = df[comorbidity_cols].replace({\"Yes\": 1, \"No\": 0}).fillna(0).astype(\"int\").sum(axis = 1)\n",
    "df.head(2)"
   ]
  },
  {
   "cell_type": "code",
   "execution_count": 234,
   "id": "8fc06f2d",
   "metadata": {},
   "outputs": [
    {
     "data": {
      "text/html": [
       "<div>\n",
       "<style scoped>\n",
       "    .dataframe tbody tr th:only-of-type {\n",
       "        vertical-align: middle;\n",
       "    }\n",
       "\n",
       "    .dataframe tbody tr th {\n",
       "        vertical-align: top;\n",
       "    }\n",
       "\n",
       "    .dataframe thead th {\n",
       "        text-align: right;\n",
       "    }\n",
       "</style>\n",
       "<table border=\"1\" class=\"dataframe\">\n",
       "  <thead>\n",
       "    <tr style=\"text-align: right;\">\n",
       "      <th></th>\n",
       "      <th>Register_date</th>\n",
       "      <th>Diagnosis_date</th>\n",
       "      <th>Death_date</th>\n",
       "      <th>Result_PCR</th>\n",
       "      <th>Result_RapidTest</th>\n",
       "      <th>Classification</th>\n",
       "      <th>Hospitalized</th>\n",
       "      <th>Evolution</th>\n",
       "      <th>Gender</th>\n",
       "      <th>Notification_age</th>\n",
       "      <th>...</th>\n",
       "      <th>Comorbidity_cardiac</th>\n",
       "      <th>Comorbidity_renal</th>\n",
       "      <th>Comorbidity_diabetes</th>\n",
       "      <th>Comorbidity_smoking</th>\n",
       "      <th>Comorbidity_obesity</th>\n",
       "      <th>Delta_RegDiag</th>\n",
       "      <th>Delta_DeathReg</th>\n",
       "      <th>Age</th>\n",
       "      <th>n_comor</th>\n",
       "      <th>n_symp</th>\n",
       "    </tr>\n",
       "  </thead>\n",
       "  <tbody>\n",
       "    <tr>\n",
       "      <th>1440</th>\n",
       "      <td>2021-11-11</td>\n",
       "      <td>2021-11-10</td>\n",
       "      <td>NaT</td>\n",
       "      <td>Positive</td>\n",
       "      <td>NaN</td>\n",
       "      <td>Confirmed</td>\n",
       "      <td>NaN</td>\n",
       "      <td>Cured</td>\n",
       "      <td>Femenine</td>\n",
       "      <td>39 anos, 1 meses, 13 dias</td>\n",
       "      <td>...</td>\n",
       "      <td>No</td>\n",
       "      <td>No</td>\n",
       "      <td>No</td>\n",
       "      <td>No</td>\n",
       "      <td>No</td>\n",
       "      <td>1</td>\n",
       "      <td>NaN</td>\n",
       "      <td>39.0</td>\n",
       "      <td>0</td>\n",
       "      <td>6</td>\n",
       "    </tr>\n",
       "    <tr>\n",
       "      <th>3082</th>\n",
       "      <td>2021-11-10</td>\n",
       "      <td>2021-11-08</td>\n",
       "      <td>NaT</td>\n",
       "      <td>Positive</td>\n",
       "      <td>NaN</td>\n",
       "      <td>Confirmed</td>\n",
       "      <td>No</td>\n",
       "      <td>Cured</td>\n",
       "      <td>Masculine</td>\n",
       "      <td>24 anos, 0 meses, 28 dias</td>\n",
       "      <td>...</td>\n",
       "      <td>No</td>\n",
       "      <td>No</td>\n",
       "      <td>No</td>\n",
       "      <td>No</td>\n",
       "      <td>No</td>\n",
       "      <td>2</td>\n",
       "      <td>NaN</td>\n",
       "      <td>24.0</td>\n",
       "      <td>0</td>\n",
       "      <td>4</td>\n",
       "    </tr>\n",
       "  </tbody>\n",
       "</table>\n",
       "<p>2 rows × 32 columns</p>\n",
       "</div>"
      ],
      "text/plain": [
       "     Register_date Diagnosis_date Death_date Result_PCR Result_RapidTest  \\\n",
       "1440    2021-11-11     2021-11-10        NaT   Positive              NaN   \n",
       "3082    2021-11-10     2021-11-08        NaT   Positive              NaN   \n",
       "\n",
       "     Classification Hospitalized Evolution     Gender  \\\n",
       "1440      Confirmed          NaN     Cured   Femenine   \n",
       "3082      Confirmed           No     Cured  Masculine   \n",
       "\n",
       "               Notification_age  ... Comorbidity_cardiac Comorbidity_renal  \\\n",
       "1440  39 anos, 1 meses, 13 dias  ...                  No                No   \n",
       "3082  24 anos, 0 meses, 28 dias  ...                  No                No   \n",
       "\n",
       "     Comorbidity_diabetes Comorbidity_smoking Comorbidity_obesity  \\\n",
       "1440                   No                  No                  No   \n",
       "3082                   No                  No                  No   \n",
       "\n",
       "     Delta_RegDiag Delta_DeathReg   Age n_comor n_symp  \n",
       "1440             1            NaN  39.0       0      6  \n",
       "3082             2            NaN  24.0       0      4  \n",
       "\n",
       "[2 rows x 32 columns]"
      ]
     },
     "execution_count": 234,
     "metadata": {},
     "output_type": "execute_result"
    }
   ],
   "source": [
    "df[\"n_symp\"] = df[symptoms_cols].replace({\"Yes\": 1, \"No\": 0}).fillna(0).astype(\"int\").sum(axis = 1)\n",
    "df.head(2)"
   ]
  },
  {
   "cell_type": "markdown",
   "id": "9cf4e46b",
   "metadata": {},
   "source": [
    "<a id='3.C'></a>"
   ]
  },
  {
   "cell_type": "markdown",
   "id": "06194515",
   "metadata": {},
   "source": [
    "### 3.C Filtered"
   ]
  },
  {
   "cell_type": "code",
   "execution_count": 235,
   "id": "2671907f",
   "metadata": {},
   "outputs": [],
   "source": [
    "mask_confirmed = df[\"Classification\"] == \"Confirmed\"\n",
    "df = df[mask_confirmed]"
   ]
  },
  {
   "cell_type": "markdown",
   "id": "dbcabe9a",
   "metadata": {},
   "source": [
    "- A confirmed patient is considered if it has a positive test. Otherwise it is discarded.\n",
    "- First, those patients who were confirmed by Covid will be searched for but do not have any tests to support it."
   ]
  },
  {
   "cell_type": "code",
   "execution_count": 236,
   "id": "de0935d5",
   "metadata": {},
   "outputs": [
    {
     "data": {
      "text/plain": [
       "Index(['Register_date', 'Diagnosis_date', 'Death_date', 'Result_PCR',\n",
       "       'Result_RapidTest', 'Classification', 'Hospitalized', 'Evolution',\n",
       "       'Gender', 'Notification_age', 'Range_age', 'Race', 'Pregnant',\n",
       "       'Disabled', 'Fever', 'Breath_difficulty', 'Cough', 'Rhinitis',\n",
       "       'Throat_pain', 'Diarrhea', 'Headache', 'Comorbidity_pulmonary',\n",
       "       'Comorbidity_cardiac', 'Comorbidity_renal', 'Comorbidity_diabetes',\n",
       "       'Comorbidity_smoking', 'Comorbidity_obesity', 'Delta_RegDiag',\n",
       "       'Delta_DeathReg', 'Age', 'n_comor', 'n_symp'],\n",
       "      dtype='object')"
      ]
     },
     "execution_count": 236,
     "metadata": {},
     "output_type": "execute_result"
    }
   ],
   "source": [
    "df.columns"
   ]
  },
  {
   "cell_type": "code",
   "execution_count": 237,
   "id": "e7f4f317",
   "metadata": {},
   "outputs": [
    {
     "data": {
      "text/plain": [
       "(29616, 32)"
      ]
     },
     "execution_count": 237,
     "metadata": {},
     "output_type": "execute_result"
    }
   ],
   "source": [
    "mask_PCR_not_positive = (df[\"Result_PCR\"] == \"Negative\") | (df[\"Result_PCR\"].isna())\n",
    "mask_RapidTest_not_positive = (df[\"Result_RapidTest\"] == \"Negative\") | (df[\"Result_RapidTest\"].isna())\n",
    "mask_not_positive = mask_PCR_not_positive & mask_RapidTest_not_positive\n",
    "df[mask_not_positive].shape"
   ]
  },
  {
   "cell_type": "markdown",
   "id": "40c02818",
   "metadata": {},
   "source": [
    "- There are 29622 that do not have any test that supports the confirmation of covid.\n",
    "\n",
    "- These are removed from the analysis."
   ]
  },
  {
   "cell_type": "code",
   "execution_count": 238,
   "id": "50c84d28",
   "metadata": {},
   "outputs": [
    {
     "data": {
      "text/plain": [
       "(384429, 32)"
      ]
     },
     "execution_count": 238,
     "metadata": {},
     "output_type": "execute_result"
    }
   ],
   "source": [
    "df = df[~mask_not_positive]\n",
    "df.shape"
   ]
  },
  {
   "cell_type": "code",
   "execution_count": 239,
   "id": "377f89e2",
   "metadata": {},
   "outputs": [],
   "source": [
    "df = df.reset_index().drop(\"index\", axis = 1)"
   ]
  },
  {
   "cell_type": "markdown",
   "id": "362a3af0",
   "metadata": {},
   "source": [
    "<a id='3.D'></a>"
   ]
  },
  {
   "cell_type": "markdown",
   "id": "f1d2deb4",
   "metadata": {},
   "source": [
    "### 3.D At last"
   ]
  },
  {
   "cell_type": "code",
   "execution_count": 240,
   "id": "494a02cb",
   "metadata": {},
   "outputs": [],
   "source": [
    "df = df.drop([\"Notification_age\", \"Range_age\"], axis = 1)"
   ]
  },
  {
   "cell_type": "code",
   "execution_count": 241,
   "id": "87be6fe0",
   "metadata": {},
   "outputs": [],
   "source": [
    "df.to_csv(\"df_to_analize.csv\", encoding = \"latin-1\")"
   ]
  }
 ],
 "metadata": {
  "kernelspec": {
   "display_name": "Python 3 (ipykernel)",
   "language": "python",
   "name": "python3"
  },
  "language_info": {
   "codemirror_mode": {
    "name": "ipython",
    "version": 3
   },
   "file_extension": ".py",
   "mimetype": "text/x-python",
   "name": "python",
   "nbconvert_exporter": "python",
   "pygments_lexer": "ipython3",
   "version": "3.9.12"
  }
 },
 "nbformat": 4,
 "nbformat_minor": 5
}
